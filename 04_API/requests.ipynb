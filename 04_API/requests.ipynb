{
 "cells": [
  {
   "cell_type": "markdown",
   "metadata": {},
   "source": [
    "# Demonstrations of `requests` Methods"
   ]
  },
  {
   "cell_type": "markdown",
   "metadata": {},
   "source": [
    "This notebook demonstrates the use of various HTTP methods using the `requests` library in Python. We will use `httpbin.org` for our examples, which is a simple HTTP Request & Response Service."
   ]
  },
  {
   "cell_type": "code",
   "execution_count": 1,
   "metadata": {},
   "outputs": [],
   "source": [
    "import requests\n",
    "import json"
   ]
  },
  {
   "cell_type": "markdown",
   "metadata": {},
   "source": [
    "## GET Request"
   ]
  },
  {
   "cell_type": "markdown",
   "metadata": {},
   "source": [
    "The GET method is used to request data from a specified resource."
   ]
  },
  {
   "cell_type": "code",
   "execution_count": 18,
   "metadata": {},
   "outputs": [
    {
     "name": "stdout",
     "output_type": "stream",
     "text": [
      "Status Code: 200\n",
      "Response JSON: {'args': {}, 'headers': {'Accept': '*/*', 'Accept-Encoding': 'gzip, deflate, zstd', 'Host': 'httpbin.org', 'User-Agent': 'python-requests/2.32.4', 'X-Amzn-Trace-Id': 'Root=1-687a07e6-1b0b2a2c70e24c43326e6c39'}, 'origin': '110.37.119.232', 'url': 'https://httpbin.org/get'}\n"
     ]
    }
   ],
   "source": [
    "from requests.models import Response\n",
    "from requests.structures import CaseInsensitiveDict\n",
    "\n",
    "response : Response = requests.get('https://httpbin.org/get')\n",
    "print(f\"Status Code: {response.status_code}\")\n",
    "print(f\"Response JSON: {response.json()}\")"
   ]
  },
  {
   "cell_type": "markdown",
   "metadata": {},
   "source": [
    "## POST Request"
   ]
  },
  {
   "cell_type": "markdown",
   "metadata": {},
   "source": [
    "The POST method is used to send data to a server to create a new resource."
   ]
  },
  {
   "cell_type": "code",
   "execution_count": 3,
   "metadata": {},
   "outputs": [
    {
     "name": "stdout",
     "output_type": "stream",
     "text": [
      "Status Code: 200\n",
      "Response JSON: {'args': {}, 'data': '{\"key\": \"value\", \"name\": \"Farhan\"}', 'files': {}, 'form': {}, 'headers': {'Accept': '*/*', 'Accept-Encoding': 'gzip, deflate, zstd', 'Content-Length': '34', 'Content-Type': 'application/json', 'Host': 'httpbin.org', 'User-Agent': 'python-requests/2.32.4', 'X-Amzn-Trace-Id': 'Root=1-687a06ba-4fd5075f69deab026bf0ab48'}, 'json': {'key': 'value', 'name': 'Farhan'}, 'origin': '110.37.119.232', 'url': 'https://httpbin.org/post'}\n"
     ]
    }
   ],
   "source": [
    "payload = {'key': 'value', 'name': 'Farhan'}\n",
    "response = requests.post('https://httpbin.org/post', json=payload)\n",
    "print(f\"Status Code: {response.status_code}\")\n",
    "print(f\"Response JSON: {response.json()}\")"
   ]
  },
  {
   "cell_type": "markdown",
   "metadata": {},
   "source": [
    "## PUT Request"
   ]
  },
  {
   "cell_type": "markdown",
   "metadata": {},
   "source": [
    "The PUT method is used to send data to a server to update a resource."
   ]
  },
  {
   "cell_type": "code",
   "execution_count": 4,
   "metadata": {},
   "outputs": [
    {
     "name": "stdout",
     "output_type": "stream",
     "text": [
      "Status Code: 200\n",
      "Response JSON: {'args': {}, 'data': '{\"key\": \"new_value\", \"name\": \"Farhan\"}', 'files': {}, 'form': {}, 'headers': {'Accept': '*/*', 'Accept-Encoding': 'gzip, deflate, zstd', 'Content-Length': '38', 'Content-Type': 'application/json', 'Host': 'httpbin.org', 'User-Agent': 'python-requests/2.32.4', 'X-Amzn-Trace-Id': 'Root=1-687a06bb-7e3dea440ff2757d6fab0ac6'}, 'json': {'key': 'new_value', 'name': 'Farhan'}, 'origin': '110.37.119.232', 'url': 'https://httpbin.org/put'}\n"
     ]
    }
   ],
   "source": [
    "payload = {'key': 'new_value', 'name': 'Farhan'}\n",
    "response = requests.put('https://httpbin.org/put', json=payload)\n",
    "print(f\"Status Code: {response.status_code}\")\n",
    "print(f\"Response JSON: {response.json()}\")"
   ]
  },
  {
   "cell_type": "markdown",
   "metadata": {},
   "source": [
    "## DELETE Request"
   ]
  },
  {
   "cell_type": "markdown",
   "metadata": {},
   "source": [
    "The DELETE method is used to delete the specified resource."
   ]
  },
  {
   "cell_type": "code",
   "execution_count": 5,
   "metadata": {},
   "outputs": [
    {
     "name": "stdout",
     "output_type": "stream",
     "text": [
      "Status Code: 200\n",
      "Response JSON: {'args': {}, 'data': '', 'files': {}, 'form': {}, 'headers': {'Accept': '*/*', 'Accept-Encoding': 'gzip, deflate, zstd', 'Content-Length': '0', 'Host': 'httpbin.org', 'User-Agent': 'python-requests/2.32.4', 'X-Amzn-Trace-Id': 'Root=1-687a06bc-28861f7a3f9a3cee1e10c4f6'}, 'json': None, 'origin': '110.37.119.232', 'url': 'https://httpbin.org/delete'}\n"
     ]
    }
   ],
   "source": [
    "response = requests.delete('https://httpbin.org/delete')\n",
    "print(f\"Status Code: {response.status_code}\")\n",
    "print(f\"Response JSON: {response.json()}\")"
   ]
  },
  {
   "cell_type": "markdown",
   "metadata": {},
   "source": [
    "## HEAD Request"
   ]
  },
  {
   "cell_type": "markdown",
   "metadata": {},
   "source": [
    "The HEAD method is almost identical to GET, but it doesn't retrieve the response body. It's useful for checking what a GET request will return without having to download all the content."
   ]
  },
  {
   "cell_type": "code",
   "execution_count": 6,
   "metadata": {},
   "outputs": [
    {
     "name": "stdout",
     "output_type": "stream",
     "text": [
      "Status Code: 200\n",
      "Headers: {'Date': 'Fri, 18 Jul 2025 08:33:03 GMT', 'Content-Type': 'application/json', 'Content-Length': '314', 'Connection': 'keep-alive', 'Server': 'gunicorn/19.9.0', 'Access-Control-Allow-Origin': '*', 'Access-Control-Allow-Credentials': 'true'}\n"
     ]
    }
   ],
   "source": [
    "response = requests.head('https://httpbin.org/get')\n",
    "print(f\"Status Code: {response.status_code}\")\n",
    "print(f\"Headers: {response.headers}\")"
   ]
  },
  {
   "cell_type": "markdown",
   "metadata": {},
   "source": [
    "## PATCH Request"
   ]
  },
  {
   "cell_type": "markdown",
   "metadata": {},
   "source": [
    "The PATCH method is used to apply partial modifications to a resource."
   ]
  },
  {
   "cell_type": "code",
   "execution_count": 7,
   "metadata": {},
   "outputs": [
    {
     "name": "stdout",
     "output_type": "stream",
     "text": [
      "Status Code: 200\n",
      "Response JSON: {'args': {}, 'data': '{\"key\": \"patched_value\"}', 'files': {}, 'form': {}, 'headers': {'Accept': '*/*', 'Accept-Encoding': 'gzip, deflate, zstd', 'Content-Length': '24', 'Content-Type': 'application/json', 'Host': 'httpbin.org', 'User-Agent': 'python-requests/2.32.4', 'X-Amzn-Trace-Id': 'Root=1-687a06bf-3550590767ddbd9558d2ad45'}, 'json': {'key': 'patched_value'}, 'origin': '110.37.119.232', 'url': 'https://httpbin.org/patch'}\n"
     ]
    }
   ],
   "source": [
    "payload = {'key': 'patched_value'}\n",
    "response = requests.patch('https://httpbin.org/patch', json=payload)\n",
    "print(f\"Status Code: {response.status_code}\")\n",
    "print(f\"Response JSON: {response.json()}\")"
   ]
  },
  {
   "cell_type": "markdown",
   "metadata": {},
   "source": [
    "## OPTIONS Request"
   ]
  },
  {
   "cell_type": "markdown",
   "metadata": {},
   "source": [
    "The OPTIONS method is used to describe the communication options for the target resource."
   ]
  },
  {
   "cell_type": "code",
   "execution_count": 8,
   "metadata": {},
   "outputs": [
    {
     "name": "stdout",
     "output_type": "stream",
     "text": [
      "Status Code: 200\n",
      "Allowed Methods: OPTIONS, GET, HEAD\n"
     ]
    }
   ],
   "source": [
    "response = requests.options('https://httpbin.org/get')\n",
    "print(f\"Status Code: {response.status_code}\")\n",
    "print(f\"Allowed Methods: {response.headers['Allow']}\")"
   ]
  }
 ],
 "metadata": {
  "kernelspec": {
   "display_name": "streamlit",
   "language": "python",
   "name": "python3"
  },
  "language_info": {
   "codemirror_mode": {
    "name": "ipython",
    "version": 3
   },
   "file_extension": ".py",
   "mimetype": "text/x-python",
   "name": "python",
   "nbconvert_exporter": "python",
   "pygments_lexer": "ipython3",
   "version": "3.11.13"
  }
 },
 "nbformat": 4,
 "nbformat_minor": 4
}
