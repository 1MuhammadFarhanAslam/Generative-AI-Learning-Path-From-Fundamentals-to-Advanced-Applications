{
 "cells": [
  {
   "cell_type": "markdown",
   "id": "8f02dc78",
   "metadata": {},
   "source": [
    "# **Streaming Response**"
   ]
  },
  {
   "cell_type": "code",
   "execution_count": 1,
   "id": "15c28f42",
   "metadata": {},
   "outputs": [
    {
     "name": "stdout",
     "output_type": "stream",
     "text": [
      "Requirement already satisfied: openai in c:\\users\\farhanarain\\anaconda3\\envs\\streamlit\\lib\\site-packages (from -r requirements.txt (line 1)) (1.96.1)\n",
      "Requirement already satisfied: python-dotenv in c:\\users\\farhanarain\\anaconda3\\envs\\streamlit\\lib\\site-packages (from -r requirements.txt (line 2)) (1.1.1)\n",
      "Requirement already satisfied: anyio<5,>=3.5.0 in c:\\users\\farhanarain\\anaconda3\\envs\\streamlit\\lib\\site-packages (from openai->-r requirements.txt (line 1)) (4.9.0)\n",
      "Requirement already satisfied: distro<2,>=1.7.0 in c:\\users\\farhanarain\\anaconda3\\envs\\streamlit\\lib\\site-packages (from openai->-r requirements.txt (line 1)) (1.9.0)\n",
      "Requirement already satisfied: httpx<1,>=0.23.0 in c:\\users\\farhanarain\\anaconda3\\envs\\streamlit\\lib\\site-packages (from openai->-r requirements.txt (line 1)) (0.28.1)\n",
      "Requirement already satisfied: jiter<1,>=0.4.0 in c:\\users\\farhanarain\\anaconda3\\envs\\streamlit\\lib\\site-packages (from openai->-r requirements.txt (line 1)) (0.10.0)\n",
      "Requirement already satisfied: pydantic<3,>=1.9.0 in c:\\users\\farhanarain\\anaconda3\\envs\\streamlit\\lib\\site-packages (from openai->-r requirements.txt (line 1)) (2.11.7)\n",
      "Requirement already satisfied: sniffio in c:\\users\\farhanarain\\anaconda3\\envs\\streamlit\\lib\\site-packages (from openai->-r requirements.txt (line 1)) (1.3.1)\n",
      "Requirement already satisfied: tqdm>4 in c:\\users\\farhanarain\\anaconda3\\envs\\streamlit\\lib\\site-packages (from openai->-r requirements.txt (line 1)) (4.67.1)\n",
      "Requirement already satisfied: typing-extensions<5,>=4.11 in c:\\users\\farhanarain\\anaconda3\\envs\\streamlit\\lib\\site-packages (from openai->-r requirements.txt (line 1)) (4.12.2)\n",
      "Requirement already satisfied: idna>=2.8 in c:\\users\\farhanarain\\anaconda3\\envs\\streamlit\\lib\\site-packages (from anyio<5,>=3.5.0->openai->-r requirements.txt (line 1)) (3.10)\n",
      "Requirement already satisfied: certifi in c:\\users\\farhanarain\\anaconda3\\envs\\streamlit\\lib\\site-packages (from httpx<1,>=0.23.0->openai->-r requirements.txt (line 1)) (2025.7.9)\n",
      "Requirement already satisfied: httpcore==1.* in c:\\users\\farhanarain\\anaconda3\\envs\\streamlit\\lib\\site-packages (from httpx<1,>=0.23.0->openai->-r requirements.txt (line 1)) (1.0.9)\n",
      "Requirement already satisfied: h11>=0.16 in c:\\users\\farhanarain\\anaconda3\\envs\\streamlit\\lib\\site-packages (from httpcore==1.*->httpx<1,>=0.23.0->openai->-r requirements.txt (line 1)) (0.16.0)\n",
      "Requirement already satisfied: annotated-types>=0.6.0 in c:\\users\\farhanarain\\anaconda3\\envs\\streamlit\\lib\\site-packages (from pydantic<3,>=1.9.0->openai->-r requirements.txt (line 1)) (0.7.0)\n",
      "Requirement already satisfied: pydantic-core==2.33.2 in c:\\users\\farhanarain\\anaconda3\\envs\\streamlit\\lib\\site-packages (from pydantic<3,>=1.9.0->openai->-r requirements.txt (line 1)) (2.33.2)\n",
      "Requirement already satisfied: typing-inspection>=0.4.0 in c:\\users\\farhanarain\\anaconda3\\envs\\streamlit\\lib\\site-packages (from pydantic<3,>=1.9.0->openai->-r requirements.txt (line 1)) (0.4.1)\n",
      "Requirement already satisfied: colorama in c:\\users\\farhanarain\\anaconda3\\envs\\streamlit\\lib\\site-packages (from tqdm>4->openai->-r requirements.txt (line 1)) (0.4.6)\n",
      "Note: you may need to restart the kernel to use updated packages.\n"
     ]
    }
   ],
   "source": [
    "%pip install -r requirements.txt"
   ]
  },
  {
   "cell_type": "code",
   "execution_count": 2,
   "id": "b0a1b5a0",
   "metadata": {},
   "outputs": [],
   "source": [
    "import os\n",
    "from openai import OpenAI\n",
    "from dotenv import find_dotenv, load_dotenv"
   ]
  },
  {
   "cell_type": "code",
   "execution_count": 3,
   "id": "c9848a22",
   "metadata": {},
   "outputs": [],
   "source": [
    "_ : bool = load_dotenv(find_dotenv()) # read local .env file\n",
    "\n",
    "client : OpenAI = OpenAI()"
   ]
  },
  {
   "cell_type": "code",
   "execution_count": 4,
   "id": "dbe31bff",
   "metadata": {},
   "outputs": [
    {
     "data": {
      "text/plain": [
       "True"
      ]
     },
     "execution_count": 4,
     "metadata": {},
     "output_type": "execute_result"
    }
   ],
   "source": [
    "_"
   ]
  },
  {
   "cell_type": "code",
   "execution_count": 5,
   "id": "42cde573",
   "metadata": {},
   "outputs": [
    {
     "name": "stdout",
     "output_type": "stream",
     "text": [
      "🔐 OpenAI Key Loaded: True\n"
     ]
    }
   ],
   "source": [
    "# Get the key\n",
    "api_key = os.getenv(\"OPENAI_API_KEY\")\n",
    "\n",
    "# Check and print whether it's loaded\n",
    "if api_key:\n",
    "    print(\"🔐 OpenAI Key Loaded:\", bool(api_key))  # True or False\n",
    "if not api_key:\n",
    "    raise EnvironmentError(\"❌ OPENAI_API_KEY not found in .env file!\")"
   ]
  },
  {
   "cell_type": "code",
   "execution_count": 6,
   "id": "c5859095",
   "metadata": {},
   "outputs": [
    {
     "name": "stdout",
     "output_type": "stream",
     "text": [
      " The Israel-Palestine conflict is a long-standing and complex issue rooted in historical, religious, and political tensions between Israelis and Palestinians. The conflict dates back to the early 20th century when Jewish immigration to the region increased as a result of the Zionist movement, which sought to establish a Jewish homeland in historic Palestine. This led to tensions with the Arab population, primarily Palestinian Arabs, who also claimed the land as their own.\n",
      "\n",
      "The conflict escalated in 1948 with the establishment of the State of Israel, following the United Nations partition plan that divided historic Palestine into separate Jewish and Arab states. The Arab-Israeli War that ensued resulted in the displacement of hundreds of thousands of Palestinians, creating a refugee crisis that persists to this day.\n",
      "\n",
      "Since then, there have been several major conflicts and cycles of violence between Israelis and Palestinians, including the Six-Day War in 1967 and the two Intifadas in the late 20th century. The core issues at the heart of the conflict include the status of Jerusalem, the borders of a future Palestinian state, the right of return for Palestinian refugees, and the security concerns of both Israelis and Palestinians.\n",
      "\n",
      "Efforts to resolve the conflict have been made through negotiations, including the Oslo Accords in the 1990s, which aimed to establish a framework for peace between the two sides. However, peace talks have been repeatedly derailed by factors such as ongoing violence, settlement expansion in the West Bank, political divisions among Palestinians, and a lack of mutual trust between the parties.\n",
      "\n",
      "The situation in recent years has been marked by periodic outbreaks of violence, with tensions often escalating around sensitive sites such as the Al-Aqsa Mosque in Jerusalem. The conflict has also been influenced by regional and international dynamics, with countries such as the United States, Russia, and various Arab states playing roles in mediating or exacerbating tensions.\n",
      "\n",
      "Efforts to resolve the conflict continue, with various proposals for a two-state solution, a one-state solution, or other forms of coexistence being put forward by different stakeholders. Finding a lasting and just resolution to the Israel-Palestine conflict remains a significant challenge, requiring genuine willingness on both sides to compromise, address core grievances, and work towards peaceful coexistence."
     ]
    }
   ],
   "source": [
    "from openai.types.chat import ChatCompletionChunk\n",
    "\n",
    "\n",
    "def stream_message(messages: list[dict], model: str = \"gpt-3.5-turbo\", max_tokens: int = 512) -> None:\n",
    "    \"\"\"\n",
    "    Streams a long response from OpenAI's chat model on a given message context.\n",
    "\n",
    "    Args:\n",
    "        messages (list): List of role-based messages.\n",
    "        model (str): Model name (gpt-3.5-turbo, gpt-4, etc.)\n",
    "        max_tokens (int): Max length of streamed output.\n",
    "    \"\"\"\n",
    "    response = client.chat.completions.create(\n",
    "        model=model,\n",
    "        messages=messages,\n",
    "        max_tokens=max_tokens,\n",
    "        stream=True \n",
    "    )\n",
    "\n",
    "    print(end=\" \", flush=True)\n",
    "    for chunk in response:\n",
    "        if isinstance(chunk, ChatCompletionChunk):\n",
    "            delta = chunk.choices[0].delta\n",
    "            content = delta.content or \"\"\n",
    "            print(content, end=\"\", flush=True)\n",
    "\n",
    "# 🔍 Streaming long opinion on Israel-Palestine issue\n",
    "if __name__ == \"__main__\":\n",
    "    messages = [\n",
    "        {\"role\": \"system\", \"content\": \"You are a political analyst who explains complex topics clearly and factually.\"},\n",
    "        {\"role\": \"user\", \"content\": \"Explain the current Israel-Palestine issue neutrally and in detail.\"}\n",
    "    ]\n",
    "\n",
    "    stream_message(messages, max_tokens=512)\n"
   ]
  },
  {
   "cell_type": "code",
   "execution_count": null,
   "metadata": {},
   "outputs": [],
   "source": []
  },
  {
   "cell_type": "code",
   "execution_count": null,
   "metadata": {},
   "outputs": [],
   "source": []
  },
  {
   "cell_type": "code",
   "execution_count": null,
   "id": "0225056b",
   "metadata": {},
   "outputs": [],
   "source": []
  }
 ],
 "metadata": {
  "kernelspec": {
   "display_name": "streamlit",
   "language": "python",
   "name": "python3"
  },
  "language_info": {
   "codemirror_mode": {
    "name": "ipython",
    "version": 3
   },
   "file_extension": ".py",
   "mimetype": "text/x-python",
   "name": "python",
   "nbconvert_exporter": "python",
   "pygments_lexer": "ipython3",
   "version": "3.11.13"
  }
 },
 "nbformat": 4,
 "nbformat_minor": 5
}
