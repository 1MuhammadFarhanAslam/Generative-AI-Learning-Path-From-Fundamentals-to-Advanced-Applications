{
 "cells": [
  {
   "cell_type": "markdown",
   "id": "96c0a858",
   "metadata": {},
   "source": [
    "# **Json mode**\n",
    "\n",
    "- https://platform.openai.com/docs/guides/structured-outputs?api-mode=responses"
   ]
  },
  {
   "cell_type": "code",
   "execution_count": 1,
   "id": "52f12b4c",
   "metadata": {},
   "outputs": [
    {
     "name": "stdout",
     "output_type": "stream",
     "text": [
      "Requirement already satisfied: openai in c:\\users\\farhanarain\\anaconda3\\envs\\streamlit\\lib\\site-packages (from -r requirements.txt (line 1)) (1.96.1)\n",
      "Requirement already satisfied: python-dotenv in c:\\users\\farhanarain\\anaconda3\\envs\\streamlit\\lib\\site-packages (from -r requirements.txt (line 2)) (1.1.1)\n",
      "Requirement already satisfied: anyio<5,>=3.5.0 in c:\\users\\farhanarain\\anaconda3\\envs\\streamlit\\lib\\site-packages (from openai->-r requirements.txt (line 1)) (4.9.0)\n",
      "Requirement already satisfied: distro<2,>=1.7.0 in c:\\users\\farhanarain\\anaconda3\\envs\\streamlit\\lib\\site-packages (from openai->-r requirements.txt (line 1)) (1.9.0)\n",
      "Requirement already satisfied: httpx<1,>=0.23.0 in c:\\users\\farhanarain\\anaconda3\\envs\\streamlit\\lib\\site-packages (from openai->-r requirements.txt (line 1)) (0.28.1)\n",
      "Requirement already satisfied: jiter<1,>=0.4.0 in c:\\users\\farhanarain\\anaconda3\\envs\\streamlit\\lib\\site-packages (from openai->-r requirements.txt (line 1)) (0.10.0)\n",
      "Requirement already satisfied: pydantic<3,>=1.9.0 in c:\\users\\farhanarain\\anaconda3\\envs\\streamlit\\lib\\site-packages (from openai->-r requirements.txt (line 1)) (2.11.7)\n",
      "Requirement already satisfied: sniffio in c:\\users\\farhanarain\\anaconda3\\envs\\streamlit\\lib\\site-packages (from openai->-r requirements.txt (line 1)) (1.3.1)\n",
      "Requirement already satisfied: tqdm>4 in c:\\users\\farhanarain\\anaconda3\\envs\\streamlit\\lib\\site-packages (from openai->-r requirements.txt (line 1)) (4.67.1)\n",
      "Requirement already satisfied: typing-extensions<5,>=4.11 in c:\\users\\farhanarain\\anaconda3\\envs\\streamlit\\lib\\site-packages (from openai->-r requirements.txt (line 1)) (4.12.2)\n",
      "Requirement already satisfied: idna>=2.8 in c:\\users\\farhanarain\\anaconda3\\envs\\streamlit\\lib\\site-packages (from anyio<5,>=3.5.0->openai->-r requirements.txt (line 1)) (3.10)\n",
      "Requirement already satisfied: certifi in c:\\users\\farhanarain\\anaconda3\\envs\\streamlit\\lib\\site-packages (from httpx<1,>=0.23.0->openai->-r requirements.txt (line 1)) (2025.7.9)\n",
      "Requirement already satisfied: httpcore==1.* in c:\\users\\farhanarain\\anaconda3\\envs\\streamlit\\lib\\site-packages (from httpx<1,>=0.23.0->openai->-r requirements.txt (line 1)) (1.0.9)\n",
      "Requirement already satisfied: h11>=0.16 in c:\\users\\farhanarain\\anaconda3\\envs\\streamlit\\lib\\site-packages (from httpcore==1.*->httpx<1,>=0.23.0->openai->-r requirements.txt (line 1)) (0.16.0)\n",
      "Requirement already satisfied: annotated-types>=0.6.0 in c:\\users\\farhanarain\\anaconda3\\envs\\streamlit\\lib\\site-packages (from pydantic<3,>=1.9.0->openai->-r requirements.txt (line 1)) (0.7.0)\n",
      "Requirement already satisfied: pydantic-core==2.33.2 in c:\\users\\farhanarain\\anaconda3\\envs\\streamlit\\lib\\site-packages (from pydantic<3,>=1.9.0->openai->-r requirements.txt (line 1)) (2.33.2)\n",
      "Requirement already satisfied: typing-inspection>=0.4.0 in c:\\users\\farhanarain\\anaconda3\\envs\\streamlit\\lib\\site-packages (from pydantic<3,>=1.9.0->openai->-r requirements.txt (line 1)) (0.4.1)\n",
      "Requirement already satisfied: colorama in c:\\users\\farhanarain\\anaconda3\\envs\\streamlit\\lib\\site-packages (from tqdm>4->openai->-r requirements.txt (line 1)) (0.4.6)\n",
      "Note: you may need to restart the kernel to use updated packages.\n"
     ]
    }
   ],
   "source": [
    "%pip install -r requirements.txt"
   ]
  },
  {
   "cell_type": "code",
   "execution_count": 2,
   "id": "0f746e92",
   "metadata": {},
   "outputs": [],
   "source": [
    "import os\n",
    "from openai import OpenAI\n",
    "from dotenv import find_dotenv, load_dotenv"
   ]
  },
  {
   "cell_type": "code",
   "execution_count": 3,
   "id": "a22524cd",
   "metadata": {},
   "outputs": [],
   "source": [
    "_ : bool = load_dotenv(find_dotenv()) # read local .env file\n",
    "\n",
    "client : OpenAI = OpenAI()"
   ]
  },
  {
   "cell_type": "code",
   "execution_count": 4,
   "id": "f76d4a2b",
   "metadata": {},
   "outputs": [
    {
     "data": {
      "text/plain": [
       "True"
      ]
     },
     "execution_count": 4,
     "metadata": {},
     "output_type": "execute_result"
    }
   ],
   "source": [
    "_"
   ]
  },
  {
   "cell_type": "code",
   "execution_count": 5,
   "id": "7f29035f",
   "metadata": {},
   "outputs": [
    {
     "name": "stdout",
     "output_type": "stream",
     "text": [
      "🔐 OpenAI Key Loaded: True\n"
     ]
    }
   ],
   "source": [
    "# Get the key\n",
    "api_key = os.getenv(\"OPENAI_API_KEY\")\n",
    "\n",
    "# Check and print whether it's loaded\n",
    "if api_key:\n",
    "    print(\"🔐 OpenAI Key Loaded:\", bool(api_key))  # True or False\n",
    "if not api_key:\n",
    "    raise EnvironmentError(\"❌ OPENAI_API_KEY not found in .env file!\")"
   ]
  },
  {
   "cell_type": "code",
   "execution_count": 18,
   "id": "b566ece2",
   "metadata": {},
   "outputs": [
    {
     "name": "stdout",
     "output_type": "stream",
     "text": [
      "{\n",
      "  \"itinerary\": {\n",
      "    \"Day 1\": {\n",
      "      \"morning\": \"Visit the Hagia Sophia, a historic museum and architectural masterpiece.\",\n",
      "      \"afternoon\": \"Explore the Grand Bazaar for some shopping and to experience the local culture.\",\n",
      "      \"evening\": \"Enjoy a romantic dinner at a traditional Turkish restaurant near the Bosphorus.\"\n",
      "    },\n",
      "    \"Day 2\": {\n",
      "      \"morning\": \"Take a Bosphorus cruise to see the city from the water and visit the Dolmabahçe Palace.\",\n",
      "      \"afternoon\": \"Visit the Topkapi Palace and wander through the beautiful gardens.\",\n",
      "      \"evening\": \"Experience the vibrant nightlife in the Beyoglu district with its many cafes and bars.\"\n",
      "    },\n",
      "    \"Day 3\": {\n",
      "      \"morning\": \"Visit the Blue Mosque, also known as Sultan Ahmed Mosque, a stunning architectural marvel.\",\n",
      "      \"afternoon\": \"Explore the vibrant neighborhood of Karakoy and enjoy a traditional Turkish tea at a local cafe.\",\n",
      "      \"evening\": \"Visit the Galata Tower for a stunning panoramic view of the city at sunset.\"\n",
      "    }\n",
      "  },\n",
      "  \"accommodation\": {\n",
      "    \"name\": \"Five-star hotel in Sultanahmet\",\n",
      "    \"features\": [\n",
      "      \"Breathtaking views of the city\",\n",
      "      \"Luxurious amenities\",\n",
      "      \"Central location\"\n",
      "    ]\n",
      "  },\n",
      "  \"dining\": {\n",
      "    \"recommendations\": [\n",
      "      \"Traditional Turkish cuisine\",\n",
      "      \"Seafood restaurants along the Bosphorus\",\n",
      "      \"Rooftop restaurants with panoramic views\"\n",
      "    ]\n",
      "  },\n",
      "  \"transportation\": {\n",
      "    \"suggestions\": [\n",
      "      \"Use the Istanbulkart for convenient and affordable public transportation\",\n",
      "      \"Consider taking a private taxi or using ride-hailing services for convenience\"\n",
      "    ]\n",
      "  }\n",
      "}\n"
     ]
    }
   ],
   "source": [
    "from openai import OpenAI\n",
    "import json\n",
    "from openai.types.chat.chat_completion import ChatCompletion\n",
    "\n",
    "response : ChatCompletion = client.chat.completions.create(\n",
    "    model=\"gpt-3.5-turbo-1106\",  \n",
    "    messages=[\n",
    "        {\"role\": \"system\", \"content\": \"You are a travel planner that responds only in JSON.\"},\n",
    "        {\"role\": \"user\", \"content\": \"Plan a 3-day trip to Istanbul for a couple.\"}\n",
    "    ],\n",
    "    response_format={ \"type\": \"json_object\" }\n",
    ")\n",
    "\n",
    "# Get the JSON string from the model\n",
    "json_response = response.choices[0].message.content\n",
    "print(json_response)"
   ]
  },
  {
   "cell_type": "code",
   "execution_count": 19,
   "id": "e1869741",
   "metadata": {},
   "outputs": [],
   "source": [
    "import json\n",
    "\n",
    "data = json.loads(json_response)"
   ]
  },
  {
   "cell_type": "code",
   "execution_count": 20,
   "id": "35bc8139",
   "metadata": {},
   "outputs": [
    {
     "data": {
      "text/plain": [
       "{'itinerary': {'Day 1': {'morning': 'Visit the Hagia Sophia, a historic museum and architectural masterpiece.',\n",
       "   'afternoon': 'Explore the Grand Bazaar for some shopping and to experience the local culture.',\n",
       "   'evening': 'Enjoy a romantic dinner at a traditional Turkish restaurant near the Bosphorus.'},\n",
       "  'Day 2': {'morning': 'Take a Bosphorus cruise to see the city from the water and visit the Dolmabahçe Palace.',\n",
       "   'afternoon': 'Visit the Topkapi Palace and wander through the beautiful gardens.',\n",
       "   'evening': 'Experience the vibrant nightlife in the Beyoglu district with its many cafes and bars.'},\n",
       "  'Day 3': {'morning': 'Visit the Blue Mosque, also known as Sultan Ahmed Mosque, a stunning architectural marvel.',\n",
       "   'afternoon': 'Explore the vibrant neighborhood of Karakoy and enjoy a traditional Turkish tea at a local cafe.',\n",
       "   'evening': 'Visit the Galata Tower for a stunning panoramic view of the city at sunset.'}},\n",
       " 'accommodation': {'name': 'Five-star hotel in Sultanahmet',\n",
       "  'features': ['Breathtaking views of the city',\n",
       "   'Luxurious amenities',\n",
       "   'Central location']},\n",
       " 'dining': {'recommendations': ['Traditional Turkish cuisine',\n",
       "   'Seafood restaurants along the Bosphorus',\n",
       "   'Rooftop restaurants with panoramic views']},\n",
       " 'transportation': {'suggestions': ['Use the Istanbulkart for convenient and affordable public transportation',\n",
       "   'Consider taking a private taxi or using ride-hailing services for convenience']}}"
      ]
     },
     "execution_count": 20,
     "metadata": {},
     "output_type": "execute_result"
    }
   ],
   "source": [
    "data"
   ]
  },
  {
   "cell_type": "code",
   "execution_count": null,
   "id": "9bd36c81",
   "metadata": {},
   "outputs": [],
   "source": []
  }
 ],
 "metadata": {
  "kernelspec": {
   "display_name": "streamlit",
   "language": "python",
   "name": "python3"
  },
  "language_info": {
   "codemirror_mode": {
    "name": "ipython",
    "version": 3
   },
   "file_extension": ".py",
   "mimetype": "text/x-python",
   "name": "python",
   "nbconvert_exporter": "python",
   "pygments_lexer": "ipython3",
   "version": "3.11.13"
  }
 },
 "nbformat": 4,
 "nbformat_minor": 5
}
