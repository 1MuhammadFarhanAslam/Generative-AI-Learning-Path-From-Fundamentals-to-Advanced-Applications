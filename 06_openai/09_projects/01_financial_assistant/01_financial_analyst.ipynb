{
 "cells": [
  {
   "cell_type": "markdown",
   "id": "77bd6f21",
   "metadata": {},
   "source": [
    "## **Project 1: Financial Assistant**"
   ]
  },
  {
   "cell_type": "code",
   "execution_count": 1,
   "id": "c62e243f",
   "metadata": {},
   "outputs": [
    {
     "name": "stdout",
     "output_type": "stream",
     "text": [
      "Requirement already satisfied: openai in c:\\users\\farhanarain\\anaconda3\\envs\\streamlit\\lib\\site-packages (from -r requirements.txt (line 1)) (1.97.0)\n",
      "Requirement already satisfied: python-dotenv in c:\\users\\farhanarain\\anaconda3\\envs\\streamlit\\lib\\site-packages (from -r requirements.txt (line 2)) (1.1.1)\n",
      "Requirement already satisfied: yfinance in c:\\users\\farhanarain\\anaconda3\\envs\\streamlit\\lib\\site-packages (from -r requirements.txt (line 3)) (0.2.65)\n",
      "Requirement already satisfied: ccxt in c:\\users\\farhanarain\\anaconda3\\envs\\streamlit\\lib\\site-packages (from -r requirements.txt (line 4)) (4.4.95)\n",
      "Requirement already satisfied: anyio<5,>=3.5.0 in c:\\users\\farhanarain\\anaconda3\\envs\\streamlit\\lib\\site-packages (from openai->-r requirements.txt (line 1)) (4.9.0)\n",
      "Requirement already satisfied: distro<2,>=1.7.0 in c:\\users\\farhanarain\\anaconda3\\envs\\streamlit\\lib\\site-packages (from openai->-r requirements.txt (line 1)) (1.9.0)\n",
      "Requirement already satisfied: httpx<1,>=0.23.0 in c:\\users\\farhanarain\\anaconda3\\envs\\streamlit\\lib\\site-packages (from openai->-r requirements.txt (line 1)) (0.28.1)\n",
      "Requirement already satisfied: jiter<1,>=0.4.0 in c:\\users\\farhanarain\\anaconda3\\envs\\streamlit\\lib\\site-packages (from openai->-r requirements.txt (line 1)) (0.10.0)\n",
      "Requirement already satisfied: pydantic<3,>=1.9.0 in c:\\users\\farhanarain\\anaconda3\\envs\\streamlit\\lib\\site-packages (from openai->-r requirements.txt (line 1)) (2.11.7)\n",
      "Requirement already satisfied: sniffio in c:\\users\\farhanarain\\anaconda3\\envs\\streamlit\\lib\\site-packages (from openai->-r requirements.txt (line 1)) (1.3.1)\n",
      "Requirement already satisfied: tqdm>4 in c:\\users\\farhanarain\\anaconda3\\envs\\streamlit\\lib\\site-packages (from openai->-r requirements.txt (line 1)) (4.67.1)\n",
      "Requirement already satisfied: typing-extensions<5,>=4.11 in c:\\users\\farhanarain\\anaconda3\\envs\\streamlit\\lib\\site-packages (from openai->-r requirements.txt (line 1)) (4.12.2)\n",
      "Requirement already satisfied: idna>=2.8 in c:\\users\\farhanarain\\anaconda3\\envs\\streamlit\\lib\\site-packages (from anyio<5,>=3.5.0->openai->-r requirements.txt (line 1)) (3.10)\n",
      "Requirement already satisfied: certifi in c:\\users\\farhanarain\\anaconda3\\envs\\streamlit\\lib\\site-packages (from httpx<1,>=0.23.0->openai->-r requirements.txt (line 1)) (2025.7.9)\n",
      "Requirement already satisfied: httpcore==1.* in c:\\users\\farhanarain\\anaconda3\\envs\\streamlit\\lib\\site-packages (from httpx<1,>=0.23.0->openai->-r requirements.txt (line 1)) (1.0.9)\n",
      "Requirement already satisfied: h11>=0.16 in c:\\users\\farhanarain\\anaconda3\\envs\\streamlit\\lib\\site-packages (from httpcore==1.*->httpx<1,>=0.23.0->openai->-r requirements.txt (line 1)) (0.16.0)\n",
      "Requirement already satisfied: annotated-types>=0.6.0 in c:\\users\\farhanarain\\anaconda3\\envs\\streamlit\\lib\\site-packages (from pydantic<3,>=1.9.0->openai->-r requirements.txt (line 1)) (0.7.0)\n",
      "Requirement already satisfied: pydantic-core==2.33.2 in c:\\users\\farhanarain\\anaconda3\\envs\\streamlit\\lib\\site-packages (from pydantic<3,>=1.9.0->openai->-r requirements.txt (line 1)) (2.33.2)\n",
      "Requirement already satisfied: typing-inspection>=0.4.0 in c:\\users\\farhanarain\\anaconda3\\envs\\streamlit\\lib\\site-packages (from pydantic<3,>=1.9.0->openai->-r requirements.txt (line 1)) (0.4.1)\n",
      "Requirement already satisfied: pandas>=1.3.0 in c:\\users\\farhanarain\\anaconda3\\envs\\streamlit\\lib\\site-packages (from yfinance->-r requirements.txt (line 3)) (2.3.1)\n",
      "Requirement already satisfied: numpy>=1.16.5 in c:\\users\\farhanarain\\anaconda3\\envs\\streamlit\\lib\\site-packages (from yfinance->-r requirements.txt (line 3)) (2.3.1)\n",
      "Requirement already satisfied: requests>=2.31 in c:\\users\\farhanarain\\anaconda3\\envs\\streamlit\\lib\\site-packages (from yfinance->-r requirements.txt (line 3)) (2.32.4)\n",
      "Requirement already satisfied: multitasking>=0.0.7 in c:\\users\\farhanarain\\anaconda3\\envs\\streamlit\\lib\\site-packages (from yfinance->-r requirements.txt (line 3)) (0.0.12)\n",
      "Requirement already satisfied: platformdirs>=2.0.0 in c:\\users\\farhanarain\\anaconda3\\envs\\streamlit\\lib\\site-packages (from yfinance->-r requirements.txt (line 3)) (4.3.7)\n",
      "Requirement already satisfied: pytz>=2022.5 in c:\\users\\farhanarain\\anaconda3\\envs\\streamlit\\lib\\site-packages (from yfinance->-r requirements.txt (line 3)) (2025.2)\n",
      "Requirement already satisfied: frozendict>=2.3.4 in c:\\users\\farhanarain\\anaconda3\\envs\\streamlit\\lib\\site-packages (from yfinance->-r requirements.txt (line 3)) (2.4.6)\n",
      "Requirement already satisfied: peewee>=3.16.2 in c:\\users\\farhanarain\\anaconda3\\envs\\streamlit\\lib\\site-packages (from yfinance->-r requirements.txt (line 3)) (3.18.2)\n",
      "Requirement already satisfied: beautifulsoup4>=4.11.1 in c:\\users\\farhanarain\\anaconda3\\envs\\streamlit\\lib\\site-packages (from yfinance->-r requirements.txt (line 3)) (4.13.4)\n",
      "Requirement already satisfied: curl_cffi>=0.7 in c:\\users\\farhanarain\\anaconda3\\envs\\streamlit\\lib\\site-packages (from yfinance->-r requirements.txt (line 3)) (0.12.0)\n",
      "Requirement already satisfied: protobuf>=3.19.0 in c:\\users\\farhanarain\\anaconda3\\envs\\streamlit\\lib\\site-packages (from yfinance->-r requirements.txt (line 3)) (6.31.1)\n",
      "Requirement already satisfied: websockets>=13.0 in c:\\users\\farhanarain\\anaconda3\\envs\\streamlit\\lib\\site-packages (from yfinance->-r requirements.txt (line 3)) (15.0.1)\n",
      "Requirement already satisfied: setuptools>=60.9.0 in c:\\users\\farhanarain\\anaconda3\\envs\\streamlit\\lib\\site-packages (from ccxt->-r requirements.txt (line 4)) (78.1.1)\n",
      "Requirement already satisfied: cryptography>=2.6.1 in c:\\users\\farhanarain\\anaconda3\\envs\\streamlit\\lib\\site-packages (from ccxt->-r requirements.txt (line 4)) (45.0.5)\n",
      "Requirement already satisfied: aiohttp>=3.10.11 in c:\\users\\farhanarain\\anaconda3\\envs\\streamlit\\lib\\site-packages (from ccxt->-r requirements.txt (line 4)) (3.12.14)\n",
      "Requirement already satisfied: aiodns>=1.1.1 in c:\\users\\farhanarain\\anaconda3\\envs\\streamlit\\lib\\site-packages (from ccxt->-r requirements.txt (line 4)) (3.5.0)\n",
      "Requirement already satisfied: yarl>=1.7.2 in c:\\users\\farhanarain\\anaconda3\\envs\\streamlit\\lib\\site-packages (from ccxt->-r requirements.txt (line 4)) (1.20.1)\n",
      "Requirement already satisfied: pycares>=4.9.0 in c:\\users\\farhanarain\\anaconda3\\envs\\streamlit\\lib\\site-packages (from aiodns>=1.1.1->ccxt->-r requirements.txt (line 4)) (4.9.0)\n",
      "Requirement already satisfied: aiohappyeyeballs>=2.5.0 in c:\\users\\farhanarain\\anaconda3\\envs\\streamlit\\lib\\site-packages (from aiohttp>=3.10.11->ccxt->-r requirements.txt (line 4)) (2.6.1)\n",
      "Requirement already satisfied: aiosignal>=1.4.0 in c:\\users\\farhanarain\\anaconda3\\envs\\streamlit\\lib\\site-packages (from aiohttp>=3.10.11->ccxt->-r requirements.txt (line 4)) (1.4.0)\n",
      "Requirement already satisfied: attrs>=17.3.0 in c:\\users\\farhanarain\\anaconda3\\envs\\streamlit\\lib\\site-packages (from aiohttp>=3.10.11->ccxt->-r requirements.txt (line 4)) (25.3.0)\n",
      "Requirement already satisfied: frozenlist>=1.1.1 in c:\\users\\farhanarain\\anaconda3\\envs\\streamlit\\lib\\site-packages (from aiohttp>=3.10.11->ccxt->-r requirements.txt (line 4)) (1.7.0)\n",
      "Requirement already satisfied: multidict<7.0,>=4.5 in c:\\users\\farhanarain\\anaconda3\\envs\\streamlit\\lib\\site-packages (from aiohttp>=3.10.11->ccxt->-r requirements.txt (line 4)) (6.6.3)\n",
      "Requirement already satisfied: propcache>=0.2.0 in c:\\users\\farhanarain\\anaconda3\\envs\\streamlit\\lib\\site-packages (from aiohttp>=3.10.11->ccxt->-r requirements.txt (line 4)) (0.3.2)\n",
      "Requirement already satisfied: soupsieve>1.2 in c:\\users\\farhanarain\\anaconda3\\envs\\streamlit\\lib\\site-packages (from beautifulsoup4>=4.11.1->yfinance->-r requirements.txt (line 3)) (2.7)\n",
      "Requirement already satisfied: cffi>=1.14 in c:\\users\\farhanarain\\anaconda3\\envs\\streamlit\\lib\\site-packages (from cryptography>=2.6.1->ccxt->-r requirements.txt (line 4)) (1.17.1)\n",
      "Requirement already satisfied: pycparser in c:\\users\\farhanarain\\anaconda3\\envs\\streamlit\\lib\\site-packages (from cffi>=1.14->cryptography>=2.6.1->ccxt->-r requirements.txt (line 4)) (2.22)\n",
      "Requirement already satisfied: python-dateutil>=2.8.2 in c:\\users\\farhanarain\\anaconda3\\envs\\streamlit\\lib\\site-packages (from pandas>=1.3.0->yfinance->-r requirements.txt (line 3)) (2.9.0.post0)\n",
      "Requirement already satisfied: tzdata>=2022.7 in c:\\users\\farhanarain\\anaconda3\\envs\\streamlit\\lib\\site-packages (from pandas>=1.3.0->yfinance->-r requirements.txt (line 3)) (2025.2)\n",
      "Requirement already satisfied: six>=1.5 in c:\\users\\farhanarain\\anaconda3\\envs\\streamlit\\lib\\site-packages (from python-dateutil>=2.8.2->pandas>=1.3.0->yfinance->-r requirements.txt (line 3)) (1.17.0)\n",
      "Requirement already satisfied: charset_normalizer<4,>=2 in c:\\users\\farhanarain\\anaconda3\\envs\\streamlit\\lib\\site-packages (from requests>=2.31->yfinance->-r requirements.txt (line 3)) (3.4.2)\n",
      "Requirement already satisfied: urllib3<3,>=1.21.1 in c:\\users\\farhanarain\\anaconda3\\envs\\streamlit\\lib\\site-packages (from requests>=2.31->yfinance->-r requirements.txt (line 3)) (2.5.0)\n",
      "Requirement already satisfied: colorama in c:\\users\\farhanarain\\anaconda3\\envs\\streamlit\\lib\\site-packages (from tqdm>4->openai->-r requirements.txt (line 1)) (0.4.6)\n",
      "Note: you may need to restart the kernel to use updated packages.\n"
     ]
    }
   ],
   "source": [
    "%pip install -r requirements.txt"
   ]
  },
  {
   "cell_type": "code",
   "execution_count": 2,
   "id": "043fa576",
   "metadata": {},
   "outputs": [],
   "source": [
    "import os\n",
    "from openai import OpenAI\n",
    "from dotenv import find_dotenv, load_dotenv\n",
    "from openai.types.beta import Assistant\n",
    "import yfinance as yf\n",
    "import ccxt\n",
    "from openai.types.beta.threads import Message\n",
    "import time"
   ]
  },
  {
   "cell_type": "code",
   "execution_count": 3,
   "id": "53740305",
   "metadata": {},
   "outputs": [],
   "source": [
    "import warnings\n",
    "\n",
    "# Ignore only DeprecationWarnings\n",
    "warnings.filterwarnings(\"ignore\", category=DeprecationWarning)"
   ]
  },
  {
   "cell_type": "code",
   "execution_count": 4,
   "id": "b96233ca",
   "metadata": {},
   "outputs": [],
   "source": [
    "_ : bool = load_dotenv(find_dotenv()) # read local .env file\n",
    "\n",
    "client : OpenAI = OpenAI()"
   ]
  },
  {
   "cell_type": "code",
   "execution_count": 5,
   "id": "4fb76e53",
   "metadata": {},
   "outputs": [
    {
     "data": {
      "text/plain": [
       "True"
      ]
     },
     "execution_count": 5,
     "metadata": {},
     "output_type": "execute_result"
    }
   ],
   "source": [
    "_"
   ]
  },
  {
   "cell_type": "code",
   "execution_count": 6,
   "id": "da700dfa",
   "metadata": {},
   "outputs": [
    {
     "name": "stdout",
     "output_type": "stream",
     "text": [
      "🔐 OpenAI Key Loaded: True\n"
     ]
    }
   ],
   "source": [
    "# Get the key\n",
    "api_key = os.getenv(\"OPENAI_API_KEY\")\n",
    "\n",
    "# Check and print whether it's loaded\n",
    "if api_key:\n",
    "    print(\"🔐 OpenAI Key Loaded:\", bool(api_key))  # True or False\n",
    "if not api_key:\n",
    "    raise EnvironmentError(\"❌ OPENAI_API_KEY not found in .env file!\")"
   ]
  },
  {
   "cell_type": "code",
   "execution_count": 7,
   "id": "c24fa1d3",
   "metadata": {},
   "outputs": [],
   "source": [
    "import json\n",
    "\n",
    "def show_json(obj):\n",
    "    display(json.loads(obj.model_dump_json()))"
   ]
  },
  {
   "cell_type": "markdown",
   "id": "7bb06f9d",
   "metadata": {},
   "source": [
    "#### **Defining custom function**"
   ]
  },
  {
   "cell_type": "code",
   "execution_count": 8,
   "id": "138160d2",
   "metadata": {},
   "outputs": [],
   "source": [
    "def get_stock_summary(ticker: str):\n",
    "    stock = yf.Ticker(ticker)\n",
    "    info = stock.info\n",
    "    return {\n",
    "        \"name\": info.get(\"shortName\"),\n",
    "        \"price\": info.get(\"regularMarketPrice\"),\n",
    "        \"market_cap\": info.get(\"marketCap\"),\n",
    "        \"pe_ratio\": info.get(\"trailingPE\"),\n",
    "        \"summary\": info.get(\"longBusinessSummary\", \"\"),\n",
    "        \"location\": info.get(\"city\", \"\") + \", \" + info.get(\"state\", \"\")\n",
    "    }\n",
    "\n",
    "\n",
    "def normalize_symbol(symbol_input: str) -> str:\n",
    "    cleaned = symbol_input.strip().upper().replace(\"-\", \"/\").replace(\"_\", \"/\")\n",
    "    parts = cleaned.split(\"/\")\n",
    "\n",
    "    if len(parts) == 1:\n",
    "        base = parts[0]\n",
    "        quote = \"USDT\"\n",
    "    elif len(parts) == 2:\n",
    "        base, quote = parts\n",
    "    else:\n",
    "        raise ValueError(f\"Invalid symbol format: {symbol_input}\")\n",
    "\n",
    "    return f\"{base}/{quote}\"  # MEXC expects 'BTC/USDT'\n",
    "\n",
    "# Main crypto fetch function\n",
    "def get_crypto_summary(symbol: str):\n",
    "    try:\n",
    "        exchange = ccxt.mexc()\n",
    "        exchange.load_markets()\n",
    "\n",
    "        normalized_symbol = normalize_symbol(symbol)  # e.g., 'BTC/USDT'\n",
    "\n",
    "        if normalized_symbol not in exchange.symbols:\n",
    "            return {\"error\": f\"Symbol {normalized_symbol} not found on MEXC.\"}\n",
    "\n",
    "        ticker = exchange.fetch_ticker(normalized_symbol)\n",
    "        market_data = exchange.market(normalized_symbol)\n",
    "\n",
    "        return {\n",
    "            \"symbol\": normalized_symbol.replace(\"/\", \"_\"),  # Display style: BTC_USDT\n",
    "            \"price\": ticker.get(\"last\"),\n",
    "            \"high_24h\": ticker.get(\"high\"),\n",
    "            \"low_24h\": ticker.get(\"low\"),\n",
    "            \"volume_24h\": ticker.get(\"quoteVolume\"),\n",
    "            \"change_pct\": ticker.get(\"percentage\"),\n",
    "            \"base\": market_data.get(\"base\"),\n",
    "            \"quote\": market_data.get(\"quote\"),\n",
    "            \"info\": \"Live data from MEXC (via ccxt)\"\n",
    "        }\n",
    "\n",
    "    except Exception as e:\n",
    "        return {\"error\": str(e)}\n",
    "\n",
    "# Entry point for Assistant tool\n",
    "def fetch_crypto_data(user_symbol: str):\n",
    "    try:\n",
    "        return get_crypto_summary(user_symbol)\n",
    "    except Exception as e:\n",
    "        return {\"error\": str(e)}\n"
   ]
  },
  {
   "cell_type": "code",
   "execution_count": 9,
   "id": "2840a74d",
   "metadata": {},
   "outputs": [],
   "source": [
    "available_functions = {\n",
    "    \"fetch_crypto_data\": fetch_crypto_data,\n",
    "    \"get_stock_summary\": get_stock_summary\n",
    "}"
   ]
  },
  {
   "cell_type": "markdown",
   "id": "a0a58b5a",
   "metadata": {},
   "source": [
    "## **Tools Schemas**"
   ]
  },
  {
   "cell_type": "code",
   "execution_count": 10,
   "id": "6d903268",
   "metadata": {},
   "outputs": [],
   "source": [
    "tools = [\n",
    "    {\n",
    "        \"type\": \"function\",\n",
    "        \"function\": {\n",
    "            \"name\": \"get_stock_summary\",\n",
    "            \"description\": \"Get financial summary for a publicly traded stock (e.g., AAPL, TSLA, GOOGL). Only for companies listed on stock exchanges.\",\n",
    "            \"parameters\": {\n",
    "                \"type\": \"object\",\n",
    "                \"properties\": {\n",
    "                    \"ticker\": {\n",
    "                        \"type\": \"string\",\n",
    "                        \"description\": \"Stock ticker symbol (e.g., TSLA, AAPL)\"\n",
    "                    }\n",
    "                },\n",
    "                \"required\": [\"ticker\"]\n",
    "            }\n",
    "        }\n",
    "    },\n",
    "    {\n",
    "        \"type\": \"function\",\n",
    "        \"function\": {\n",
    "            \"name\": \"fetch_crypto_data\",\n",
    "            \"description\": \"Get market data for cryptocurrencies like BTC, ETH, DOGE using MEXC API. Use this for any digital assets or crypto coins.\",\n",
    "            \"parameters\": {\n",
    "                \"type\": \"object\",\n",
    "                \"properties\": {\n",
    "                    \"user_symbol\": {\n",
    "                        \"type\": \"string\",\n",
    "                        \"description\": \"Crypto symbol like 'BTC', 'ETH', or 'BTC/USDT'\"\n",
    "                    }\n",
    "                },\n",
    "                \"required\": [\"user_symbol\"]\n",
    "            }\n",
    "        }\n",
    "    }\n",
    "]\n"
   ]
  },
  {
   "cell_type": "markdown",
   "id": "196cbc76",
   "metadata": {},
   "source": [
    "## **Create Assistants**"
   ]
  },
  {
   "cell_type": "code",
   "execution_count": 11,
   "id": "ef4f67c2",
   "metadata": {},
   "outputs": [],
   "source": [
    "assistant : Assistant = client.beta.assistants.create(\n",
    "    name=\"AI Financial Analyst\",\n",
    "    instructions=\"You are a professional financial analyst. Use functions as needed to analyze assets.\",\n",
    "    tools=tools,\n",
    "    model=\"gpt-3.5-turbo-1106\"\n",
    ")"
   ]
  },
  {
   "cell_type": "markdown",
   "id": "3c7ffedc",
   "metadata": {},
   "source": [
    "## **Create threads**"
   ]
  },
  {
   "cell_type": "code",
   "execution_count": 12,
   "id": "16b717b3",
   "metadata": {},
   "outputs": [],
   "source": [
    "from openai.types.beta.thread import Thread\n",
    "\n",
    "thread : Thread = client.beta.threads.create()"
   ]
  },
  {
   "cell_type": "markdown",
   "id": "882c1cd7",
   "metadata": {},
   "source": [
    "## **Helper Functions**"
   ]
  },
  {
   "cell_type": "code",
   "execution_count": 13,
   "id": "e934e535",
   "metadata": {},
   "outputs": [],
   "source": [
    "def add_message_to_thread(client, thread_id, content: str):\n",
    "    return client.beta.threads.messages.create(\n",
    "        thread_id=thread_id,\n",
    "        role=\"user\",\n",
    "        content=content\n",
    "    )\n",
    "\n",
    "def start_run(client, thread_id, assistant_id):\n",
    "    return client.beta.threads.runs.create(\n",
    "        thread_id=thread_id,\n",
    "        assistant_id=assistant_id\n",
    "    )\n",
    "\n"
   ]
  },
  {
   "cell_type": "markdown",
   "id": "0b3a95d7",
   "metadata": {},
   "source": [
    "## **Run and Polling**"
   ]
  },
  {
   "cell_type": "code",
   "execution_count": 14,
   "id": "7b9d9051",
   "metadata": {},
   "outputs": [],
   "source": [
    "def run_and_poll(client, thread_id, run_id, available_functions):\n",
    "    while True:\n",
    "        run_status = client.beta.threads.runs.retrieve(thread_id=thread_id, run_id=run_id)\n",
    "        print(f\"Run Status: {run_status.status}\")\n",
    "\n",
    "        if run_status.status == \"requires_action\":\n",
    "            print(\"Assistant requires action (tool calls)...\")\n",
    "            tool_calls = run_status.required_action.submit_tool_outputs.tool_calls\n",
    "            tool_outputs = []\n",
    "\n",
    "            for tool_call in tool_calls:\n",
    "                function_name = tool_call.function.name\n",
    "                function_args = json.loads(tool_call.function.arguments)\n",
    "                print(f\"Tool Call: {function_name}({function_args})\")\n",
    "\n",
    "                if function_name in available_functions:\n",
    "                    try:\n",
    "                        result = available_functions[function_name](**function_args)\n",
    "                        if not isinstance(result, str):\n",
    "                            result = json.dumps(result)\n",
    "                        tool_outputs.append({\n",
    "                            \"tool_call_id\": tool_call.id,\n",
    "                            \"output\": result\n",
    "                        })\n",
    "                    except Exception as e:\n",
    "                        print(f\"Error in {function_name}: {e}\")\n",
    "                        tool_outputs.append({\n",
    "                            \"tool_call_id\": tool_call.id,\n",
    "                            \"output\": json.dumps({\"error\": str(e)})\n",
    "                        })\n",
    "\n",
    "            print(\"Submitting tool outputs...\")\n",
    "            client.beta.threads.runs.submit_tool_outputs(\n",
    "                thread_id=thread_id,\n",
    "                run_id=run_id,\n",
    "                tool_outputs=tool_outputs\n",
    "            )\n",
    "\n",
    "        elif run_status.status == \"completed\":\n",
    "            print(\"Run completed. Fetching final assistant message...\\n\")\n",
    "\n",
    "            # Filter only messages created in this specific run\n",
    "            messages = client.beta.threads.messages.list(thread_id=thread_id)\n",
    "            for message in reversed(messages.data):\n",
    "                if message.role == \"assistant\" and message.run_id == run_id:\n",
    "                    reply = message.content[0].text.value\n",
    "                    print(\"Assistant Reply:\\n\", reply)\n",
    "                    return reply\n",
    "            return None\n",
    "\n",
    "        elif run_status.status in [\"in_progress\", \"queued\"]:\n",
    "            time.sleep(2)\n",
    "\n",
    "        elif run_status.status == \"failed\":\n",
    "            print(\"Run failed.\")\n",
    "            return None\n",
    "\n",
    "        else:\n",
    "            print(f\"Unexpected status: {run_status.status}\")\n",
    "            return None\n"
   ]
  },
  {
   "cell_type": "code",
   "execution_count": 15,
   "id": "19324a3a",
   "metadata": {},
   "outputs": [],
   "source": [
    "# Send message + run assistant + handle tools\n",
    "def send_and_run_message(client, thread_id, assistant_id, content, available_functions):\n",
    "    print(f\"\\n💬 New User Message: {content}\")\n",
    "\n",
    "    # Step 1: Add message\n",
    "    add_message_to_thread(client, thread_id, content)\n",
    "\n",
    "    # Step 2: Start run\n",
    "    run = start_run(client, thread_id, assistant_id)\n",
    "\n",
    "    # Step 3: Poll and return final reply\n",
    "    return run_and_poll(client, thread_id, run.id, available_functions)"
   ]
  },
  {
   "cell_type": "code",
   "execution_count": 16,
   "id": "a786d529",
   "metadata": {},
   "outputs": [],
   "source": [
    "# tsla_performance = send_and_run_message(\n",
    "#     client=client,\n",
    "#     thread_id=thread.id,\n",
    "#     assistant_id=assistant.id,\n",
    "#     content=\"Analyze TSLA performance.\",\n",
    "#     available_functions=available_functions\n",
    "# )"
   ]
  },
  {
   "cell_type": "code",
   "execution_count": 17,
   "id": "9c8954d1",
   "metadata": {},
   "outputs": [
    {
     "name": "stdout",
     "output_type": "stream",
     "text": [
      "\n",
      "💬 New User Message: Analyze BTC performance.\n",
      "Run Status: queued\n",
      "Run Status: requires_action\n",
      "Assistant requires action (tool calls)...\n",
      "Tool Call: fetch_crypto_data({'user_symbol': 'BTC/USDT'})\n",
      "Submitting tool outputs...\n",
      "Run Status: queued\n",
      "Run Status: completed\n",
      "Run completed. Fetching final assistant message...\n",
      "\n",
      "Assistant Reply:\n",
      " The analysis of BTC performance over the last 24 hours is as follows:\n",
      "- Current Price: $118,112.00 USDT\n",
      "- High Price in the Last 24 Hours: $119,642.85 USDT\n",
      "- Low Price in the Last 24 Hours: $116,467.02 USDT\n",
      "- 24-hour Trading Volume: $584,722,391.68 USDT\n",
      "- Change Percentage: -0.06%\n",
      "\n",
      "BTC has experienced a slight decrease in price over the past 24 hours.\n"
     ]
    }
   ],
   "source": [
    "BTC_performance = send_and_run_message(\n",
    "    client=client,\n",
    "    thread_id=thread.id,\n",
    "    assistant_id=assistant.id,\n",
    "    content=\"Analyze BTC performance.\",\n",
    "    available_functions=available_functions\n",
    ")\n"
   ]
  },
  {
   "cell_type": "code",
   "execution_count": 18,
   "id": "c1484898",
   "metadata": {},
   "outputs": [
    {
     "name": "stdout",
     "output_type": "stream",
     "text": [
      "\n",
      "💬 New User Message: Analyze ETH performance.\n",
      "Run Status: queued\n",
      "Run Status: requires_action\n",
      "Assistant requires action (tool calls)...\n",
      "Tool Call: fetch_crypto_data({'user_symbol': 'ETH/USDT'})\n",
      "Submitting tool outputs...\n",
      "Run Status: queued\n",
      "Run Status: in_progress\n",
      "Run Status: completed\n",
      "Run completed. Fetching final assistant message...\n",
      "\n",
      "Assistant Reply:\n",
      " The analysis of ETH performance over the last 24 hours is as follows:\n",
      "- Current Price: $3,800.68 USDT\n",
      "- High Price in the Last 24 Hours: $3,836.53 USDT\n",
      "- Low Price in the Last 24 Hours: $3,682.47 USDT\n",
      "- 24-hour Trading Volume: $544,192,213.02 USDT\n",
      "- Change Percentage: +1.53%\n",
      "\n",
      "ETH has experienced a positive increase in price over the past 24 hours.\n"
     ]
    }
   ],
   "source": [
    "BTC_performance = send_and_run_message(\n",
    "    client=client,\n",
    "    thread_id=thread.id,\n",
    "    assistant_id=assistant.id,\n",
    "    content=\"Analyze ETH performance.\",\n",
    "    available_functions=available_functions\n",
    ")\n"
   ]
  },
  {
   "cell_type": "code",
   "execution_count": null,
   "id": "50388dbb",
   "metadata": {},
   "outputs": [],
   "source": []
  }
 ],
 "metadata": {
  "kernelspec": {
   "display_name": "streamlit",
   "language": "python",
   "name": "python3"
  },
  "language_info": {
   "codemirror_mode": {
    "name": "ipython",
    "version": 3
   },
   "file_extension": ".py",
   "mimetype": "text/x-python",
   "name": "python",
   "nbconvert_exporter": "python",
   "pygments_lexer": "ipython3",
   "version": "3.11.13"
  }
 },
 "nbformat": 4,
 "nbformat_minor": 5
}
