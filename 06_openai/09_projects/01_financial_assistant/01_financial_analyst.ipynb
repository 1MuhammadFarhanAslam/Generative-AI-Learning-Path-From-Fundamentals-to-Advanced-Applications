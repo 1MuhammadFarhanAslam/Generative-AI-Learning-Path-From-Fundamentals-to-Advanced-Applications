{
 "cells": [
  {
   "cell_type": "markdown",
   "id": "77bd6f21",
   "metadata": {},
   "source": [
    "## **Project 1: Financial Assistant**"
   ]
  },
  {
   "cell_type": "code",
   "execution_count": 1,
   "id": "c62e243f",
   "metadata": {},
   "outputs": [
    {
     "name": "stdout",
     "output_type": "stream",
     "text": [
      "Requirement already satisfied: openai in c:\\users\\farhanarain\\anaconda3\\envs\\streamlit\\lib\\site-packages (from -r requirements.txt (line 1)) (1.97.0)\n",
      "Requirement already satisfied: python-dotenv in c:\\users\\farhanarain\\anaconda3\\envs\\streamlit\\lib\\site-packages (from -r requirements.txt (line 2)) (1.1.1)\n",
      "Requirement already satisfied: yfinance in c:\\users\\farhanarain\\anaconda3\\envs\\streamlit\\lib\\site-packages (from -r requirements.txt (line 3)) (0.2.65)\n",
      "Requirement already satisfied: anyio<5,>=3.5.0 in c:\\users\\farhanarain\\anaconda3\\envs\\streamlit\\lib\\site-packages (from openai->-r requirements.txt (line 1)) (4.9.0)\n",
      "Requirement already satisfied: distro<2,>=1.7.0 in c:\\users\\farhanarain\\anaconda3\\envs\\streamlit\\lib\\site-packages (from openai->-r requirements.txt (line 1)) (1.9.0)\n",
      "Requirement already satisfied: httpx<1,>=0.23.0 in c:\\users\\farhanarain\\anaconda3\\envs\\streamlit\\lib\\site-packages (from openai->-r requirements.txt (line 1)) (0.28.1)\n",
      "Requirement already satisfied: jiter<1,>=0.4.0 in c:\\users\\farhanarain\\anaconda3\\envs\\streamlit\\lib\\site-packages (from openai->-r requirements.txt (line 1)) (0.10.0)\n",
      "Requirement already satisfied: pydantic<3,>=1.9.0 in c:\\users\\farhanarain\\anaconda3\\envs\\streamlit\\lib\\site-packages (from openai->-r requirements.txt (line 1)) (2.11.7)\n",
      "Requirement already satisfied: sniffio in c:\\users\\farhanarain\\anaconda3\\envs\\streamlit\\lib\\site-packages (from openai->-r requirements.txt (line 1)) (1.3.1)\n",
      "Requirement already satisfied: tqdm>4 in c:\\users\\farhanarain\\anaconda3\\envs\\streamlit\\lib\\site-packages (from openai->-r requirements.txt (line 1)) (4.67.1)\n",
      "Requirement already satisfied: typing-extensions<5,>=4.11 in c:\\users\\farhanarain\\anaconda3\\envs\\streamlit\\lib\\site-packages (from openai->-r requirements.txt (line 1)) (4.12.2)\n",
      "Requirement already satisfied: idna>=2.8 in c:\\users\\farhanarain\\anaconda3\\envs\\streamlit\\lib\\site-packages (from anyio<5,>=3.5.0->openai->-r requirements.txt (line 1)) (3.10)\n",
      "Requirement already satisfied: certifi in c:\\users\\farhanarain\\anaconda3\\envs\\streamlit\\lib\\site-packages (from httpx<1,>=0.23.0->openai->-r requirements.txt (line 1)) (2025.7.9)\n",
      "Requirement already satisfied: httpcore==1.* in c:\\users\\farhanarain\\anaconda3\\envs\\streamlit\\lib\\site-packages (from httpx<1,>=0.23.0->openai->-r requirements.txt (line 1)) (1.0.9)\n",
      "Requirement already satisfied: h11>=0.16 in c:\\users\\farhanarain\\anaconda3\\envs\\streamlit\\lib\\site-packages (from httpcore==1.*->httpx<1,>=0.23.0->openai->-r requirements.txt (line 1)) (0.16.0)\n",
      "Requirement already satisfied: annotated-types>=0.6.0 in c:\\users\\farhanarain\\anaconda3\\envs\\streamlit\\lib\\site-packages (from pydantic<3,>=1.9.0->openai->-r requirements.txt (line 1)) (0.7.0)\n",
      "Requirement already satisfied: pydantic-core==2.33.2 in c:\\users\\farhanarain\\anaconda3\\envs\\streamlit\\lib\\site-packages (from pydantic<3,>=1.9.0->openai->-r requirements.txt (line 1)) (2.33.2)\n",
      "Requirement already satisfied: typing-inspection>=0.4.0 in c:\\users\\farhanarain\\anaconda3\\envs\\streamlit\\lib\\site-packages (from pydantic<3,>=1.9.0->openai->-r requirements.txt (line 1)) (0.4.1)\n",
      "Requirement already satisfied: pandas>=1.3.0 in c:\\users\\farhanarain\\anaconda3\\envs\\streamlit\\lib\\site-packages (from yfinance->-r requirements.txt (line 3)) (2.3.1)\n",
      "Requirement already satisfied: numpy>=1.16.5 in c:\\users\\farhanarain\\anaconda3\\envs\\streamlit\\lib\\site-packages (from yfinance->-r requirements.txt (line 3)) (2.3.1)\n",
      "Requirement already satisfied: requests>=2.31 in c:\\users\\farhanarain\\anaconda3\\envs\\streamlit\\lib\\site-packages (from yfinance->-r requirements.txt (line 3)) (2.32.4)\n",
      "Requirement already satisfied: multitasking>=0.0.7 in c:\\users\\farhanarain\\anaconda3\\envs\\streamlit\\lib\\site-packages (from yfinance->-r requirements.txt (line 3)) (0.0.12)\n",
      "Requirement already satisfied: platformdirs>=2.0.0 in c:\\users\\farhanarain\\anaconda3\\envs\\streamlit\\lib\\site-packages (from yfinance->-r requirements.txt (line 3)) (4.3.7)\n",
      "Requirement already satisfied: pytz>=2022.5 in c:\\users\\farhanarain\\anaconda3\\envs\\streamlit\\lib\\site-packages (from yfinance->-r requirements.txt (line 3)) (2025.2)\n",
      "Requirement already satisfied: frozendict>=2.3.4 in c:\\users\\farhanarain\\anaconda3\\envs\\streamlit\\lib\\site-packages (from yfinance->-r requirements.txt (line 3)) (2.4.6)\n",
      "Requirement already satisfied: peewee>=3.16.2 in c:\\users\\farhanarain\\anaconda3\\envs\\streamlit\\lib\\site-packages (from yfinance->-r requirements.txt (line 3)) (3.18.2)\n",
      "Requirement already satisfied: beautifulsoup4>=4.11.1 in c:\\users\\farhanarain\\anaconda3\\envs\\streamlit\\lib\\site-packages (from yfinance->-r requirements.txt (line 3)) (4.13.4)\n",
      "Requirement already satisfied: curl_cffi>=0.7 in c:\\users\\farhanarain\\anaconda3\\envs\\streamlit\\lib\\site-packages (from yfinance->-r requirements.txt (line 3)) (0.12.0)\n",
      "Requirement already satisfied: protobuf>=3.19.0 in c:\\users\\farhanarain\\anaconda3\\envs\\streamlit\\lib\\site-packages (from yfinance->-r requirements.txt (line 3)) (6.31.1)\n",
      "Requirement already satisfied: websockets>=13.0 in c:\\users\\farhanarain\\anaconda3\\envs\\streamlit\\lib\\site-packages (from yfinance->-r requirements.txt (line 3)) (15.0.1)\n",
      "Requirement already satisfied: soupsieve>1.2 in c:\\users\\farhanarain\\anaconda3\\envs\\streamlit\\lib\\site-packages (from beautifulsoup4>=4.11.1->yfinance->-r requirements.txt (line 3)) (2.7)\n",
      "Requirement already satisfied: cffi>=1.12.0 in c:\\users\\farhanarain\\anaconda3\\envs\\streamlit\\lib\\site-packages (from curl_cffi>=0.7->yfinance->-r requirements.txt (line 3)) (1.17.1)\n",
      "Requirement already satisfied: pycparser in c:\\users\\farhanarain\\anaconda3\\envs\\streamlit\\lib\\site-packages (from cffi>=1.12.0->curl_cffi>=0.7->yfinance->-r requirements.txt (line 3)) (2.22)\n",
      "Requirement already satisfied: python-dateutil>=2.8.2 in c:\\users\\farhanarain\\anaconda3\\envs\\streamlit\\lib\\site-packages (from pandas>=1.3.0->yfinance->-r requirements.txt (line 3)) (2.9.0.post0)\n",
      "Requirement already satisfied: tzdata>=2022.7 in c:\\users\\farhanarain\\anaconda3\\envs\\streamlit\\lib\\site-packages (from pandas>=1.3.0->yfinance->-r requirements.txt (line 3)) (2025.2)\n",
      "Requirement already satisfied: six>=1.5 in c:\\users\\farhanarain\\anaconda3\\envs\\streamlit\\lib\\site-packages (from python-dateutil>=2.8.2->pandas>=1.3.0->yfinance->-r requirements.txt (line 3)) (1.17.0)\n",
      "Requirement already satisfied: charset_normalizer<4,>=2 in c:\\users\\farhanarain\\anaconda3\\envs\\streamlit\\lib\\site-packages (from requests>=2.31->yfinance->-r requirements.txt (line 3)) (3.4.2)\n",
      "Requirement already satisfied: urllib3<3,>=1.21.1 in c:\\users\\farhanarain\\anaconda3\\envs\\streamlit\\lib\\site-packages (from requests>=2.31->yfinance->-r requirements.txt (line 3)) (2.5.0)\n",
      "Requirement already satisfied: colorama in c:\\users\\farhanarain\\anaconda3\\envs\\streamlit\\lib\\site-packages (from tqdm>4->openai->-r requirements.txt (line 1)) (0.4.6)\n",
      "Note: you may need to restart the kernel to use updated packages.\n"
     ]
    }
   ],
   "source": [
    "%pip install -r requirements.txt"
   ]
  },
  {
   "cell_type": "code",
   "execution_count": 2,
   "id": "043fa576",
   "metadata": {},
   "outputs": [],
   "source": [
    "import os\n",
    "from openai import OpenAI\n",
    "from dotenv import find_dotenv, load_dotenv\n",
    "from openai.types.beta import Assistant\n",
    "import yfinance as yf\n",
    "from openai.types.beta.threads import Message\n",
    "import time"
   ]
  },
  {
   "cell_type": "code",
   "execution_count": 3,
   "id": "53740305",
   "metadata": {},
   "outputs": [],
   "source": [
    "import warnings\n",
    "\n",
    "# Ignore only DeprecationWarnings\n",
    "warnings.filterwarnings(\"ignore\", category=DeprecationWarning)"
   ]
  },
  {
   "cell_type": "code",
   "execution_count": 4,
   "id": "b96233ca",
   "metadata": {},
   "outputs": [],
   "source": [
    "_ : bool = load_dotenv(find_dotenv()) # read local .env file\n",
    "\n",
    "client : OpenAI = OpenAI()"
   ]
  },
  {
   "cell_type": "code",
   "execution_count": 5,
   "id": "4fb76e53",
   "metadata": {},
   "outputs": [
    {
     "data": {
      "text/plain": [
       "True"
      ]
     },
     "execution_count": 5,
     "metadata": {},
     "output_type": "execute_result"
    }
   ],
   "source": [
    "_"
   ]
  },
  {
   "cell_type": "code",
   "execution_count": 6,
   "id": "da700dfa",
   "metadata": {},
   "outputs": [
    {
     "name": "stdout",
     "output_type": "stream",
     "text": [
      "🔐 OpenAI Key Loaded: True\n"
     ]
    }
   ],
   "source": [
    "# Get the key\n",
    "api_key = os.getenv(\"OPENAI_API_KEY\")\n",
    "\n",
    "# Check and print whether it's loaded\n",
    "if api_key:\n",
    "    print(\"🔐 OpenAI Key Loaded:\", bool(api_key))  # True or False\n",
    "if not api_key:\n",
    "    raise EnvironmentError(\"❌ OPENAI_API_KEY not found in .env file!\")"
   ]
  },
  {
   "cell_type": "code",
   "execution_count": 7,
   "id": "c24fa1d3",
   "metadata": {},
   "outputs": [],
   "source": [
    "import json\n",
    "\n",
    "def show_json(obj):\n",
    "    display(json.loads(obj.model_dump_json()))"
   ]
  },
  {
   "cell_type": "markdown",
   "id": "7bb06f9d",
   "metadata": {},
   "source": [
    "#### **Defining custom function**"
   ]
  },
  {
   "cell_type": "code",
   "execution_count": 8,
   "id": "138160d2",
   "metadata": {},
   "outputs": [],
   "source": [
    "def get_stock_summary(ticker: str):\n",
    "    stock = yf.Ticker(ticker)\n",
    "    info = stock.info\n",
    "    return {\n",
    "        \"name\": info.get(\"shortName\"),\n",
    "        \"price\": info.get(\"regularMarketPrice\"),\n",
    "        \"market_cap\": info.get(\"marketCap\"),\n",
    "        \"pe_ratio\": info.get(\"trailingPE\"),\n",
    "        \"summary\": info.get(\"longBusinessSummary\", \"\"),\n",
    "        \"location\": info.get(\"city\", \"\") + \", \" + info.get(\"state\", \"\")\n",
    "    }\n",
    "\n",
    "def get_crypto_summary(symbol: str):\n",
    "    try:\n",
    "        crypto = yf.Ticker(symbol)\n",
    "        info = crypto.info\n",
    "        return {\n",
    "            \"name\": info.get(\"shortName\", symbol),\n",
    "            \"price\": info.get(\"regularMarketPrice\", \"N/A\"),\n",
    "            \"market_cap\": info.get(\"marketCap\", \"N/A\"),\n",
    "            \"summary\": info.get(\"longBusinessSummary\", \"No description available.\")\n",
    "        }\n",
    "    except Exception as e:\n",
    "        return {\"error\": str(e)}\n"
   ]
  },
  {
   "cell_type": "code",
   "execution_count": 9,
   "id": "2840a74d",
   "metadata": {},
   "outputs": [],
   "source": [
    "available_functions = {\n",
    "    \"get_stock_summary\": get_stock_summary,\n",
    "    \"get_crypto_summary\": get_crypto_summary\n",
    "}"
   ]
  },
  {
   "cell_type": "markdown",
   "id": "a0a58b5a",
   "metadata": {},
   "source": [
    "## **Tools Schemas**"
   ]
  },
  {
   "cell_type": "code",
   "execution_count": 10,
   "id": "6d903268",
   "metadata": {},
   "outputs": [],
   "source": [
    "tools = [\n",
    "    {\n",
    "        \"type\": \"function\",\n",
    "        \"function\": {\n",
    "            \"name\": \"get_stock_summary\",\n",
    "            \"description\": \"Get a stock's market summary by ticker symbol\",\n",
    "            \"parameters\": {\n",
    "                \"type\": \"object\",\n",
    "                \"properties\": {\n",
    "                    \"ticker\": {\n",
    "                        \"type\": \"string\",\n",
    "                        \"description\": \"Stock symbol like AAPL, TSLA\"\n",
    "                    }\n",
    "                },\n",
    "                \"required\": [\"ticker\"]\n",
    "            }\n",
    "        }\n",
    "    },\n",
    "    {\n",
    "        \"type\": \"function\",\n",
    "        \"function\": {\n",
    "            \"name\": \"get_crypto_summary\",\n",
    "            \"description\": \"Get a cryptocurrency summary by symbol like BTC-USD\",\n",
    "            \"parameters\": {\n",
    "                \"type\": \"object\",\n",
    "                \"properties\": {\n",
    "                    \"symbol\": {\n",
    "                        \"type\": \"string\",\n",
    "                        \"description\": \"Crypto symbol, e.g., BTC-USD, ETH-USD\"\n",
    "                    }\n",
    "                },\n",
    "                \"required\": [\"symbol\"]\n",
    "            }\n",
    "        }\n",
    "    }\n",
    "]\n"
   ]
  },
  {
   "cell_type": "markdown",
   "id": "196cbc76",
   "metadata": {},
   "source": [
    "## **Create Assistants**"
   ]
  },
  {
   "cell_type": "code",
   "execution_count": 11,
   "id": "ef4f67c2",
   "metadata": {},
   "outputs": [],
   "source": [
    "assistant : Assistant = client.beta.assistants.create(\n",
    "    name=\"AI Financial Analyst\",\n",
    "    instructions=\"You are a professional financial analyst. Use functions as needed to analyze assets.\",\n",
    "    tools=tools,\n",
    "    model=\"gpt-3.5-turbo-1106\"\n",
    ")"
   ]
  },
  {
   "cell_type": "markdown",
   "id": "3c7ffedc",
   "metadata": {},
   "source": [
    "## **Create threads**"
   ]
  },
  {
   "cell_type": "code",
   "execution_count": 12,
   "id": "16b717b3",
   "metadata": {},
   "outputs": [],
   "source": [
    "from openai.types.beta.thread import Thread\n",
    "\n",
    "thread : Thread = client.beta.threads.create()"
   ]
  },
  {
   "cell_type": "markdown",
   "id": "882c1cd7",
   "metadata": {},
   "source": [
    "## **Helper Functions**"
   ]
  },
  {
   "cell_type": "code",
   "execution_count": 13,
   "id": "e934e535",
   "metadata": {},
   "outputs": [],
   "source": [
    "def add_message_to_thread(client, thread_id, content: str):\n",
    "    return client.beta.threads.messages.create(\n",
    "        thread_id=thread_id,\n",
    "        role=\"user\",\n",
    "        content=content\n",
    "    )\n",
    "\n",
    "def start_run(client, thread_id, assistant_id):\n",
    "    return client.beta.threads.runs.create(\n",
    "        thread_id=thread_id,\n",
    "        assistant_id=assistant_id\n",
    "    )\n",
    "\n"
   ]
  },
  {
   "cell_type": "markdown",
   "id": "0b3a95d7",
   "metadata": {},
   "source": [
    "## **Run and Polling**"
   ]
  },
  {
   "cell_type": "code",
   "execution_count": 14,
   "id": "7b9d9051",
   "metadata": {},
   "outputs": [],
   "source": [
    "def run_and_poll(client, thread_id, run_id, available_functions):\n",
    "    while True:\n",
    "        run_status = client.beta.threads.runs.retrieve(thread_id=thread_id, run_id=run_id)\n",
    "        print(f\"Run Status: {run_status.status}\")\n",
    "\n",
    "        if run_status.status == \"requires_action\":\n",
    "            print(\"Assistant requires action (tool calls)...\")\n",
    "            tool_calls = run_status.required_action.submit_tool_outputs.tool_calls\n",
    "            tool_outputs = []\n",
    "\n",
    "            for tool_call in tool_calls:\n",
    "                function_name = tool_call.function.name\n",
    "                function_args = json.loads(tool_call.function.arguments)\n",
    "                print(f\"Tool Call: {function_name}({function_args})\")\n",
    "\n",
    "                if function_name in available_functions:\n",
    "                    try:\n",
    "                        result = available_functions[function_name](**function_args)\n",
    "                        if not isinstance(result, str):\n",
    "                            result = json.dumps(result)\n",
    "                        tool_outputs.append({\n",
    "                            \"tool_call_id\": tool_call.id,\n",
    "                            \"output\": result\n",
    "                        })\n",
    "                    except Exception as e:\n",
    "                        print(f\"Error in {function_name}: {e}\")\n",
    "                        tool_outputs.append({\n",
    "                            \"tool_call_id\": tool_call.id,\n",
    "                            \"output\": json.dumps({\"error\": str(e)})\n",
    "                        })\n",
    "\n",
    "            print(\"Submitting tool outputs...\")\n",
    "            client.beta.threads.runs.submit_tool_outputs(\n",
    "                thread_id=thread_id,\n",
    "                run_id=run_id,\n",
    "                tool_outputs=tool_outputs\n",
    "            )\n",
    "\n",
    "        elif run_status.status == \"completed\":\n",
    "            print(\"Run completed. Fetching final assistant message...\\n\")\n",
    "\n",
    "            # Filter only messages created in this specific run\n",
    "            messages = client.beta.threads.messages.list(thread_id=thread_id)\n",
    "            for message in reversed(messages.data):\n",
    "                if message.role == \"assistant\" and message.run_id == run_id:\n",
    "                    reply = message.content[0].text.value\n",
    "                    print(\"Assistant Reply:\\n\", reply)\n",
    "                    return reply\n",
    "            return None\n",
    "\n",
    "        elif run_status.status in [\"in_progress\", \"queued\"]:\n",
    "            time.sleep(2)\n",
    "\n",
    "        elif run_status.status == \"failed\":\n",
    "            print(\"Run failed.\")\n",
    "            return None\n",
    "\n",
    "        else:\n",
    "            print(f\"Unexpected status: {run_status.status}\")\n",
    "            return None\n"
   ]
  },
  {
   "cell_type": "code",
   "execution_count": 15,
   "id": "19324a3a",
   "metadata": {},
   "outputs": [],
   "source": [
    "# ✅ Send message + run assistant + handle tools\n",
    "def send_and_run_message(client, thread_id, assistant_id, content, available_functions):\n",
    "    print(f\"\\n💬 New User Message: {content}\")\n",
    "\n",
    "    # Step 1: Add message\n",
    "    add_message_to_thread(client, thread_id, content)\n",
    "\n",
    "    # Step 2: Start run\n",
    "    run = start_run(client, thread_id, assistant_id)\n",
    "\n",
    "    # Step 3: Poll and return final reply\n",
    "    return run_and_poll(client, thread_id, run.id, available_functions)"
   ]
  },
  {
   "cell_type": "code",
   "execution_count": 16,
   "id": "a786d529",
   "metadata": {},
   "outputs": [
    {
     "name": "stdout",
     "output_type": "stream",
     "text": [
      "\n",
      "💬 New User Message: Analyze TSLA performance.\n",
      "Run Status: queued\n",
      "Run Status: requires_action\n",
      "Assistant requires action (tool calls)...\n",
      "Tool Call: get_stock_summary({'ticker': 'TSLA'})\n",
      "Submitting tool outputs...\n",
      "Run Status: queued\n",
      "Run Status: in_progress\n",
      "Run Status: completed\n",
      "Run completed. Fetching final assistant message...\n",
      "\n",
      "Assistant Reply:\n",
      " Tesla, Inc. (TSLA) is currently priced at $329.65 with a market capitalization of $1,061,789,433,856. The company focuses on designing, developing, manufacturing, leasing, and selling electric vehicles and energy generation and storage systems. They operate in two segments: Automotive and Energy Generation and Storage. The Automotive segment offers electric vehicles, automotive regulatory credits, and various after-sales services, while the Energy Generation and Storage segment focuses on solar energy generation, energy storage products, and related services.\n",
      "\n",
      "The stock's price-to-earnings (P/E) ratio is 188.37, indicating a relatively high valuation compared to its earnings. It's worth noting that Tesla, Inc. was formerly known as Tesla Motors, Inc. and changed its name to Tesla, Inc. in February 2017. The company is headquartered in Austin, Texas.\n"
     ]
    }
   ],
   "source": [
    "tsla_performance = send_and_run_message(\n",
    "    client=client,\n",
    "    thread_id=thread.id,\n",
    "    assistant_id=assistant.id,\n",
    "    content=\"Analyze TSLA performance.\",\n",
    "    available_functions=available_functions\n",
    ")"
   ]
  },
  {
   "cell_type": "code",
   "execution_count": 17,
   "id": "9c8954d1",
   "metadata": {},
   "outputs": [
    {
     "name": "stdout",
     "output_type": "stream",
     "text": [
      "\n",
      "💬 New User Message: Analyze BTC performance.\n",
      "Run Status: queued\n",
      "Run Status: requires_action\n",
      "Assistant requires action (tool calls)...\n",
      "Tool Call: get_crypto_summary({'symbol': 'BTC-USD'})\n",
      "Submitting tool outputs...\n",
      "Run Status: queued\n",
      "Run Status: completed\n",
      "Run completed. Fetching final assistant message...\n",
      "\n",
      "Assistant Reply:\n",
      " Bitcoin (BTC) is currently priced at $118,327.87 with a market capitalization of $2,354,173,968,384. Unfortunately, there is no further description available for this asset.\n"
     ]
    }
   ],
   "source": [
    "BTC_performance = send_and_run_message(\n",
    "    client=client,\n",
    "    thread_id=thread.id,\n",
    "    assistant_id=assistant.id,\n",
    "    content=\"Analyze BTC performance.\",\n",
    "    available_functions=available_functions\n",
    ")\n"
   ]
  },
  {
   "cell_type": "code",
   "execution_count": null,
   "id": "c1484898",
   "metadata": {},
   "outputs": [],
   "source": []
  }
 ],
 "metadata": {
  "kernelspec": {
   "display_name": "streamlit",
   "language": "python",
   "name": "python3"
  },
  "language_info": {
   "codemirror_mode": {
    "name": "ipython",
    "version": 3
   },
   "file_extension": ".py",
   "mimetype": "text/x-python",
   "name": "python",
   "nbconvert_exporter": "python",
   "pygments_lexer": "ipython3",
   "version": "3.11.13"
  }
 },
 "nbformat": 4,
 "nbformat_minor": 5
}
