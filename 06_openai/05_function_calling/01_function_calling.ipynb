{
 "cells": [
  {
   "cell_type": "markdown",
   "id": "311ea578",
   "metadata": {},
   "source": [
    "# **Function calling**\n",
    "- https://platform.openai.com/docs/guides/function-calling?api-mode=responses\n",
    "- https://cookbook.openai.com/examples/how_to_call_functions_with_chat_models"
   ]
  },
  {
   "cell_type": "code",
   "execution_count": 1,
   "id": "d9f99135",
   "metadata": {},
   "outputs": [
    {
     "name": "stdout",
     "output_type": "stream",
     "text": [
      "Requirement already satisfied: openai in c:\\users\\farhanarain\\anaconda3\\envs\\streamlit\\lib\\site-packages (from -r requirements.txt (line 1)) (1.96.1)\n",
      "Requirement already satisfied: python-dotenv in c:\\users\\farhanarain\\anaconda3\\envs\\streamlit\\lib\\site-packages (from -r requirements.txt (line 2)) (1.1.1)\n",
      "Requirement already satisfied: anyio<5,>=3.5.0 in c:\\users\\farhanarain\\anaconda3\\envs\\streamlit\\lib\\site-packages (from openai->-r requirements.txt (line 1)) (4.9.0)\n",
      "Requirement already satisfied: distro<2,>=1.7.0 in c:\\users\\farhanarain\\anaconda3\\envs\\streamlit\\lib\\site-packages (from openai->-r requirements.txt (line 1)) (1.9.0)\n",
      "Requirement already satisfied: httpx<1,>=0.23.0 in c:\\users\\farhanarain\\anaconda3\\envs\\streamlit\\lib\\site-packages (from openai->-r requirements.txt (line 1)) (0.28.1)\n",
      "Requirement already satisfied: jiter<1,>=0.4.0 in c:\\users\\farhanarain\\anaconda3\\envs\\streamlit\\lib\\site-packages (from openai->-r requirements.txt (line 1)) (0.10.0)\n",
      "Requirement already satisfied: pydantic<3,>=1.9.0 in c:\\users\\farhanarain\\anaconda3\\envs\\streamlit\\lib\\site-packages (from openai->-r requirements.txt (line 1)) (2.11.7)\n",
      "Requirement already satisfied: sniffio in c:\\users\\farhanarain\\anaconda3\\envs\\streamlit\\lib\\site-packages (from openai->-r requirements.txt (line 1)) (1.3.1)\n",
      "Requirement already satisfied: tqdm>4 in c:\\users\\farhanarain\\anaconda3\\envs\\streamlit\\lib\\site-packages (from openai->-r requirements.txt (line 1)) (4.67.1)\n",
      "Requirement already satisfied: typing-extensions<5,>=4.11 in c:\\users\\farhanarain\\anaconda3\\envs\\streamlit\\lib\\site-packages (from openai->-r requirements.txt (line 1)) (4.12.2)\n",
      "Requirement already satisfied: idna>=2.8 in c:\\users\\farhanarain\\anaconda3\\envs\\streamlit\\lib\\site-packages (from anyio<5,>=3.5.0->openai->-r requirements.txt (line 1)) (3.10)\n",
      "Requirement already satisfied: certifi in c:\\users\\farhanarain\\anaconda3\\envs\\streamlit\\lib\\site-packages (from httpx<1,>=0.23.0->openai->-r requirements.txt (line 1)) (2025.7.9)\n",
      "Requirement already satisfied: httpcore==1.* in c:\\users\\farhanarain\\anaconda3\\envs\\streamlit\\lib\\site-packages (from httpx<1,>=0.23.0->openai->-r requirements.txt (line 1)) (1.0.9)\n",
      "Requirement already satisfied: h11>=0.16 in c:\\users\\farhanarain\\anaconda3\\envs\\streamlit\\lib\\site-packages (from httpcore==1.*->httpx<1,>=0.23.0->openai->-r requirements.txt (line 1)) (0.16.0)\n",
      "Requirement already satisfied: annotated-types>=0.6.0 in c:\\users\\farhanarain\\anaconda3\\envs\\streamlit\\lib\\site-packages (from pydantic<3,>=1.9.0->openai->-r requirements.txt (line 1)) (0.7.0)\n",
      "Requirement already satisfied: pydantic-core==2.33.2 in c:\\users\\farhanarain\\anaconda3\\envs\\streamlit\\lib\\site-packages (from pydantic<3,>=1.9.0->openai->-r requirements.txt (line 1)) (2.33.2)\n",
      "Requirement already satisfied: typing-inspection>=0.4.0 in c:\\users\\farhanarain\\anaconda3\\envs\\streamlit\\lib\\site-packages (from pydantic<3,>=1.9.0->openai->-r requirements.txt (line 1)) (0.4.1)\n",
      "Requirement already satisfied: colorama in c:\\users\\farhanarain\\anaconda3\\envs\\streamlit\\lib\\site-packages (from tqdm>4->openai->-r requirements.txt (line 1)) (0.4.6)\n",
      "Note: you may need to restart the kernel to use updated packages.\n"
     ]
    }
   ],
   "source": [
    "%pip install -r requirements.txt"
   ]
  },
  {
   "cell_type": "code",
   "execution_count": 2,
   "id": "84cd683e",
   "metadata": {},
   "outputs": [],
   "source": [
    "import os\n",
    "from openai import OpenAI\n",
    "from dotenv import find_dotenv, load_dotenv"
   ]
  },
  {
   "cell_type": "code",
   "execution_count": 4,
   "id": "20de1901",
   "metadata": {},
   "outputs": [],
   "source": [
    "_ : bool = load_dotenv(find_dotenv()) # read local .env file\n",
    "\n",
    "client : OpenAI = OpenAI()"
   ]
  },
  {
   "cell_type": "code",
   "execution_count": 5,
   "id": "16c3658e",
   "metadata": {},
   "outputs": [
    {
     "data": {
      "text/plain": [
       "True"
      ]
     },
     "execution_count": 5,
     "metadata": {},
     "output_type": "execute_result"
    }
   ],
   "source": [
    "_"
   ]
  },
  {
   "cell_type": "code",
   "execution_count": 6,
   "id": "afe15b3b",
   "metadata": {},
   "outputs": [
    {
     "name": "stdout",
     "output_type": "stream",
     "text": [
      "🔐 OpenAI Key Loaded: True\n"
     ]
    }
   ],
   "source": [
    "# Get the key\n",
    "api_key = os.getenv(\"OPENAI_API_KEY\")\n",
    "\n",
    "# Check and print whether it's loaded\n",
    "if api_key:\n",
    "    print(\"🔐 OpenAI Key Loaded:\", bool(api_key))  # True or False\n",
    "if not api_key:\n",
    "    raise EnvironmentError(\"❌ OPENAI_API_KEY not found in .env file!\")"
   ]
  },
  {
   "cell_type": "code",
   "execution_count": 7,
   "id": "3aa08a5a",
   "metadata": {},
   "outputs": [],
   "source": [
    "import json\n",
    "\n",
    "def convert_currency(amount: float, from_currency: str, to_currency: str) -> str:\n",
    "    \"\"\"Convert currency using a dummy rate (in real app use an API)\"\"\"\n",
    "    # Simulated static exchange rates\n",
    "    rates = {\n",
    "        \"usd_to_pkr\": 278,\n",
    "        \"eur_to_usd\": 1.1,\n",
    "        \"usd_to_eur\": 0.91,\n",
    "        \"pkr_to_usd\": 0.0036\n",
    "    }\n",
    "    \n",
    "    key = f\"{from_currency.lower()}_to_{to_currency.lower()}\"\n",
    "    rate = rates.get(key)\n",
    "    \n",
    "    if rate:\n",
    "        converted = round(amount * rate, 2)\n",
    "        return json.dumps({\n",
    "            \"amount\": amount,\n",
    "            \"from_currency\": from_currency.upper(),\n",
    "            \"to_currency\": to_currency.upper(),\n",
    "            \"converted_amount\": converted,\n",
    "            \"rate_used\": rate\n",
    "        })\n",
    "    else:\n",
    "        return json.dumps({\n",
    "            \"error\": \"Conversion rate not available\",\n",
    "            \"from_currency\": from_currency,\n",
    "            \"to_currency\": to_currency\n",
    "        })\n"
   ]
  },
  {
   "cell_type": "markdown",
   "id": "fcfa5a1f",
   "metadata": {},
   "source": [
    "#### **Function calling with custom Currency conversion function**"
   ]
  },
  {
   "cell_type": "code",
   "execution_count": 13,
   "id": "a2ad9814",
   "metadata": {},
   "outputs": [],
   "source": [
    "def run_currency_conversion(main_request: str) -> str:\n",
    "    messages = [{\"role\": \"user\", \"content\": main_request}]\n",
    "    \n",
    "    # Function tool definition\n",
    "    tools = [\n",
    "        {\n",
    "            \"type\": \"function\",\n",
    "            \"function\": {\n",
    "                \"name\": \"convert_currency\",\n",
    "                \"description\": \"Convert currency from one to another using exchange rate\",\n",
    "                \"parameters\": {\n",
    "                    \"type\": \"object\",\n",
    "                    \"properties\": {\n",
    "                        \"amount\": {\n",
    "                            \"type\": \"number\",\n",
    "                            \"description\": \"Amount of money to convert\"\n",
    "                        },\n",
    "                        \"from_currency\": {\n",
    "                            \"type\": \"string\",\n",
    "                            \"description\": \"Currency to convert from, e.g. USD\"\n",
    "                        },\n",
    "                        \"to_currency\": {\n",
    "                            \"type\": \"string\",\n",
    "                            \"description\": \"Currency to convert to, e.g. PKR\"\n",
    "                        }\n",
    "                    },\n",
    "                    \"required\": [\"amount\", \"from_currency\", \"to_currency\"]\n",
    "                }\n",
    "            }\n",
    "        }\n",
    "    ]\n",
    "\n",
    "    # First Request to OpenAI\n",
    "    response: ChatCompletion = client.chat.completions.create(\n",
    "        model=\"gpt-3.5-turbo-1106\",\n",
    "        messages=messages,\n",
    "        tools=tools,\n",
    "        tool_choice=\"auto\"  # let model decide\n",
    "    )\n",
    "\n",
    "    response_message: ChatCompletionMessage = response.choices[0].message\n",
    "    display(\"* First Response: \", dict(response_message))\n",
    "\n",
    "    tool_calls = response_message.tool_calls\n",
    "    display(\"* First Response Tool Calls: \", list(tool_calls))\n",
    "\n",
    "    # Step 2: Check if model decided to call a tool\n",
    "    if tool_calls:\n",
    "        available_functions = {\n",
    "            \"convert_currency\": convert_currency,\n",
    "        }\n",
    "\n",
    "        # Extend messages with assistant’s reply\n",
    "        messages.append(response_message)\n",
    "\n",
    "        for tool_call in tool_calls:\n",
    "            function_name = tool_call.function.name\n",
    "            function_to_call = available_functions[function_name]\n",
    "            function_args = json.loads(tool_call.function.arguments)\n",
    "\n",
    "            function_response = function_to_call(\n",
    "                amount=function_args.get(\"amount\"),\n",
    "                from_currency=function_args.get(\"from_currency\"),\n",
    "                to_currency=function_args.get(\"to_currency\")\n",
    "            )\n",
    "\n",
    "            # Append tool response to messages\n",
    "            messages.append({\n",
    "                \"tool_call_id\": tool_call.id,\n",
    "                \"role\": \"tool\",\n",
    "                \"name\": function_name,\n",
    "                \"content\": function_response,\n",
    "            })\n",
    "\n",
    "        display(\"* Second Request Messages: \", list(messages))\n",
    "\n",
    "        # Step 3: Second request to model including tool response\n",
    "        second_response: ChatCompletion = client.chat.completions.create(\n",
    "            model=\"gpt-3.5-turbo-1106\",\n",
    "            messages=messages\n",
    "        )\n",
    "\n",
    "        print(\"* Second Response: \", dict(second_response))\n",
    "        return second_response.choices[0].message.content"
   ]
  },
  {
   "cell_type": "code",
   "execution_count": 14,
   "id": "9c0ebb1c",
   "metadata": {},
   "outputs": [
    {
     "data": {
      "text/plain": [
       "'* First Response: '"
      ]
     },
     "metadata": {},
     "output_type": "display_data"
    },
    {
     "data": {
      "text/plain": [
       "{'content': None,\n",
       " 'refusal': None,\n",
       " 'role': 'assistant',\n",
       " 'annotations': [],\n",
       " 'audio': None,\n",
       " 'function_call': None,\n",
       " 'tool_calls': [ChatCompletionMessageToolCall(id='call_JwAVnakcvLjPKFsdHiqcRA12', function=Function(arguments='{\"amount\": 100, \"from_currency\": \"USD\", \"to_currency\": \"PKR\"}', name='convert_currency'), type='function'),\n",
       "  ChatCompletionMessageToolCall(id='call_LUh3ThoupDh29vWSOZJKprxg', function=Function(arguments='{\"amount\": 100, \"from_currency\": \"USD\", \"to_currency\": \"CAD\"}', name='convert_currency'), type='function')]}"
      ]
     },
     "metadata": {},
     "output_type": "display_data"
    },
    {
     "data": {
      "text/plain": [
       "'* First Response Tool Calls: '"
      ]
     },
     "metadata": {},
     "output_type": "display_data"
    },
    {
     "data": {
      "text/plain": [
       "[ChatCompletionMessageToolCall(id='call_JwAVnakcvLjPKFsdHiqcRA12', function=Function(arguments='{\"amount\": 100, \"from_currency\": \"USD\", \"to_currency\": \"PKR\"}', name='convert_currency'), type='function'),\n",
       " ChatCompletionMessageToolCall(id='call_LUh3ThoupDh29vWSOZJKprxg', function=Function(arguments='{\"amount\": 100, \"from_currency\": \"USD\", \"to_currency\": \"CAD\"}', name='convert_currency'), type='function')]"
      ]
     },
     "metadata": {},
     "output_type": "display_data"
    },
    {
     "data": {
      "text/plain": [
       "'* Second Request Messages: '"
      ]
     },
     "metadata": {},
     "output_type": "display_data"
    },
    {
     "data": {
      "text/plain": [
       "[{'role': 'user', 'content': 'Convert 100 USD to PKR'},\n",
       " ChatCompletionMessage(content=None, refusal=None, role='assistant', annotations=[], audio=None, function_call=None, tool_calls=[ChatCompletionMessageToolCall(id='call_JwAVnakcvLjPKFsdHiqcRA12', function=Function(arguments='{\"amount\": 100, \"from_currency\": \"USD\", \"to_currency\": \"PKR\"}', name='convert_currency'), type='function'), ChatCompletionMessageToolCall(id='call_LUh3ThoupDh29vWSOZJKprxg', function=Function(arguments='{\"amount\": 100, \"from_currency\": \"USD\", \"to_currency\": \"CAD\"}', name='convert_currency'), type='function')]),\n",
       " {'tool_call_id': 'call_JwAVnakcvLjPKFsdHiqcRA12',\n",
       "  'role': 'tool',\n",
       "  'name': 'convert_currency',\n",
       "  'content': '{\"amount\": 100, \"from_currency\": \"USD\", \"to_currency\": \"PKR\", \"converted_amount\": 27800, \"rate_used\": 278}'},\n",
       " {'tool_call_id': 'call_LUh3ThoupDh29vWSOZJKprxg',\n",
       "  'role': 'tool',\n",
       "  'name': 'convert_currency',\n",
       "  'content': '{\"error\": \"Conversion rate not available\", \"from_currency\": \"USD\", \"to_currency\": \"CAD\"}'}]"
      ]
     },
     "metadata": {},
     "output_type": "display_data"
    },
    {
     "name": "stdout",
     "output_type": "stream",
     "text": [
      "* Second Response:  {'id': 'chatcmpl-BvMN5qch1woAQOm3aYCpmUEe5xHTe', 'choices': [Choice(finish_reason='stop', index=0, logprobs=None, message=ChatCompletionMessage(content='100 USD is approximately equal to 27,800 PKR.', refusal=None, role='assistant', annotations=[], audio=None, function_call=None, tool_calls=None))], 'created': 1753010391, 'model': 'gpt-3.5-turbo-1106', 'object': 'chat.completion', 'service_tier': 'default', 'system_fingerprint': 'fp_982035f36f', 'usage': CompletionUsage(completion_tokens=13, prompt_tokens=149, total_tokens=162, completion_tokens_details=CompletionTokensDetails(accepted_prediction_tokens=0, audio_tokens=0, reasoning_tokens=0, rejected_prediction_tokens=0), prompt_tokens_details=PromptTokensDetails(audio_tokens=0, cached_tokens=0))}\n",
      "100 USD is approximately equal to 27,800 PKR.\n"
     ]
    }
   ],
   "source": [
    "result = run_currency_conversion(\"Convert 100 USD to PKR\")\n",
    "print(result)"
   ]
  },
  {
   "cell_type": "markdown",
   "id": "b5333739",
   "metadata": {},
   "source": [
    "#### **Function calling with custom weather function**"
   ]
  },
  {
   "cell_type": "code",
   "execution_count": 15,
   "id": "8751a9d3",
   "metadata": {},
   "outputs": [],
   "source": [
    "# Example dummy function hard coded to return the same weather\n",
    "# In production, this could be your backend API or an external API\n",
    "def get_current_weather(location:str, unit:str=\"fahrenheit\")->str:\n",
    "    \"\"\"Get the current weather in a given location\"\"\"\n",
    "    if \"tokyo\" in location.lower():\n",
    "        return json.dumps({\"location\": \"Tokyo\", \"temperature\": \"10\", \"unit\": \"celsius\"})\n",
    "    elif \"san francisco\" in location.lower():\n",
    "        return json.dumps({\"location\": \"San Francisco\", \"temperature\": \"72\", \"unit\": \"fahrenheit\"})\n",
    "    elif \"paris\" in location.lower():\n",
    "        return json.dumps({\"location\": \"Paris\", \"temperature\": \"22\", \"unit\": \"celsius\"})\n",
    "    else:\n",
    "        return json.dumps({\"location\": location, \"temperature\": \"unknown\"})"
   ]
  },
  {
   "cell_type": "code",
   "execution_count": 19,
   "id": "5b7b858e",
   "metadata": {},
   "outputs": [],
   "source": [
    "from openai.types.chat.chat_completion import ChatCompletionMessage, ChatCompletion\n",
    "# from openai.types.chat.chat_completion import ChatCompletionMessageParam, ChatCompletionMessageParam\n",
    "\n",
    "def run_conversation(main_request: str)->str:\n",
    "    # Step 1: send the conversation and available functions to the model\n",
    "    messages = [{\"role\": \"user\", \"content\": main_request}]\n",
    "    tools = [\n",
    "        {\n",
    "            \"type\": \"function\",\n",
    "            \"function\": {\n",
    "                \"name\": \"get_current_weather\",\n",
    "                \"description\": \"Get the current weather in a given location\",\n",
    "                \"parameters\": {\n",
    "                    \"type\": \"object\",\n",
    "                    \"properties\": {\n",
    "                        \"location\": {\n",
    "                            \"type\": \"string\",\n",
    "                            \"description\": \"The city and state, e.g. San Francisco, CA\",\n",
    "                        },\n",
    "                        \"unit\": {\"type\": \"string\", \"enum\": [\"celsius\", \"fahrenheit\"]},\n",
    "                    },\n",
    "                    \"required\": [\"location\"],\n",
    "                },\n",
    "            },\n",
    "        }\n",
    "    ]\n",
    "\n",
    "    # First Request\n",
    "    response: ChatCompletion = client.chat.completions.create(\n",
    "        model=\"gpt-3.5-turbo-1106\",\n",
    "        messages=messages,\n",
    "        tools=tools,\n",
    "        tool_choice=\"auto\",  # auto is default, but we'll be explicit\n",
    "    )\n",
    "    response_message: ChatCompletionMessage = response.choices[0].message\n",
    "    display(\"* First Response: \", dict(response_message))\n",
    "\n",
    "    tool_calls = response_message.tool_calls\n",
    "    if tool_calls is not None:\n",
    "        display(\"* First Reponse Tool Calls: \", list(tool_calls))\n",
    "    else:\n",
    "        display(\"* First Reponse Tool Calls: \", None)\n",
    "\n",
    "\n",
    "    # Step 2: check if the model wanted to call a function\n",
    "    if tool_calls:\n",
    "        # Step 3: call the function\n",
    "        # Note: the JSON response may not always be valid; be sure to handle errors\n",
    "        available_functions = {\n",
    "            \"get_current_weather\": get_current_weather,\n",
    "        }  # only one function in this example, but you can have multiple\n",
    "        \n",
    "        messages.append(response_message)  # extend conversation with assistant's reply\n",
    "        \n",
    "        # Step 4: send the info for each function call and function response to the model\n",
    "        for tool_call in tool_calls:\n",
    "            function_name = tool_call.function.name\n",
    "            function_to_call = available_functions[function_name]\n",
    "            function_args = json.loads(tool_call.function.arguments)\n",
    "            function_response = function_to_call(\n",
    "                location=function_args.get(\"location\"),\n",
    "                unit=function_args.get(\"unit\"),\n",
    "            )\n",
    "            messages.append(\n",
    "                {\n",
    "                    \"tool_call_id\": tool_call.id,\n",
    "                    \"role\": \"tool\",\n",
    "                    \"name\": function_name,\n",
    "                    \"content\": function_response,\n",
    "                }\n",
    "            )  # extend conversation with function response\n",
    "        display(\"* Second Request Messages: \", list(messages))\n",
    "        second_response: ChatCompletion = client.chat.completions.create(\n",
    "            model=\"gpt-3.5-turbo-1106\",\n",
    "            messages=messages,\n",
    "        )  # get a new response from the model where it can see the function response\n",
    "        print(\"* Second Response: \", dict(second_response))\n",
    "        return second_response.choices[0].message.content"
   ]
  },
  {
   "cell_type": "code",
   "execution_count": 20,
   "id": "a1355edb",
   "metadata": {},
   "outputs": [
    {
     "data": {
      "text/plain": [
       "'* First Response: '"
      ]
     },
     "metadata": {},
     "output_type": "display_data"
    },
    {
     "data": {
      "text/plain": [
       "{'content': None,\n",
       " 'refusal': None,\n",
       " 'role': 'assistant',\n",
       " 'annotations': [],\n",
       " 'audio': None,\n",
       " 'function_call': None,\n",
       " 'tool_calls': [ChatCompletionMessageToolCall(id='call_YyX65v0mmftyjp7H49Ll0XSW', function=Function(arguments='{\"location\": \"San Francisco, CA\", \"unit\": \"celsius\"}', name='get_current_weather'), type='function'),\n",
       "  ChatCompletionMessageToolCall(id='call_tDpBaLESCNNpsHD7VjXjPKA6', function=Function(arguments='{\"location\": \"Tokyo, Japan\", \"unit\": \"celsius\"}', name='get_current_weather'), type='function'),\n",
       "  ChatCompletionMessageToolCall(id='call_d1akFKteo9rpnREsck7hT8o2', function=Function(arguments='{\"location\": \"Paris, France\", \"unit\": \"celsius\"}', name='get_current_weather'), type='function')]}"
      ]
     },
     "metadata": {},
     "output_type": "display_data"
    },
    {
     "data": {
      "text/plain": [
       "'* First Reponse Tool Calls: '"
      ]
     },
     "metadata": {},
     "output_type": "display_data"
    },
    {
     "data": {
      "text/plain": [
       "[ChatCompletionMessageToolCall(id='call_YyX65v0mmftyjp7H49Ll0XSW', function=Function(arguments='{\"location\": \"San Francisco, CA\", \"unit\": \"celsius\"}', name='get_current_weather'), type='function'),\n",
       " ChatCompletionMessageToolCall(id='call_tDpBaLESCNNpsHD7VjXjPKA6', function=Function(arguments='{\"location\": \"Tokyo, Japan\", \"unit\": \"celsius\"}', name='get_current_weather'), type='function'),\n",
       " ChatCompletionMessageToolCall(id='call_d1akFKteo9rpnREsck7hT8o2', function=Function(arguments='{\"location\": \"Paris, France\", \"unit\": \"celsius\"}', name='get_current_weather'), type='function')]"
      ]
     },
     "metadata": {},
     "output_type": "display_data"
    },
    {
     "data": {
      "text/plain": [
       "'* Second Request Messages: '"
      ]
     },
     "metadata": {},
     "output_type": "display_data"
    },
    {
     "data": {
      "text/plain": [
       "[{'role': 'user',\n",
       "  'content': \"What's the weather like in San Francisco, Tokyo, and Paris?\"},\n",
       " ChatCompletionMessage(content=None, refusal=None, role='assistant', annotations=[], audio=None, function_call=None, tool_calls=[ChatCompletionMessageToolCall(id='call_YyX65v0mmftyjp7H49Ll0XSW', function=Function(arguments='{\"location\": \"San Francisco, CA\", \"unit\": \"celsius\"}', name='get_current_weather'), type='function'), ChatCompletionMessageToolCall(id='call_tDpBaLESCNNpsHD7VjXjPKA6', function=Function(arguments='{\"location\": \"Tokyo, Japan\", \"unit\": \"celsius\"}', name='get_current_weather'), type='function'), ChatCompletionMessageToolCall(id='call_d1akFKteo9rpnREsck7hT8o2', function=Function(arguments='{\"location\": \"Paris, France\", \"unit\": \"celsius\"}', name='get_current_weather'), type='function')]),\n",
       " {'tool_call_id': 'call_YyX65v0mmftyjp7H49Ll0XSW',\n",
       "  'role': 'tool',\n",
       "  'name': 'get_current_weather',\n",
       "  'content': '{\"location\": \"San Francisco\", \"temperature\": \"72\", \"unit\": \"fahrenheit\"}'},\n",
       " {'tool_call_id': 'call_tDpBaLESCNNpsHD7VjXjPKA6',\n",
       "  'role': 'tool',\n",
       "  'name': 'get_current_weather',\n",
       "  'content': '{\"location\": \"Tokyo\", \"temperature\": \"10\", \"unit\": \"celsius\"}'},\n",
       " {'tool_call_id': 'call_d1akFKteo9rpnREsck7hT8o2',\n",
       "  'role': 'tool',\n",
       "  'name': 'get_current_weather',\n",
       "  'content': '{\"location\": \"Paris\", \"temperature\": \"22\", \"unit\": \"celsius\"}'}]"
      ]
     },
     "metadata": {},
     "output_type": "display_data"
    },
    {
     "name": "stdout",
     "output_type": "stream",
     "text": [
      "* Second Response:  {'id': 'chatcmpl-BvMfu0cT2T4HCui6MOJKNoIp9zlvc', 'choices': [Choice(finish_reason='stop', index=0, logprobs=None, message=ChatCompletionMessage(content='The current weather in San Francisco, CA is 72°F. In Tokyo, Japan, it is 10°C. In Paris, France, it is 22°C.', refusal=None, role='assistant', annotations=[], audio=None, function_call=None, tool_calls=None))], 'created': 1753011558, 'model': 'gpt-3.5-turbo-1106', 'object': 'chat.completion', 'service_tier': 'default', 'system_fingerprint': 'fp_982035f36f', 'usage': CompletionUsage(completion_tokens=35, prompt_tokens=175, total_tokens=210, completion_tokens_details=CompletionTokensDetails(accepted_prediction_tokens=0, audio_tokens=0, reasoning_tokens=0, rejected_prediction_tokens=0), prompt_tokens_details=PromptTokensDetails(audio_tokens=0, cached_tokens=0))}\n"
     ]
    },
    {
     "data": {
      "text/plain": [
       "'The current weather in San Francisco, CA is 72°F. In Tokyo, Japan, it is 10°C. In Paris, France, it is 22°C.'"
      ]
     },
     "execution_count": 20,
     "metadata": {},
     "output_type": "execute_result"
    }
   ],
   "source": [
    "run_conversation(\"What's the weather like in San Francisco, Tokyo, and Paris?\")"
   ]
  },
  {
   "cell_type": "markdown",
   "id": "50e2f8e4",
   "metadata": {},
   "source": [
    "#### **Now, as we I will not ask a question related to get_current_weather, so it will not call custom function.**"
   ]
  },
  {
   "cell_type": "code",
   "execution_count": 21,
   "id": "cf2b9b17",
   "metadata": {},
   "outputs": [
    {
     "data": {
      "text/plain": [
       "'* First Response: '"
      ]
     },
     "metadata": {},
     "output_type": "display_data"
    },
    {
     "data": {
      "text/plain": [
       "{'content': \"The Israel-Palestine conflict is a long-standing and complex dispute over land, borders, and political sovereignty in the Middle East. It involves the State of Israel, which was established in 1948, and the Palestinian territories of the West Bank and the Gaza Strip.\\n\\nThe conflict has deep historical, religious, and political roots, and it involves competing claims to the same territory by Israelis and Palestinians. It also includes issues related to security, human rights, and international law.\\n\\nEfforts to resolve the conflict have involved international diplomacy, peace negotiations, and various peace plans, but a lasting resolution has remained elusive.\\n\\nThe conflict has led to ongoing tensions, violence, and suffering for both Israeli and Palestinian populations. It is a subject of global concern and continues to be a focus of international diplomacy and peacebuilding efforts.\\n\\nIf you'd like to know more, I can also provide you with the current weather in a specific location in either Israel or Palestine.\",\n",
       " 'refusal': None,\n",
       " 'role': 'assistant',\n",
       " 'annotations': [],\n",
       " 'audio': None,\n",
       " 'function_call': None,\n",
       " 'tool_calls': None}"
      ]
     },
     "metadata": {},
     "output_type": "display_data"
    },
    {
     "data": {
      "text/plain": [
       "'* First Reponse Tool Calls: '"
      ]
     },
     "metadata": {},
     "output_type": "display_data"
    },
    {
     "data": {
      "text/plain": [
       "None"
      ]
     },
     "metadata": {},
     "output_type": "display_data"
    }
   ],
   "source": [
    "run_conversation(\"What's the Israel-Palestine Conflict?\")"
   ]
  },
  {
   "cell_type": "code",
   "execution_count": null,
   "id": "fa292f08",
   "metadata": {},
   "outputs": [],
   "source": []
  }
 ],
 "metadata": {
  "kernelspec": {
   "display_name": "streamlit",
   "language": "python",
   "name": "python3"
  },
  "language_info": {
   "codemirror_mode": {
    "name": "ipython",
    "version": 3
   },
   "file_extension": ".py",
   "mimetype": "text/x-python",
   "name": "python",
   "nbconvert_exporter": "python",
   "pygments_lexer": "ipython3",
   "version": "3.11.13"
  }
 },
 "nbformat": 4,
 "nbformat_minor": 5
}
