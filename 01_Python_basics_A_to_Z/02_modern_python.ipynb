{
 "cells": [
  {
   "cell_type": "markdown",
   "id": "6648a3ef",
   "metadata": {},
   "source": [
    "# **Modern Python**\n",
    "\n",
    "- https://www.w3schools.com/python/default.asp\n",
    "- https://peps.python.org/"
   ]
  },
  {
   "cell_type": "code",
   "execution_count": 1,
   "id": "3aaef4f7",
   "metadata": {},
   "outputs": [
    {
     "name": "stdout",
     "output_type": "stream",
     "text": [
      "Farhan\n"
     ]
    }
   ],
   "source": [
    "name : str = \"Farhan\"\n",
    "print(name)"
   ]
  },
  {
   "cell_type": "code",
   "execution_count": 2,
   "id": "26821bd7",
   "metadata": {},
   "outputs": [
    {
     "name": "stdout",
     "output_type": "stream",
     "text": [
      "700\n"
     ]
    }
   ],
   "source": [
    "name : float = 700\n",
    "print(name)"
   ]
  },
  {
   "cell_type": "code",
   "execution_count": 3,
   "id": "bb98d5af",
   "metadata": {},
   "outputs": [
    {
     "name": "stdout",
     "output_type": "stream",
     "text": [
      "True\n"
     ]
    }
   ],
   "source": [
    "name : bool = True\n",
    "print(name)"
   ]
  },
  {
   "cell_type": "code",
   "execution_count": 4,
   "id": "929220d7",
   "metadata": {},
   "outputs": [
    {
     "name": "stdout",
     "output_type": "stream",
     "text": [
      "['Farhan', 'Lahore', 'Karachi']\n",
      "<class 'list'>\n"
     ]
    }
   ],
   "source": [
    "names : list[str] = [\"Farhan\", \"Lahore\", \"Karachi\"]\n",
    "print(names)\n",
    "print(type(names))"
   ]
  },
  {
   "cell_type": "code",
   "execution_count": 5,
   "id": "00ec476e",
   "metadata": {},
   "outputs": [
    {
     "name": "stdout",
     "output_type": "stream",
     "text": [
      "('Farhan', 700, 25.5)\n",
      "<class 'tuple'>\n"
     ]
    }
   ],
   "source": [
    "names : tuple[str, int, float] = (\"Farhan\", 700, 25.5)\n",
    "print(names)\n",
    "print(type(names))"
   ]
  },
  {
   "cell_type": "code",
   "execution_count": 6,
   "id": "c6bd0088",
   "metadata": {},
   "outputs": [
    {
     "name": "stdout",
     "output_type": "stream",
     "text": [
      "['Farhan', 700, 25.5, True]\n",
      "<class 'list'>\n"
     ]
    }
   ],
   "source": [
    "from typing import Any\n",
    "names_any_elements: list[Any] = [\"Farhan\", 700, 25.5, True]\n",
    "print(names_any_elements)\n",
    "print(type(names_any_elements))"
   ]
  },
  {
   "cell_type": "code",
   "execution_count": 7,
   "id": "ca83ea31",
   "metadata": {},
   "outputs": [
    {
     "name": "stdout",
     "output_type": "stream",
     "text": [
      "('Farhan', 700, 25.5, True)\n",
      "<class 'tuple'>\n"
     ]
    }
   ],
   "source": [
    "from typing import Any\n",
    "\n",
    "names_any_elements: tuple[Any, ...] = (\"Farhan\", 700, 25.5, True)\n",
    "print(names_any_elements)\n",
    "print(type(names_any_elements))\n",
    "# This means a tuple of any length, where each element can be any type.\n",
    "# It's less specific than your original."
   ]
  },
  {
   "cell_type": "code",
   "execution_count": 8,
   "id": "69457fbd",
   "metadata": {},
   "outputs": [
    {
     "name": "stdout",
     "output_type": "stream",
     "text": [
      "Hi, Farhan\n"
     ]
    }
   ],
   "source": [
    "name = \"Farhan\"\n",
    "greetings = \"Hi\"\n",
    "\n",
    "say_greetings : str = f'{greetings}, {name}'\n",
    "print(say_greetings)"
   ]
  },
  {
   "cell_type": "code",
   "execution_count": 9,
   "id": "279076d4",
   "metadata": {},
   "outputs": [
    {
     "name": "stdout",
     "output_type": "stream",
     "text": [
      "Hi, Farhan\n"
     ]
    }
   ],
   "source": [
    "name = \"Farhan\"\n",
    "greetings = \"Hi\"\n",
    "\n",
    "say_greetings : str = f'{greetings}, {name}'\n",
    "print(say_greetings)"
   ]
  },
  {
   "cell_type": "code",
   "execution_count": 10,
   "id": "614da448",
   "metadata": {},
   "outputs": [
    {
     "name": "stdout",
     "output_type": "stream",
     "text": [
      "My name is Muhammad Farhan Aslam.\n",
      "I'm a machine learning engineer and Data Scienctist.\n",
      "I love to learn AI.\n",
      "\n"
     ]
    }
   ],
   "source": [
    "text : str = '''My name is Muhammad Farhan Aslam.\n",
    "I'm a machine learning engineer and Data Scienctist.\n",
    "I love to learn AI.\n",
    "'''\n",
    "print(text)"
   ]
  },
  {
   "cell_type": "code",
   "execution_count": 11,
   "id": "1766bd65",
   "metadata": {},
   "outputs": [
    {
     "name": "stdout",
     "output_type": "stream",
     "text": [
      "107\n"
     ]
    }
   ],
   "source": [
    "print(len(text))"
   ]
  },
  {
   "cell_type": "markdown",
   "id": "2eab1ad7",
   "metadata": {},
   "source": [
    "## **Python String Methods**"
   ]
  },
  {
   "cell_type": "code",
   "execution_count": 12,
   "id": "5a67b5be",
   "metadata": {},
   "outputs": [
    {
     "data": {
      "text/plain": [
       "\"My name is muhammad farhan aslam.\\ni'm a machine learning engineer and data scienctist.\\ni love to learn ai.\\n\""
      ]
     },
     "execution_count": 12,
     "metadata": {},
     "output_type": "execute_result"
    }
   ],
   "source": [
    "text.capitalize()  # Converts the first character to upper case"
   ]
  },
  {
   "cell_type": "code",
   "execution_count": 13,
   "id": "dace6a47",
   "metadata": {},
   "outputs": [
    {
     "data": {
      "text/plain": [
       "\"my name is muhammad farhan aslam.\\ni'm a machine learning engineer and data scienctist.\\ni love to learn ai.\\n\""
      ]
     },
     "execution_count": 13,
     "metadata": {},
     "output_type": "execute_result"
    }
   ],
   "source": [
    "text.casefold()  # Converts string into lower case"
   ]
  },
  {
   "cell_type": "code",
   "execution_count": 14,
   "id": "92229c68",
   "metadata": {},
   "outputs": [
    {
     "name": "stdout",
     "output_type": "stream",
     "text": [
      "  Muhammad Farhan Aslam\n"
     ]
    }
   ],
   "source": [
    "text = \"  Muhammad Farhan Aslam\"\n",
    "centered_text = text.center(10)   # Returns a centered string\n",
    "print(centered_text)"
   ]
  },
  {
   "cell_type": "code",
   "execution_count": 15,
   "id": "f53dd423",
   "metadata": {},
   "outputs": [
    {
     "name": "stdout",
     "output_type": "stream",
     "text": [
      "count: 1\n"
     ]
    }
   ],
   "source": [
    "text = \"Muhammad Farhan Aslam\"\n",
    "count = text.count(\"Muhammad\")  # Returns the number of times a specified value occurs in a string\n",
    "print(\"count:\", count)\n"
   ]
  },
  {
   "cell_type": "code",
   "execution_count": 16,
   "id": "661dff02",
   "metadata": {},
   "outputs": [
    {
     "name": "stdout",
     "output_type": "stream",
     "text": [
      "encode: b'Muhammad Farhan Aslam'\n"
     ]
    }
   ],
   "source": [
    "text = \"Muhammad Farhan Aslam\"\n",
    "encode = text.encode()  # Returns an encoded version of the string\n",
    "print(\"encode:\", encode)\n"
   ]
  },
  {
   "cell_type": "code",
   "execution_count": 17,
   "id": "61aa872a",
   "metadata": {},
   "outputs": [
    {
     "name": "stdout",
     "output_type": "stream",
     "text": [
      "False\n"
     ]
    }
   ],
   "source": [
    "text = \"Muhammad Farhan Aslam\"\n",
    "text = text.endswith(\".\")   # Returns true if the string ends with the specified value\n",
    "print(text)"
   ]
  },
  {
   "cell_type": "code",
   "execution_count": 18,
   "id": "8a60d5fd",
   "metadata": {},
   "outputs": [
    {
     "name": "stdout",
     "output_type": "stream",
     "text": [
      "Muhammad  Farhan  Aslam\n"
     ]
    }
   ],
   "source": [
    "text = \"Muhammad\\tFarhan\\tAslam\"\n",
    "text = text.expandtabs(2)   # Sets the tab size of the string\n",
    "print(text)"
   ]
  },
  {
   "cell_type": "code",
   "execution_count": 19,
   "id": "ee3b0620",
   "metadata": {},
   "outputs": [
    {
     "name": "stdout",
     "output_type": "stream",
     "text": [
      "9\n"
     ]
    }
   ],
   "source": [
    "text = \"Muhammad Farhan Aslam\"\n",
    "text = text.find(\"Farhan\")  # Searches the string for a specified value and returns the position of where it was found\n",
    "print(text)"
   ]
  },
  {
   "cell_type": "code",
   "execution_count": 20,
   "id": "406ee677",
   "metadata": {},
   "outputs": [
    {
     "name": "stdout",
     "output_type": "stream",
     "text": [
      "My salary is 2000 dollars!\n"
     ]
    }
   ],
   "source": [
    "text = \"My salary is {price:.0f} dollars!\"\n",
    "text = text.format(price = 2000)  # Formats specified values in a string\n",
    "print(text)"
   ]
  },
  {
   "cell_type": "code",
   "execution_count": 21,
   "id": "cc9ab4f9",
   "metadata": {},
   "outputs": [
    {
     "name": "stdout",
     "output_type": "stream",
     "text": [
      "Happy birthday Muhamamd Farhan Aslam you are now on level 22!\n"
     ]
    }
   ],
   "source": [
    "name_dict = {\"name\" : \"Muhamamd Farhan Aslam\", \"age\" : 22}\n",
    "txt = \"Happy birthday {name} you are now on level {age}!\"\n",
    "txt = txt.format_map(name_dict)  # Formats specified values from a dictionary in a string\n",
    "print(txt)"
   ]
  },
  {
   "cell_type": "code",
   "execution_count": 22,
   "metadata": {},
   "outputs": [
    {
     "name": "stdout",
     "output_type": "stream",
     "text": [
      "6\n"
     ]
    }
   ],
   "source": [
    "txt = \"hello world\"\n",
    "print(txt.find(\"world\"))  # Searches for \"world\" and returns index: 6"
   ]
  },
  {
   "cell_type": "code",
   "execution_count": 23,
   "id": "8c2b2e0f",
   "metadata": {},
   "outputs": [
    {
     "name": "stdout",
     "output_type": "stream",
     "text": [
      "6\n"
     ]
    }
   ],
   "source": [
    "txt = \"hello world\"\n",
    "print(txt.index(\"world\"))  # Like find(), but raises error if not found: 6"
   ]
  },
  {
   "cell_type": "markdown",
   "id": "cade26dc",
   "metadata": {},
   "source": [
    "### **Validation / Check Methods**"
   ]
  },
  {
   "cell_type": "code",
   "execution_count": 24,
   "id": "3459b8e4",
   "metadata": {},
   "outputs": [
    {
     "name": "stdout",
     "output_type": "stream",
     "text": [
      "True\n"
     ]
    }
   ],
   "source": [
    "txt = \"abc123\"\n",
    "print(txt.isalnum())  # True – all characters alphanumeric"
   ]
  },
  {
   "cell_type": "code",
   "execution_count": 25,
   "id": "b3b6973d",
   "metadata": {},
   "outputs": [
    {
     "name": "stdout",
     "output_type": "stream",
     "text": [
      "True\n"
     ]
    }
   ],
   "source": [
    "txt = \"Python\"\n",
    "print(txt.isalpha())  # True – all letters"
   ]
  },
  {
   "cell_type": "code",
   "execution_count": 26,
   "id": "4bb8521f",
   "metadata": {},
   "outputs": [
    {
     "name": "stdout",
     "output_type": "stream",
     "text": [
      "True\n"
     ]
    }
   ],
   "source": [
    "txt = \"hello123!\"\n",
    "print(txt.isascii())  # True – all ASCII"
   ]
  },
  {
   "cell_type": "code",
   "execution_count": 27,
   "id": "19bb786e",
   "metadata": {},
   "outputs": [
    {
     "name": "stdout",
     "output_type": "stream",
     "text": [
      "True\n"
     ]
    }
   ],
   "source": [
    "txt = \"12345\"\n",
    "print(txt.isdecimal())  # True – only decimal digits"
   ]
  },
  {
   "cell_type": "code",
   "execution_count": 28,
   "id": "964deb68",
   "metadata": {},
   "outputs": [
    {
     "name": "stdout",
     "output_type": "stream",
     "text": [
      "True\n"
     ]
    }
   ],
   "source": [
    "txt = \"123\"\n",
    "print(txt.isdigit())  # True – only digits"
   ]
  },
  {
   "cell_type": "code",
   "execution_count": 29,
   "id": "d116d052",
   "metadata": {},
   "outputs": [
    {
     "name": "stdout",
     "output_type": "stream",
     "text": [
      "True\n"
     ]
    }
   ],
   "source": [
    "txt = \"my_var1\"\n",
    "print(txt.isidentifier())  # True – valid Python identifier\n"
   ]
  },
  {
   "cell_type": "code",
   "execution_count": 30,
   "id": "498dbfd3",
   "metadata": {},
   "outputs": [
    {
     "name": "stdout",
     "output_type": "stream",
     "text": [
      "True\n"
     ]
    }
   ],
   "source": [
    "txt = \"hello\"\n",
    "print(txt.islower())  # True – all lowercase"
   ]
  },
  {
   "cell_type": "code",
   "execution_count": 31,
   "id": "48355809",
   "metadata": {},
   "outputs": [
    {
     "name": "stdout",
     "output_type": "stream",
     "text": [
      "True\n"
     ]
    }
   ],
   "source": [
    "txt = \"123\"\n",
    "print(txt.isnumeric())  # True – numeric characters"
   ]
  },
  {
   "cell_type": "code",
   "execution_count": 32,
   "id": "d95abf91",
   "metadata": {},
   "outputs": [
    {
     "name": "stdout",
     "output_type": "stream",
     "text": [
      "True\n"
     ]
    }
   ],
   "source": [
    "txt = \"hello world!\"\n",
    "print(txt.isprintable())  # True – all printable"
   ]
  },
  {
   "cell_type": "code",
   "execution_count": 33,
   "metadata": {},
   "outputs": [
    {
     "name": "stdout",
     "output_type": "stream",
     "text": [
      "True\n"
     ]
    }
   ],
   "source": [
    "txt = \"   \\t\\n\"\n",
    "print(txt.isspace())  # True – only whitespace"
   ]
  },
  {
   "cell_type": "code",
   "execution_count": 34,
   "id": "5104be49",
   "metadata": {},
   "outputs": [
    {
     "name": "stdout",
     "output_type": "stream",
     "text": [
      "True\n"
     ]
    }
   ],
   "source": [
    "txt = \"My Title Here\"\n",
    "print(txt.istitle())  # True – title case"
   ]
  },
  {
   "cell_type": "code",
   "execution_count": 35,
   "id": "e62cfae2",
   "metadata": {},
   "outputs": [
    {
     "name": "stdout",
     "output_type": "stream",
     "text": [
      "True\n"
     ]
    }
   ],
   "source": [
    "txt = \"HELLO\"\n",
    "print(txt.isupper())  # True – all uppercase"
   ]
  },
  {
   "cell_type": "markdown",
   "id": "34ec42eb",
   "metadata": {},
   "source": [
    "### **Join, Justify, Strip, Case Methods**"
   ]
  },
  {
   "cell_type": "code",
   "execution_count": 36,
   "id": "565e3750",
   "metadata": {},
   "outputs": [
    {
     "name": "stdout",
     "output_type": "stream",
     "text": [
      "2025-06-27\n"
     ]
    }
   ],
   "source": [
    "date = \"-\".join([\"2025\", \"06\", \"27\"])\n",
    "print(date)  # Joins with hyphens: 2025-06-27"
   ]
  },
  {
   "cell_type": "code",
   "execution_count": 37,
   "id": "e7f72afe",
   "metadata": {},
   "outputs": [
    {
     "name": "stdout",
     "output_type": "stream",
     "text": [
      "hello.....\n"
     ]
    }
   ],
   "source": [
    "txt = \"hello\"\n",
    "print(txt.ljust(10, \".\"))  # Left-justifies: 'hello.....'"
   ]
  },
  {
   "cell_type": "code",
   "execution_count": 38,
   "id": "c17194c4",
   "metadata": {},
   "outputs": [
    {
     "name": "stdout",
     "output_type": "stream",
     "text": [
      "hello\n"
     ]
    }
   ],
   "source": [
    "txt = \"HELLO\"\n",
    "print(txt.lower())  # Converts to lowercase: hello"
   ]
  },
  {
   "cell_type": "code",
   "execution_count": 39,
   "id": "18c48102",
   "metadata": {},
   "outputs": [
    {
     "name": "stdout",
     "output_type": "stream",
     "text": [
      "hello\n"
     ]
    }
   ],
   "source": [
    "txt = \"   hello\"\n",
    "print(txt.lstrip())  # Trims left whitespace: 'hello'"
   ]
  },
  {
   "cell_type": "code",
   "execution_count": 40,
   "id": "25c41f6c",
   "metadata": {},
   "outputs": [
    {
     "name": "stdout",
     "output_type": "stream",
     "text": [
      "1ppl2\n"
     ]
    }
   ],
   "source": [
    "txt = \"apple\"\n",
    "table = str.maketrans(\"ae\", \"12\")\n",
    "print(txt.translate(table))  # Translates a → 1, e → 2 → \"1ppl2\""
   ]
  },
  {
   "cell_type": "code",
   "execution_count": 41,
   "id": "c57cc19f",
   "metadata": {},
   "outputs": [
    {
     "name": "stdout",
     "output_type": "stream",
     "text": [
      "('hello', ' ', 'world')\n"
     ]
    }
   ],
   "source": [
    "txt = \"hello world\"\n",
    "print(txt.partition(\" \"))  # Splits once at space: ('hello', ' ', 'world')"
   ]
  },
  {
   "cell_type": "code",
   "execution_count": 42,
   "id": "2d9119b9",
   "metadata": {},
   "outputs": [
    {
     "name": "stdout",
     "output_type": "stream",
     "text": [
      "hello Python\n"
     ]
    }
   ],
   "source": [
    "txt = \"hello world\"\n",
    "print(txt.replace(\"world\", \"Python\"))  # Replaces word: 'hello Python'"
   ]
  },
  {
   "cell_type": "code",
   "execution_count": 43,
   "id": "96a05d58",
   "metadata": {},
   "outputs": [
    {
     "name": "stdout",
     "output_type": "stream",
     "text": [
      "6\n"
     ]
    }
   ],
   "source": [
    "txt = \"hello hello\"\n",
    "print(txt.rfind(\"hello\"))  # Finds last occurrence: 6"
   ]
  },
  {
   "cell_type": "code",
   "execution_count": 44,
   "id": "eca70f06",
   "metadata": {},
   "outputs": [
    {
     "name": "stdout",
     "output_type": "stream",
     "text": [
      "6\n"
     ]
    }
   ],
   "source": [
    "txt = \"hello hello\"\n",
    "print(txt.rindex(\"hello\"))  # Same as rfind but raises error if not found: 6"
   ]
  },
  {
   "cell_type": "code",
   "execution_count": 45,
   "id": "0df37da9",
   "metadata": {},
   "outputs": [
    {
     "name": "stdout",
     "output_type": "stream",
     "text": [
      "6\n"
     ]
    }
   ],
   "source": [
    "txt = \"hello hello\"\n",
    "print(txt.rindex(\"hello\"))  # Same as rfind but raises error if not found: 6"
   ]
  },
  {
   "cell_type": "code",
   "execution_count": 46,
   "id": "0ce9bd48",
   "metadata": {},
   "outputs": [
    {
     "name": "stdout",
     "output_type": "stream",
     "text": [
      ".....hello\n"
     ]
    }
   ],
   "source": [
    "txt = \"hello\"\n",
    "print(txt.rjust(10, \".\"))  # Right-justifies: '.....hello'"
   ]
  },
  {
   "cell_type": "code",
   "execution_count": 47,
   "id": "bed28630",
   "metadata": {},
   "outputs": [
    {
     "name": "stdout",
     "output_type": "stream",
     "text": [
      "('2025-06', '-', '27')\n"
     ]
    }
   ],
   "source": [
    "txt = \"2025-06-27\"\n",
    "print(txt.rpartition(\"-\"))  # Partitions from right: ('2025-06', '-', '27')"
   ]
  },
  {
   "cell_type": "code",
   "execution_count": 48,
   "metadata": {},
   "outputs": [
    {
     "name": "stdout",
     "output_type": "stream",
     "text": [
      "['a,b', 'c']\n"
     ]
    }
   ],
   "source": [
    "txt = \"a,b,c\"\n",
    "print(txt.rsplit(\",\", 1))  # Right split once: ['a,b', 'c']"
   ]
  },
  {
   "cell_type": "code",
   "execution_count": 49,
   "id": "4b812675",
   "metadata": {},
   "outputs": [
    {
     "name": "stdout",
     "output_type": "stream",
     "text": [
      "hello\n"
     ]
    }
   ],
   "source": [
    "txt = \"hello   \"\n",
    "print(txt.rstrip())  # Trims right whitespace: 'hello'"
   ]
  },
  {
   "cell_type": "code",
   "execution_count": 50,
   "id": "c11a0c02",
   "metadata": {},
   "outputs": [
    {
     "name": "stdout",
     "output_type": "stream",
     "text": [
      "['a', 'b', 'c']\n"
     ]
    }
   ],
   "source": [
    "txt = \"a b c\"\n",
    "print(txt.split())  # Splits by whitespace: ['a', 'b', 'c']"
   ]
  },
  {
   "cell_type": "code",
   "execution_count": 51,
   "id": "9014a8aa",
   "metadata": {},
   "outputs": [
    {
     "name": "stdout",
     "output_type": "stream",
     "text": [
      "['line1', 'line2']\n"
     ]
    }
   ],
   "source": [
    "txt = \"line1\\nline2\"\n",
    "print(txt.splitlines())  # Splits by line breaks: ['line1', 'line2']"
   ]
  },
  {
   "cell_type": "code",
   "execution_count": 52,
   "id": "3376a77a",
   "metadata": {},
   "outputs": [
    {
     "name": "stdout",
     "output_type": "stream",
     "text": [
      "True\n"
     ]
    }
   ],
   "source": [
    "txt = \"hello world\"\n",
    "print(txt.startswith(\"hello\"))  # True – starts with \"hello\""
   ]
  },
  {
   "cell_type": "code",
   "execution_count": 53,
   "metadata": {},
   "outputs": [
    {
     "name": "stdout",
     "output_type": "stream",
     "text": [
      "hello\n"
     ]
    }
   ],
   "source": [
    "txt = \"  hello  \"\n",
    "print(txt.strip())  # Trims both sides: 'hello'"
   ]
  },
  {
   "cell_type": "code",
   "execution_count": 54,
   "id": "d5723e27",
   "metadata": {},
   "outputs": [
    {
     "name": "stdout",
     "output_type": "stream",
     "text": [
      "hELLO world\n"
     ]
    }
   ],
   "source": [
    "txt = \"Hello WORLD\"\n",
    "print(txt.swapcase())  # Swaps case: hELLO world"
   ]
  },
  {
   "cell_type": "code",
   "execution_count": 55,
   "id": "f5136063",
   "metadata": {},
   "outputs": [
    {
     "name": "stdout",
     "output_type": "stream",
     "text": [
      "Hello World\n"
     ]
    }
   ],
   "source": [
    "txt = \"hello world\"\n",
    "print(txt.title())  # Converts to title case: Hello World"
   ]
  },
  {
   "cell_type": "code",
   "execution_count": 56,
   "id": "d11deb21",
   "metadata": {},
   "outputs": [
    {
     "name": "stdout",
     "output_type": "stream",
     "text": [
      "HELLO\n"
     ]
    }
   ],
   "source": [
    "txt = \"HELLO\"\n",
    "print(txt.upper())  # Converts to uppercase: HELLO"
   ]
  },
  {
   "cell_type": "code",
   "execution_count": 57,
   "metadata": {},
   "outputs": [
    {
     "name": "stdout",
     "output_type": "stream",
     "text": [
      "00042\n"
     ]
    }
   ],
   "source": [
    "txt = \"42\"\n",
    "print(txt.zfill(5))  # Pads with zeros: 00042"
   ]
  },
  {
   "cell_type": "markdown",
   "id": "086098c1",
   "metadata": {},
   "source": [
    "### **Python List/Array Methods**"
   ]
  },
  {
   "cell_type": "code",
   "execution_count": 58,
   "id": "cb73aca5",
   "metadata": {},
   "outputs": [
    {
     "name": "stdout",
     "output_type": "stream",
     "text": [
      "['apple', 'banana', 'cherry']\n"
     ]
    }
   ],
   "source": [
    "# append() – Adds an element to the end\n",
    "fruits = [\"apple\", \"banana\"]\n",
    "fruits.append(\"cherry\")\n",
    "print(fruits)"
   ]
  },
  {
   "cell_type": "code",
   "execution_count": 59,
   "id": "ad0d7a03",
   "metadata": {},
   "outputs": [
    {
     "name": "stdout",
     "output_type": "stream",
     "text": [
      "[]\n"
     ]
    }
   ],
   "source": [
    "# clear() – Removes all elements\n",
    "fruits = [\"apple\", \"banana\"]\n",
    "fruits.clear()\n",
    "print(fruits)"
   ]
  },
  {
   "cell_type": "code",
   "execution_count": 60,
   "id": "ba60e3da",
   "metadata": {},
   "outputs": [
    {
     "name": "stdout",
     "output_type": "stream",
     "text": [
      "['apple', 'banana']\n",
      "['apple', 'banana', 'cherry']\n",
      "['apple', 'banana']\n"
     ]
    }
   ],
   "source": [
    "# copy() – Returns a copy of the list\n",
    "fruits = [\"apple\", \"banana\"]\n",
    "print(fruits)\n",
    "copied = fruits.copy()\n",
    "fruits.append(\"cherry\")\n",
    "print(fruits)\n",
    "print(copied)"
   ]
  },
  {
   "cell_type": "code",
   "execution_count": 61,
   "id": "530a8011",
   "metadata": {},
   "outputs": [
    {
     "name": "stdout",
     "output_type": "stream",
     "text": [
      "3\n"
     ]
    }
   ],
   "source": [
    "# count() – Counts occurrences of a value\n",
    "nums = [1, 2, 2, 3, 2]\n",
    "print(nums.count(2))"
   ]
  },
  {
   "cell_type": "code",
   "execution_count": 62,
   "id": "40ea8aa6",
   "metadata": {},
   "outputs": [
    {
     "name": "stdout",
     "output_type": "stream",
     "text": [
      "[1, 2, 3, 4]\n"
     ]
    }
   ],
   "source": [
    "# extend() – Adds elements from another iterable\n",
    "a = [1, 2]\n",
    "b = [3, 4]\n",
    "a.extend(b)\n",
    "print(a)  # [1, 2, 3, 4]\n"
   ]
  },
  {
   "cell_type": "code",
   "execution_count": 63,
   "id": "3edecf98",
   "metadata": {},
   "outputs": [
    {
     "name": "stdout",
     "output_type": "stream",
     "text": [
      "3\n"
     ]
    }
   ],
   "source": [
    "# index() – Returns index of first match\n",
    "names = [\"Abubakar\", \"Umar\", \"Usman\", \"Ali\"]\n",
    "print(names.index(\"Ali\"))"
   ]
  },
  {
   "cell_type": "code",
   "execution_count": 64,
   "id": "77cebc63",
   "metadata": {},
   "outputs": [
    {
     "name": "stdout",
     "output_type": "stream",
     "text": [
      "['apple', 'orange', 'banana']\n"
     ]
    }
   ],
   "source": [
    "# insert() – Inserts at specific index\n",
    "fruits = [\"apple\", \"banana\"]\n",
    "fruits.insert(1, \"orange\")\n",
    "print(fruits)"
   ]
  },
  {
   "cell_type": "code",
   "execution_count": 65,
   "id": "e261122f",
   "metadata": {},
   "outputs": [
    {
     "name": "stdout",
     "output_type": "stream",
     "text": [
      "['apple', 'banana']\n"
     ]
    }
   ],
   "source": [
    "# pop() – Removes item at index (last by default)\n",
    "fruits = [\"apple\", \"banana\", \"cherry\"]\n",
    "fruits.pop()\n",
    "print(fruits)"
   ]
  },
  {
   "cell_type": "code",
   "execution_count": 66,
   "metadata": {},
   "outputs": [
    {
     "name": "stdout",
     "output_type": "stream",
     "text": [
      "['banana', 'apple']\n"
     ]
    }
   ],
   "source": [
    "# remove() – Removes first matching item\n",
    "fruits = [\"apple\", \"banana\", \"apple\"]\n",
    "fruits.remove(\"apple\")\n",
    "print(fruits)"
   ]
  },
  {
   "cell_type": "code",
   "execution_count": 67,
   "metadata": {},
   "outputs": [
    {
     "name": "stdout",
     "output_type": "stream",
     "text": [
      "[3, 2, 1]\n"
     ]
    }
   ],
   "source": [
    "# reverse() – Reverses list order\n",
    "nums = [1, 2, 3]\n",
    "nums.reverse()\n",
    "print(nums)"
   ]
  },
  {
   "cell_type": "code",
   "execution_count": 68,
   "id": "ddd894ae",
   "metadata": {},
   "outputs": [
    {
     "name": "stdout",
     "output_type": "stream",
     "text": [
      "[1, 2, 3]\n"
     ]
    }
   ],
   "source": [
    "# sort() – Sorts the list in ascending order\n",
    "nums = [3, 1, 2]\n",
    "nums.sort()\n",
    "print(nums)"
   ]
  },
  {
   "cell_type": "markdown",
   "id": "d0c2b297",
   "metadata": {},
   "source": [
    "## **Python Dictionary Methods**"
   ]
  },
  {
   "cell_type": "code",
   "execution_count": 69,
   "metadata": {},
   "outputs": [
    {
     "name": "stdout",
     "output_type": "stream",
     "text": [
      "{}\n"
     ]
    }
   ],
   "source": [
    "# clear() – Removes all items from the dictionary\n",
    "info = {\"name\": \"Farhan\", \"age\": 22}\n",
    "info.clear()\n",
    "print(info)"
   ]
  },
  {
   "cell_type": "code",
   "execution_count": 70,
   "id": "41fdf6fa",
   "metadata": {},
   "outputs": [
    {
     "name": "stdout",
     "output_type": "stream",
     "text": [
      "{'name': 'Farhan', 'age': 22}\n"
     ]
    }
   ],
   "source": [
    "# copy() – Returns a shallow copy\n",
    "original = {\"name\": \"Farhan\", \"age\": 22}\n",
    "copied = original.copy()\n",
    "print(copied)"
   ]
  },
  {
   "cell_type": "code",
   "execution_count": 71,
   "id": "895e3e01",
   "metadata": {},
   "outputs": [
    {
     "name": "stdout",
     "output_type": "stream",
     "text": [
      "{'name': 'unknown', 'age': 'unknown'}\n"
     ]
    }
   ],
   "source": [
    "# fromkeys() – Creates dictionary from keys and one value\n",
    "keys = [\"name\", \"age\"]\n",
    "default_dict = dict.fromkeys(keys, \"unknown\")\n",
    "print(default_dict)"
   ]
  },
  {
   "cell_type": "code",
   "execution_count": 72,
   "id": "bfb21b3d",
   "metadata": {},
   "outputs": [
    {
     "name": "stdout",
     "output_type": "stream",
     "text": [
      "Farhan\n",
      "Not Found\n"
     ]
    }
   ],
   "source": [
    "# get() – Returns value for given key\n",
    "person = {\"name\": \"Farhan\", \"age\": 22}\n",
    "print(person.get(\"name\"))  # Farhan\n",
    "print(person.get(\"city\", \"Not Found\"))"
   ]
  },
  {
   "cell_type": "code",
   "execution_count": 73,
   "id": "4592ee3c",
   "metadata": {},
   "outputs": [
    {
     "name": "stdout",
     "output_type": "stream",
     "text": [
      "[('name', 'Farhan'), ('age', 22)]\n"
     ]
    }
   ],
   "source": [
    "# items() – Returns all key-value pairs as tuples\n",
    "person = {\"name\": \"Farhan\", \"age\": 22}\n",
    "print(list(person.items()))"
   ]
  },
  {
   "cell_type": "code",
   "execution_count": 74,
   "metadata": {},
   "outputs": [
    {
     "name": "stdout",
     "output_type": "stream",
     "text": [
      "['name', 'age']\n"
     ]
    }
   ],
   "source": [
    "# keys() – Returns all keys\n",
    "person = {\"name\": \"Farhan\", \"age\": 22}\n",
    "print(list(person.keys()))"
   ]
  },
  {
   "cell_type": "code",
   "execution_count": 75,
   "metadata": {},
   "outputs": [
    {
     "name": "stdout",
     "output_type": "stream",
     "text": [
      "{'name': 'Farhan'}\n"
     ]
    }
   ],
   "source": [
    "# pop() – Removes item with specified key\n",
    "person = {\"name\": \"Farhan\", \"age\": 22}\n",
    "person.pop(\"age\")\n",
    "print(person)"
   ]
  },
  {
   "cell_type": "code",
   "execution_count": 76,
   "metadata": {},
   "outputs": [
    {
     "name": "stdout",
     "output_type": "stream",
     "text": [
      "{'name': 'Farhan'}\n"
     ]
    }
   ],
   "source": [
    "# popitem() – Removes last inserted key-value pair\n",
    "person = {\"name\": \"Farhan\", \"age\": 22}\n",
    "person.popitem()\n",
    "print(person)  # {'name': 'Farhan'} or {'age': 22}, depending on insertion order (Python 3.7+ maintains order)"
   ]
  },
  {
   "cell_type": "code",
   "execution_count": 77,
   "id": "3a0b17e0",
   "metadata": {},
   "outputs": [
    {
     "name": "stdout",
     "output_type": "stream",
     "text": [
      "{'name': 'Farhan', 'age': 22}\n"
     ]
    }
   ],
   "source": [
    "# setdefault() – Gets value or sets if not exists\n",
    "person = {\"name\": \"Farhan\"}\n",
    "person.setdefault(\"age\", 22)\n",
    "print(person)"
   ]
  },
  {
   "cell_type": "code",
   "execution_count": 78,
   "id": "c15d7e3d",
   "metadata": {},
   "outputs": [
    {
     "name": "stdout",
     "output_type": "stream",
     "text": [
      "{'name': 'Farhan', 'age': 22, 'city': 'Lahore'}\n"
     ]
    }
   ],
   "source": [
    "# update() – Updates with new key-value pairs\n",
    "person = {\"name\": \"Farhan\"}\n",
    "person.update({\"age\": 22, \"city\": \"Lahore\"})\n",
    "print(person)"
   ]
  },
  {
   "cell_type": "code",
   "execution_count": 79,
   "metadata": {},
   "outputs": [
    {
     "name": "stdout",
     "output_type": "stream",
     "text": [
      "['Farhan', 22]\n"
     ]
    }
   ],
   "source": [
    "# values() – Returns all values\n",
    "person = {\"name\": \"Farhan\", \"age\": 22}\n",
    "print(list(person.values()))"
   ]
  },
  {
   "cell_type": "markdown",
   "id": "1463bf1e",
   "metadata": {},
   "source": [
    "## **Python Tuple Methods**"
   ]
  },
  {
   "cell_type": "code",
   "execution_count": 80,
   "id": "4a4f37ba",
   "metadata": {},
   "outputs": [
    {
     "data": {
      "text/plain": [
       "3"
      ]
     },
     "execution_count": 80,
     "metadata": {},
     "output_type": "execute_result"
    }
   ],
   "source": [
    "# count() – Returns number of times a value occurs in the tuple\n",
    "nums = (1, 2, 3, 2, 4, 2)\n",
    "nums.count(2)"
   ]
  },
  {
   "cell_type": "code",
   "execution_count": 81,
   "id": "89cc8535",
   "metadata": {},
   "outputs": [
    {
     "data": {
      "text/plain": [
       "3"
      ]
     },
     "execution_count": 81,
     "metadata": {},
     "output_type": "execute_result"
    }
   ],
   "source": [
    "# index() – Returns the index of the first occurrence of a value\n",
    "names = (\"Abubakar\", \"Farhan\", \"Ahmed\", \"Ali\")\n",
    "names.index(\"Ali\")"
   ]
  },
  {
   "cell_type": "markdown",
   "id": "10996211",
   "metadata": {},
   "source": [
    "## **Python Set Methods**"
   ]
  },
  {
   "cell_type": "code",
   "execution_count": 82,
   "metadata": {},
   "outputs": [
    {
     "name": "stdout",
     "output_type": "stream",
     "text": [
      "{1, 2, 3, 4}\n"
     ]
    }
   ],
   "source": [
    "# add() – Adds an element to the set\n",
    "s = {1, 2, 3}\n",
    "s.add(4)\n",
    "print(s)"
   ]
  },
  {
   "cell_type": "code",
   "execution_count": 83,
   "id": "de0150ab",
   "metadata": {},
   "outputs": [
    {
     "name": "stdout",
     "output_type": "stream",
     "text": [
      "set()\n"
     ]
    }
   ],
   "source": [
    "# clear() – Removes all elements from the set\n",
    "s = {1, 2, 3}\n",
    "s.clear()\n",
    "print(s)"
   ]
  },
  {
   "cell_type": "code",
   "execution_count": 84,
   "id": "0b514082",
   "metadata": {},
   "outputs": [
    {
     "name": "stdout",
     "output_type": "stream",
     "text": [
      "{1, 2, 3, 4}\n",
      "{1, 2, 3}\n"
     ]
    }
   ],
   "source": [
    "# copy() – Returns a shallow copy of the set\n",
    "s = {1, 2, 3}\n",
    "copy_s = s.copy()\n",
    "s.add(4)\n",
    "print(s)\n",
    "print(copy_s)"
   ]
  },
  {
   "cell_type": "code",
   "execution_count": 85,
   "id": "11efc7f2",
   "metadata": {},
   "outputs": [
    {
     "name": "stdout",
     "output_type": "stream",
     "text": [
      "{1}\n"
     ]
    }
   ],
   "source": [
    "# difference() – Returns elements of one set but not in others\n",
    "a = {1, 2, 3}\n",
    "b = {2, 3, 4}\n",
    "diff = a.difference(b)  # The element 1 of set a is not in set b\n",
    "print(diff)"
   ]
  },
  {
   "cell_type": "code",
   "execution_count": 86,
   "id": "f48cc248",
   "metadata": {},
   "outputs": [
    {
     "name": "stdout",
     "output_type": "stream",
     "text": [
      "None\n"
     ]
    }
   ],
   "source": [
    "# difference_update() – Removes common elements found in another set\n",
    "a = {1, 2, 3, 4}\n",
    "b = {2, 3, 4}\n",
    "diff_update = a.difference_update(b)\n",
    "print(diff_update)"
   ]
  },
  {
   "cell_type": "code",
   "execution_count": 87,
   "id": "c0333ba5",
   "metadata": {},
   "outputs": [
    {
     "name": "stdout",
     "output_type": "stream",
     "text": [
      "{1, 3}\n"
     ]
    }
   ],
   "source": [
    "# discard() – Removes an item if present (no error if not)\n",
    "s = {1, 2, 3}\n",
    "s.discard(2)\n",
    "print(s)"
   ]
  },
  {
   "cell_type": "code",
   "execution_count": 88,
   "id": "3e693267",
   "metadata": {},
   "outputs": [
    {
     "name": "stdout",
     "output_type": "stream",
     "text": [
      "{2, 3}\n"
     ]
    }
   ],
   "source": [
    "# intersection() – Returns common elements\n",
    "a = {1, 2, 3}\n",
    "b = {2, 3, 4}\n",
    "intersection = a.intersection(b)\n",
    "print(intersection)"
   ]
  },
  {
   "cell_type": "code",
   "execution_count": 89,
   "id": "fe575620",
   "metadata": {},
   "outputs": [
    {
     "name": "stdout",
     "output_type": "stream",
     "text": [
      "None\n"
     ]
    }
   ],
   "source": [
    "# intersection_update() – Keeps only items found in both sets\n",
    "a = {1, 2, 3}\n",
    "b = {2, 3, 4}\n",
    "intersec_update = a.intersection_update(b)\n",
    "print(intersec_update)"
   ]
  },
  {
   "cell_type": "code",
   "execution_count": 90,
   "id": "cf6de1bc",
   "metadata": {},
   "outputs": [
    {
     "name": "stdout",
     "output_type": "stream",
     "text": [
      "False\n"
     ]
    }
   ],
   "source": [
    "# isdisjoint() – Checks if sets have no elements in common\n",
    "a = {1, 2, 3}\n",
    "b = {3, 4}\n",
    "disjoint = a.isdisjoint(b)\n",
    "print(disjoint)"
   ]
  },
  {
   "cell_type": "code",
   "execution_count": 91,
   "id": "b51dfca5",
   "metadata": {},
   "outputs": [
    {
     "name": "stdout",
     "output_type": "stream",
     "text": [
      "True\n"
     ]
    }
   ],
   "source": [
    "# issubset() – Checks if all elements of one set are in another\n",
    "a = {1, 2}\n",
    "b = {1, 2, 3}\n",
    "subset = a.issubset(b)\n",
    "print(subset)"
   ]
  },
  {
   "cell_type": "code",
   "execution_count": 92,
   "id": "d726cd45",
   "metadata": {},
   "outputs": [
    {
     "name": "stdout",
     "output_type": "stream",
     "text": [
      "True\n"
     ]
    }
   ],
   "source": [
    "# issuperset() – Checks if a set contains all elements of another\n",
    "a = {1, 2, 3}\n",
    "b = {1, 2}\n",
    "superset = a.issuperset(b)\n",
    "print(superset)"
   ]
  },
  {
   "cell_type": "code",
   "execution_count": 93,
   "id": "6b2240ab",
   "metadata": {},
   "outputs": [
    {
     "name": "stdout",
     "output_type": "stream",
     "text": [
      "{2, 3}\n"
     ]
    }
   ],
   "source": [
    "# pop() – Removes and returns an arbitrary element\n",
    "s = {1, 2, 3}\n",
    "s.pop()\n",
    "print(s)"
   ]
  },
  {
   "cell_type": "code",
   "execution_count": 94,
   "id": "1eb1cc14",
   "metadata": {},
   "outputs": [
    {
     "name": "stdout",
     "output_type": "stream",
     "text": [
      "{1, 3}\n"
     ]
    }
   ],
   "source": [
    "# remove() – Removes a specific element (raises error if not found)\n",
    "s = {1, 2, 3}\n",
    "s.remove(2)\n",
    "print(s)"
   ]
  },
  {
   "cell_type": "code",
   "execution_count": 95,
   "id": "13db0063",
   "metadata": {},
   "outputs": [
    {
     "name": "stdout",
     "output_type": "stream",
     "text": [
      "{1, 3}\n"
     ]
    }
   ],
   "source": [
    "# symmetric_difference() – Elements in either set but not both\n",
    "a = {1, 2}\n",
    "b = {2, 3}\n",
    "sym_diff = a.symmetric_difference(b)\n",
    "print(sym_diff)"
   ]
  },
  {
   "cell_type": "code",
   "execution_count": 96,
   "id": "dd67ddaf",
   "metadata": {},
   "outputs": [
    {
     "name": "stdout",
     "output_type": "stream",
     "text": [
      "None\n"
     ]
    }
   ],
   "source": [
    "# symmetric_difference_update() – Updates with symmetric difference\n",
    "a = {1, 2}\n",
    "b = {2, 3}\n",
    "sym_diff_update = a.symmetric_difference_update(b)\n",
    "print(sym_diff_update)"
   ]
  },
  {
   "cell_type": "code",
   "execution_count": 97,
   "id": "395373e3",
   "metadata": {},
   "outputs": [
    {
     "name": "stdout",
     "output_type": "stream",
     "text": [
      "{1, 2, 3, 4}\n"
     ]
    }
   ],
   "source": [
    "# union() – Returns all elements from both sets\n",
    "a = {1, 2}\n",
    "b = {3, 4}\n",
    "union = a.union(b)\n",
    "print(union)"
   ]
  },
  {
   "cell_type": "code",
   "execution_count": 98,
   "id": "57e86e50",
   "metadata": {},
   "outputs": [
    {
     "name": "stdout",
     "output_type": "stream",
     "text": [
      "None\n"
     ]
    }
   ],
   "source": [
    "# update() – Adds all elements from another set\n",
    "a = {1, 2}\n",
    "b = {3, 4}\n",
    "update = a.update(b)\n",
    "print(update)"
   ]
  },
  {
   "cell_type": "markdown",
   "id": "b5df37ea",
   "metadata": {},
   "source": [
    "## **Python File Methods**"
   ]
  },
  {
   "cell_type": "code",
   "execution_count": 99,
   "id": "37d5970d",
   "metadata": {},
   "outputs": [],
   "source": [
    "# close() – Closes the file\n",
    "f = open(\"example.txt\", \"w\")\n",
    "f.close()"
   ]
  },
  {
   "cell_type": "code",
   "execution_count": 100,
   "id": "5d9272f1",
   "metadata": {},
   "outputs": [],
   "source": [
    "import io\n",
    "\n",
    "# Create a binary stream\n",
    "binary_stream = open(\"example.txt\", \"wb+\")\n",
    "\n",
    "# Wrap it in a text buffer\n",
    "text_stream = io.TextIOWrapper(binary_stream, encoding='utf-8')\n",
    "\n",
    "# Write something to the file\n",
    "text_stream.write(\"Hello Detach!\\n\")\n",
    "text_stream.flush()\n",
    "\n",
    "# Detach the underlying binary buffer from the text wrapper\n",
    "raw_stream = text_stream.detach()\n",
    "\n",
    "# Now 'text_stream' is unusable; we work directly with raw_stream\n",
    "raw_stream.write(b\"Binary Write\\n\")\n",
    "raw_stream.close()"
   ]
  },
  {
   "cell_type": "code",
   "execution_count": 101,
   "id": "89d518f6",
   "metadata": {},
   "outputs": [
    {
     "name": "stdout",
     "output_type": "stream",
     "text": [
      "3\n"
     ]
    }
   ],
   "source": [
    "# fileno() – Returns OS-level file descriptor\n",
    "f = open(\"example.txt\", \"w\")\n",
    "print(f.fileno())\n",
    "f.close()"
   ]
  },
  {
   "cell_type": "code",
   "execution_count": 102,
   "metadata": {},
   "outputs": [
    {
     "name": "stdout",
     "output_type": "stream",
     "text": [
      "None\n"
     ]
    }
   ],
   "source": [
    "# flush() – Flushes write buffer to disk\n",
    "f = open(\"example.txt\", \"w\")\n",
    "f.write(\"Hello\")\n",
    "print(f.flush())\n",
    "f.close()"
   ]
  },
  {
   "cell_type": "code",
   "execution_count": 103,
   "metadata": {},
   "outputs": [
    {
     "name": "stdout",
     "output_type": "stream",
     "text": [
      "False\n"
     ]
    }
   ],
   "source": [
    "# isatty() – Checks if file is connected to terminal (usually False for files)\n",
    "f = open(\"example.txt\", \"r\")\n",
    "print(f.isatty())\n",
    "f.close()"
   ]
  },
  {
   "cell_type": "code",
   "execution_count": 104,
   "id": "cfc3617a",
   "metadata": {},
   "outputs": [
    {
     "name": "stdout",
     "output_type": "stream",
     "text": [
      "Hello\n"
     ]
    }
   ],
   "source": [
    "# read() – Reads entire file content\n",
    "f = open(\"example.txt\", \"r\")\n",
    "print(f.read())\n",
    "f.close()"
   ]
  },
  {
   "cell_type": "code",
   "execution_count": 105,
   "id": "8eff597e",
   "metadata": {},
   "outputs": [
    {
     "name": "stdout",
     "output_type": "stream",
     "text": [
      "True\n"
     ]
    }
   ],
   "source": [
    "# readable() – Checks if file is readable\n",
    "f = open(\"example.txt\", \"r\")\n",
    "print(f.readable())\n",
    "f.close()"
   ]
  },
  {
   "cell_type": "code",
   "execution_count": 106,
   "metadata": {},
   "outputs": [
    {
     "name": "stdout",
     "output_type": "stream",
     "text": [
      "Hello\n"
     ]
    }
   ],
   "source": [
    "# readline() – Reads a single line from the file\n",
    "f = open(\"example.txt\", \"r\")\n",
    "print(f.readline())\n",
    "f.close()"
   ]
  },
  {
   "cell_type": "code",
   "execution_count": 107,
   "id": "743e3a5c",
   "metadata": {},
   "outputs": [],
   "source": [
    "# close() – Closes the file\n",
    "f = open(\"example.txt\", \"w\")\n",
    "f.write(\"Hello \\nMy name is Muhammad Farhan Aslam.\")\n",
    "f.close()"
   ]
  },
  {
   "cell_type": "code",
   "execution_count": 108,
   "id": "e9d4ba6a",
   "metadata": {},
   "outputs": [
    {
     "name": "stdout",
     "output_type": "stream",
     "text": [
      "['Hello \\n', 'My name is Muhammad Farhan Aslam.']\n"
     ]
    }
   ],
   "source": [
    "# readlines() – Reads all lines into a list\n",
    "f = open(\"example.txt\", \"r\")\n",
    "print(f.readlines())\n",
    "f.close()"
   ]
  },
  {
   "cell_type": "code",
   "execution_count": 109,
   "id": "0dc33ed5",
   "metadata": {},
   "outputs": [
    {
     "name": "stdout",
     "output_type": "stream",
     "text": [
      "4\n"
     ]
    }
   ],
   "source": [
    "# seek() – Moves file pointer to specified position\n",
    "f = open(\"example.txt\", \"r\")\n",
    "print(f.seek(4))\n",
    "f.close()"
   ]
  },
  {
   "cell_type": "code",
   "execution_count": 110,
   "id": "d9401988",
   "metadata": {},
   "outputs": [
    {
     "name": "stdout",
     "output_type": "stream",
     "text": [
      "True\n"
     ]
    }
   ],
   "source": [
    "# seekable() – Checks if file supports seek()\n",
    "f = open(\"example.txt\", \"r\")\n",
    "print(f.seekable())\n",
    "f.close()"
   ]
  },
  {
   "cell_type": "code",
   "execution_count": 111,
   "id": "4a7d5489",
   "metadata": {},
   "outputs": [
    {
     "name": "stdout",
     "output_type": "stream",
     "text": [
      "0\n"
     ]
    }
   ],
   "source": [
    "# tell() – Returns current file pointer position\n",
    "f = open(\"example.txt\", \"r\")\n",
    "print(f.tell())\n",
    "f.close()"
   ]
  },
  {
   "cell_type": "code",
   "execution_count": 112,
   "id": "53ba7bda",
   "metadata": {},
   "outputs": [
    {
     "name": "stdout",
     "output_type": "stream",
     "text": [
      "5\n"
     ]
    }
   ],
   "source": [
    "# truncate() – Truncates file to a specified size\n",
    "f = open(\"example.txt\", \"w\")\n",
    "f.write(\"Hello World\")\n",
    "print(f.truncate(5))\n",
    "f.close()"
   ]
  },
  {
   "cell_type": "code",
   "execution_count": 113,
   "id": "4aafb642",
   "metadata": {},
   "outputs": [
    {
     "name": "stdout",
     "output_type": "stream",
     "text": [
      "True\n"
     ]
    }
   ],
   "source": [
    "# writable() – Checks if file is writable\n",
    "f = open(\"example.txt\", \"w\")\n",
    "print(f.writable())\n",
    "f.close()"
   ]
  },
  {
   "cell_type": "code",
   "execution_count": 114,
   "id": "1ea50d84",
   "metadata": {},
   "outputs": [
    {
     "name": "stdout",
     "output_type": "stream",
     "text": [
      "6\n"
     ]
    }
   ],
   "source": [
    "# write() – Writes a string to the file\n",
    "f = open(\"example.txt\", \"w\")\n",
    "print(f.write(\"Hello\\n\"))\n",
    "f.close()"
   ]
  },
  {
   "cell_type": "code",
   "execution_count": 115,
   "id": "192a6ed0",
   "metadata": {},
   "outputs": [],
   "source": [
    "# writelines() – Writes a list of strings to the file\n",
    "f = open(\"example.txt\", \"w\")\n",
    "f.writelines([\"Line 1\\n\", \"Line 2\\n\"])\n",
    "f.close()"
   ]
  },
  {
   "cell_type": "code",
   "execution_count": 116,
   "id": "b2178cdc",
   "metadata": {},
   "outputs": [
    {
     "name": "stdout",
     "output_type": "stream",
     "text": [
      "['Line 1\\n', 'Line 2\\n']\n"
     ]
    }
   ],
   "source": [
    "# readlines() – Reads all lines into a list\n",
    "f = open(\"example.txt\", \"r\")\n",
    "print(f.readlines())\n",
    "f.close()"
   ]
  },
  {
   "cell_type": "markdown",
   "id": "1a158ba0",
   "metadata": {},
   "source": [
    "## **Python Keywords**"
   ]
  },
  {
   "cell_type": "code",
   "execution_count": 117,
   "id": "ab2de914",
   "metadata": {},
   "outputs": [
    {
     "name": "stdout",
     "output_type": "stream",
     "text": [
      "x is between 2 and 10\n"
     ]
    }
   ],
   "source": [
    "# and – Logical AND\n",
    "x = 5\n",
    "if x > 2 and x < 10:\n",
    "    print(\"x is between 2 and 10\")"
   ]
  },
  {
   "cell_type": "code",
   "execution_count": 118,
   "id": "110448e0",
   "metadata": {},
   "outputs": [
    {
     "name": "stdout",
     "output_type": "stream",
     "text": [
      "4.0\n"
     ]
    }
   ],
   "source": [
    "# as – Create alias for module\n",
    "import math as m\n",
    "print(m.sqrt(16))"
   ]
  },
  {
   "cell_type": "code",
   "execution_count": 119,
   "id": "060bf2f7",
   "metadata": {},
   "outputs": [],
   "source": [
    "import importlib\n",
    "import utils\n",
    "importlib.reload(utils)\n",
    "from utils import calculate_square\n",
    "import inspect"
   ]
  },
  {
   "cell_type": "code",
   "execution_count": 120,
   "id": "784d78bc",
   "metadata": {},
   "outputs": [
    {
     "name": "stdout",
     "output_type": "stream",
     "text": [
      "def calculate_square(numbers):\n",
      "    for n in numbers:\n",
      "        time.sleep(1)\n",
      "        yield f\"Square: {n ** 2}\"\n",
      "\n",
      "Calculating squares:\n",
      "Square: 4\n",
      "Square: 16\n",
      "Square: 36\n"
     ]
    }
   ],
   "source": [
    "# Confirm the source code (optional but helpful for debugging)\n",
    "print(inspect.getsource(calculate_square))\n",
    "\n",
    "# Your list of numbers\n",
    "nums = [2, 4, 6]\n",
    "\n",
    "# Iterate and print the results\n",
    "print(\"Calculating squares:\")\n",
    "for res in calculate_square(nums):\n",
    "    print(res)"
   ]
  },
  {
   "cell_type": "code",
   "execution_count": 121,
   "id": "ef35587d",
   "metadata": {},
   "outputs": [],
   "source": [
    "# assert – Debugging check\n",
    "assert 2 + 2 == 4"
   ]
  },
  {
   "cell_type": "code",
   "execution_count": 122,
   "id": "4b249cc6",
   "metadata": {},
   "outputs": [
    {
     "ename": "AssertionError",
     "evalue": "",
     "output_type": "error",
     "traceback": [
      "\u001b[31m---------------------------------------------------------------------------\u001b[39m",
      "\u001b[31mAssertionError\u001b[39m                            Traceback (most recent call last)",
      "\u001b[36mCell\u001b[39m\u001b[36m \u001b[39m\u001b[32mIn[122]\u001b[39m\u001b[32m, line 1\u001b[39m\n\u001b[32m----> \u001b[39m\u001b[32m1\u001b[39m \u001b[38;5;28;01massert\u001b[39;00m \u001b[32m2\u001b[39m + \u001b[32m2\u001b[39m == \u001b[33m\"\u001b[39m\u001b[33mMath is broken\u001b[39m\u001b[33m\"\u001b[39m\n",
      "\u001b[31mAssertionError\u001b[39m: "
     ]
    }
   ],
   "source": [
    "assert 2 + 2 == \"Math is broken\""
   ]
  },
  {
   "cell_type": "code",
   "execution_count": 123,
   "id": "7f273ec5",
   "metadata": {},
   "outputs": [
    {
     "name": "stdout",
     "output_type": "stream",
     "text": [
      "0\n",
      "1\n",
      "2\n"
     ]
    }
   ],
   "source": [
    "# break – Exit a loop\n",
    "for i in range(5):\n",
    "    if i == 3:\n",
    "        break\n",
    "    print(i)"
   ]
  },
  {
   "cell_type": "code",
   "execution_count": 124,
   "id": "cbd37977",
   "metadata": {},
   "outputs": [],
   "source": [
    "# class – Define a class\n",
    "class Person:\n",
    "    def __init__(self, name):\n",
    "        self.name = name"
   ]
  },
  {
   "cell_type": "code",
   "execution_count": 125,
   "id": "6b54dfc4",
   "metadata": {},
   "outputs": [
    {
     "name": "stdout",
     "output_type": "stream",
     "text": [
      "0\n",
      "1\n",
      "3\n",
      "4\n"
     ]
    }
   ],
   "source": [
    "# continue – Skip to next loop iteration\n",
    "for i in range(5):\n",
    "    if i == 2:\n",
    "        continue\n",
    "    print(i)"
   ]
  },
  {
   "cell_type": "code",
   "execution_count": 126,
   "id": "effe46c0",
   "metadata": {},
   "outputs": [
    {
     "data": {
      "text/plain": [
       "'Hello, Farhan'"
      ]
     },
     "execution_count": 126,
     "metadata": {},
     "output_type": "execute_result"
    }
   ],
   "source": [
    "# def – Define a function\n",
    "def greet(name):\n",
    "    return f\"Hello, {name}\"\n",
    "\n",
    "greet(\"Farhan\")"
   ]
  },
  {
   "cell_type": "code",
   "execution_count": 127,
   "id": "97e96083",
   "metadata": {},
   "outputs": [
    {
     "name": "stdout",
     "output_type": "stream",
     "text": [
      "[1, 2]\n"
     ]
    }
   ],
   "source": [
    "# del – Delete an object\n",
    "a = [1, 2, 3]\n",
    "del a[2]   # By index\n",
    "print(a)"
   ]
  },
  {
   "cell_type": "code",
   "execution_count": 128,
   "id": "1793e82e",
   "metadata": {},
   "outputs": [
    {
     "name": "stdout",
     "output_type": "stream",
     "text": [
      "medium\n"
     ]
    }
   ],
   "source": [
    "# elif – Else if in conditions\n",
    "x = 10\n",
    "if x < 5:\n",
    "    print(\"small\")\n",
    "elif x < 15:\n",
    "    print(\"medium\")"
   ]
  },
  {
   "cell_type": "code",
   "execution_count": 129,
   "id": "809f90b7",
   "metadata": {},
   "outputs": [
    {
     "name": "stdout",
     "output_type": "stream",
     "text": [
      "large\n"
     ]
    }
   ],
   "source": [
    "# else – Final fallback in conditions\n",
    "if x < 5:\n",
    "    print(\"small\")\n",
    "else:\n",
    "    print(\"large\")"
   ]
  },
  {
   "cell_type": "code",
   "execution_count": 130,
   "id": "9b92c668",
   "metadata": {},
   "outputs": [
    {
     "name": "stdout",
     "output_type": "stream",
     "text": [
      "Cannot divide by zero\n"
     ]
    }
   ],
   "source": [
    "# except – Handle exception\n",
    "try:\n",
    "    1 / 0\n",
    "except ZeroDivisionError:\n",
    "    print(\"Cannot divide by zero\")"
   ]
  },
  {
   "cell_type": "code",
   "execution_count": 131,
   "id": "f8d6a314",
   "metadata": {},
   "outputs": [
    {
     "name": "stdout",
     "output_type": "stream",
     "text": [
      "Flag is True\n"
     ]
    }
   ],
   "source": [
    "# True – Boolean value\n",
    "flag = True\n",
    "if flag:\n",
    "    print(\"Flag is True\")"
   ]
  },
  {
   "cell_type": "code",
   "execution_count": 132,
   "id": "c8244429",
   "metadata": {},
   "outputs": [
    {
     "name": "stdout",
     "output_type": "stream",
     "text": [
      "Flag is False\n"
     ]
    }
   ],
   "source": [
    "# False – Boolean value\n",
    "flag = False\n",
    "if not flag:\n",
    "    print(\"Flag is False\")"
   ]
  },
  {
   "cell_type": "code",
   "execution_count": 133,
   "id": "c36d58c2",
   "metadata": {},
   "outputs": [
    {
     "name": "stdout",
     "output_type": "stream",
     "text": [
      "Cleanup\n"
     ]
    }
   ],
   "source": [
    "# finally – Always runs in try block\n",
    "try:\n",
    "    x = 10 / 2\n",
    "except:\n",
    "    print(\"Error\")\n",
    "finally:\n",
    "    print(\"Cleanup\")"
   ]
  },
  {
   "cell_type": "code",
   "execution_count": 134,
   "id": "43dcb5f0",
   "metadata": {},
   "outputs": [
    {
     "name": "stdout",
     "output_type": "stream",
     "text": [
      "Error\n",
      "Cleanup\n"
     ]
    }
   ],
   "source": [
    "# finally – Always runs in try block\n",
    "try:\n",
    "    x = 1 / 0\n",
    "except:   # if try block fail to execute, then it executes\n",
    "    print(\"Error\")\n",
    "finally:  # always run\n",
    "    print(\"Cleanup\")"
   ]
  },
  {
   "cell_type": "code",
   "execution_count": 135,
   "id": "0318f028",
   "metadata": {},
   "outputs": [
    {
     "name": "stdout",
     "output_type": "stream",
     "text": [
      "1\n",
      "2\n",
      "3\n"
     ]
    }
   ],
   "source": [
    "# for – Looping\n",
    "for i in [1, 2, 3]:\n",
    "    print(i)"
   ]
  },
  {
   "cell_type": "code",
   "execution_count": 136,
   "id": "ac4afbd6",
   "metadata": {},
   "outputs": [
    {
     "name": "stdout",
     "output_type": "stream",
     "text": [
      "3.141592653589793\n"
     ]
    }
   ],
   "source": [
    "# from – Import specific parts\n",
    "from math import pi\n",
    "print(pi)"
   ]
  },
  {
   "cell_type": "code",
   "execution_count": 137,
   "id": "0dc7b497",
   "metadata": {},
   "outputs": [
    {
     "name": "stdout",
     "output_type": "stream",
     "text": [
      "0\n",
      "x: 100\n",
      "100\n"
     ]
    }
   ],
   "source": [
    "# global – Modify global variable\n",
    "x = 0\n",
    "print(x)\n",
    "def set_global():\n",
    "    global x\n",
    "    x = 100\n",
    "    print(\"x:\", x)\n",
    "\n",
    "set_global()\n",
    "print(x)"
   ]
  },
  {
   "cell_type": "code",
   "execution_count": 138,
   "id": "9fa853ab",
   "metadata": {},
   "outputs": [],
   "source": [
    "# if – Conditional\n",
    "if x == 0:\n",
    "    print(\"x is zero\")"
   ]
  },
  {
   "cell_type": "code",
   "execution_count": 139,
   "id": "f59bc593",
   "metadata": {},
   "outputs": [
    {
     "name": "stdout",
     "output_type": "stream",
     "text": [
      "10\n"
     ]
    }
   ],
   "source": [
    "# import – Import entire module\n",
    "import random\n",
    "print(random.randint(1, 10))"
   ]
  },
  {
   "cell_type": "code",
   "execution_count": 140,
   "id": "9127bb67",
   "metadata": {},
   "outputs": [
    {
     "name": "stdout",
     "output_type": "stream",
     "text": [
      "found 'a'\n"
     ]
    }
   ],
   "source": [
    "# in – Membership test\n",
    "if \"a\" in \"apple\":\n",
    "    print(\"found 'a'\")"
   ]
  },
  {
   "cell_type": "code",
   "execution_count": 141,
   "id": "5c2deaf6",
   "metadata": {},
   "outputs": [],
   "source": [
    "# is – Object identity\n",
    "a = True\n",
    "if a is None:\n",
    "    print(\"a is None\")"
   ]
  },
  {
   "cell_type": "code",
   "execution_count": 142,
   "id": "b026583c",
   "metadata": {},
   "outputs": [
    {
     "name": "stdout",
     "output_type": "stream",
     "text": [
      "16\n"
     ]
    }
   ],
   "source": [
    "# lambda – Anonymous function\n",
    "square = lambda x: x * x\n",
    "print(square(4))"
   ]
  },
  {
   "cell_type": "code",
   "execution_count": 143,
   "id": "bc0c357b",
   "metadata": {},
   "outputs": [
    {
     "name": "stdout",
     "output_type": "stream",
     "text": [
      "No data\n"
     ]
    }
   ],
   "source": [
    "# None – Null value\n",
    "data = None\n",
    "if data is None:\n",
    "    print(\"No data\")"
   ]
  },
  {
   "cell_type": "code",
   "execution_count": 144,
   "id": "861efdd2",
   "metadata": {},
   "outputs": [
    {
     "name": "stdout",
     "output_type": "stream",
     "text": [
      "outer: outer\n",
      "inner: inner\n"
     ]
    }
   ],
   "source": [
    "# nonlocal – Modify variable in outer (not global) scope\n",
    "def outer():\n",
    "    x = \"outer\"\n",
    "    print(\"outer:\", x)\n",
    "    def inner():\n",
    "        nonlocal x\n",
    "        x = \"inner\"\n",
    "    inner()\n",
    "    print(\"inner:\", x)\n",
    "\n",
    "outer()"
   ]
  },
  {
   "cell_type": "code",
   "execution_count": 145,
   "id": "90c0eee8",
   "metadata": {},
   "outputs": [
    {
     "name": "stdout",
     "output_type": "stream",
     "text": [
      "This is True\n"
     ]
    }
   ],
   "source": [
    "# not – Logical NOT\n",
    "if not False:\n",
    "    print(\"This is True\")"
   ]
  },
  {
   "cell_type": "code",
   "execution_count": 146,
   "id": "f22e3fbe",
   "metadata": {},
   "outputs": [
    {
     "name": "stdout",
     "output_type": "stream",
     "text": [
      "x is outside 0–3\n"
     ]
    }
   ],
   "source": [
    "# or – Logical OR\n",
    "x = 5\n",
    "if x < 0 or x > 3:\n",
    "    print(\"x is outside 0–3\")\n"
   ]
  },
  {
   "cell_type": "code",
   "execution_count": 147,
   "id": "b0fb6a28",
   "metadata": {},
   "outputs": [],
   "source": [
    "# pass – Do nothing\n",
    "def do_nothing():\n",
    "    pass\n",
    "\n",
    "do_nothing()"
   ]
  },
  {
   "cell_type": "code",
   "execution_count": 148,
   "id": "64b7c7a0",
   "metadata": {},
   "outputs": [
    {
     "data": {
      "text/plain": [
       "3"
      ]
     },
     "execution_count": 148,
     "metadata": {},
     "output_type": "execute_result"
    }
   ],
   "source": [
    "# return – Return from function\n",
    "def add(a, b):\n",
    "    result = a + b\n",
    "    return result\n",
    "\n",
    "add(1,2)"
   ]
  },
  {
   "cell_type": "code",
   "execution_count": 149,
   "id": "25e83e44",
   "metadata": {},
   "outputs": [
    {
     "name": "stdout",
     "output_type": "stream",
     "text": [
      "This is always true\n"
     ]
    }
   ],
   "source": [
    "# True – Boolean value\n",
    "if True:\n",
    "    print(\"This is always true\")"
   ]
  },
  {
   "cell_type": "code",
   "execution_count": 150,
   "id": "ba4d49d4",
   "metadata": {},
   "outputs": [
    {
     "name": "stdout",
     "output_type": "stream",
     "text": [
      "ZeroDivisionError\n"
     ]
    }
   ],
   "source": [
    "# try – Try block for error handling\n",
    "try:\n",
    "    print(10 // 0)\n",
    "except ZeroDivisionError:\n",
    "    print(\"ZeroDivisionError\")"
   ]
  },
  {
   "cell_type": "code",
   "execution_count": 151,
   "id": "379ac4c9",
   "metadata": {},
   "outputs": [
    {
     "name": "stdout",
     "output_type": "stream",
     "text": [
      "0\n",
      "1\n",
      "2\n"
     ]
    }
   ],
   "source": [
    "# while – While loop\n",
    "i = 0\n",
    "while i < 3:\n",
    "    print(i)\n",
    "    i += 1"
   ]
  },
  {
   "cell_type": "code",
   "execution_count": 152,
   "id": "ec7b8bd5",
   "metadata": {},
   "outputs": [],
   "source": [
    "# with – Context manager (e.g. for file)\n",
    "with open(\"example.txt\", \"w\") as f:\n",
    "    f.write(\"Hello\")"
   ]
  },
  {
   "cell_type": "code",
   "execution_count": 153,
   "id": "721b6b3e",
   "metadata": {},
   "outputs": [],
   "source": [
    "# yield – Generator function\n",
    "def countdown(n):\n",
    "    while n > 0:\n",
    "        yield n\n",
    "        n -= 1"
   ]
  },
  {
   "cell_type": "code",
   "execution_count": 154,
   "id": "0503ae4f",
   "metadata": {},
   "outputs": [
    {
     "name": "stdout",
     "output_type": "stream",
     "text": [
      "Counting down using a for loop with try/except inside:\n",
      "Number: 10\n",
      "Number: 9\n",
      "Number: 8\n",
      "Number: 7\n",
      "Number: 6\n",
      "Number: 5\n",
      "Number: 4\n",
      "Number: 3\n",
      "Number: 2\n",
      "Number: 1\n",
      "\n",
      "Finished iterating through the generator.\n"
     ]
    }
   ],
   "source": [
    "def countdown(n):\n",
    "    while n > 0:\n",
    "        yield n\n",
    "        n -= 1\n",
    "\n",
    "countdown_generator = countdown(10)\n",
    "\n",
    "print(\"Counting down using a for loop with try/except inside:\")\n",
    "for number in countdown_generator:\n",
    "    try:\n",
    "        # Simulate an error for a specific number (e.g., trying to divide by zero)\n",
    "        if number == 0:\n",
    "            # This will cause a ZeroDivisionError\n",
    "            result = 10 / (number - 5)\n",
    "            print(f\"Result for {number}: {result}\")\n",
    "        else:\n",
    "            print(f\"Number: {number}\")\n",
    "    except ZeroDivisionError:\n",
    "        print(f\"Error: Tried to divide by zero when number was {number}. Skipping this step.\")\n",
    "    except Exception as e: # Catch any other unexpected errors\n",
    "        print(f\"An unexpected error occurred for {number}: {e}\")\n",
    "\n",
    "print(\"\\nFinished iterating through the generator.\")"
   ]
  },
  {
   "cell_type": "markdown",
   "id": "510e02e8",
   "metadata": {},
   "source": [
    "## **Python Built-in Exceptions**"
   ]
  },
  {
   "cell_type": "code",
   "execution_count": 155,
   "id": "51de08dd",
   "metadata": {},
   "outputs": [
    {
     "name": "stdout",
     "output_type": "stream",
     "text": [
      "Caught ArithmeticError: division by zero\n"
     ]
    }
   ],
   "source": [
    "# ArithmeticError – base class for all arithmetic-related errors\n",
    "try:\n",
    "    x = 1 / 0\n",
    "except ArithmeticError as e:\n",
    "    print(\"Caught ArithmeticError:\", e)"
   ]
  },
  {
   "cell_type": "code",
   "execution_count": 156,
   "id": "b42088bb",
   "metadata": {},
   "outputs": [
    {
     "name": "stdout",
     "output_type": "stream",
     "text": [
      "Caught AssertionError: 2 + 2 is not equal to 5\n"
     ]
    }
   ],
   "source": [
    "# AssertionError – when assert fails\n",
    "try:\n",
    "    assert 2 + 2 == 5, \"2 + 2 is not equal to 5\"\n",
    "except AssertionError as e:\n",
    "    print(\"Caught AssertionError:\", e)"
   ]
  },
  {
   "cell_type": "code",
   "execution_count": 157,
   "id": "311375a6",
   "metadata": {},
   "outputs": [
    {
     "name": "stdout",
     "output_type": "stream",
     "text": [
      "Caught AttributeError: 'list' object has no attribute 'no_such_method'\n"
     ]
    }
   ],
   "source": [
    "# AttributeError – invalid attribute access\n",
    "try:\n",
    "    [].no_such_method()\n",
    "except AttributeError as e:\n",
    "    print(\"Caught AttributeError:\", e)"
   ]
  },
  {
   "cell_type": "code",
   "execution_count": 158,
   "id": "f672a07d",
   "metadata": {},
   "outputs": [
    {
     "name": "stdout",
     "output_type": "stream",
     "text": [
      "Caught Exception: Generic exception\n"
     ]
    }
   ],
   "source": [
    "# Exception – base class for all exceptions\n",
    "try:\n",
    "    raise Exception(\"Generic exception\")\n",
    "except Exception as e:\n",
    "    print(\"Caught Exception:\", e)"
   ]
  },
  {
   "cell_type": "code",
   "execution_count": 159,
   "id": "15b6d28c",
   "metadata": {},
   "outputs": [
    {
     "name": "stdout",
     "output_type": "stream",
     "text": [
      "Caught EOFError: Reached EOF\n"
     ]
    }
   ],
   "source": [
    "# EOFError – input hits EOF (simulated)\n",
    "try:\n",
    "    import io\n",
    "    f = io.StringIO(\"\")\n",
    "    input = f.readline  # override input\n",
    "    if input() == \"\":\n",
    "        raise EOFError(\"Reached EOF\")\n",
    "except EOFError as e:\n",
    "    print(\"Caught EOFError:\", e)"
   ]
  },
  {
   "cell_type": "code",
   "execution_count": 160,
   "id": "bd828aba",
   "metadata": {},
   "outputs": [
    {
     "name": "stdout",
     "output_type": "stream",
     "text": [
      "Caught FloatingPointError: divide by zero encountered in divide\n"
     ]
    }
   ],
   "source": [
    "# FloatingPointError – must be enabled manually\n",
    "import numpy\n",
    "numpy.seterr(all='raise')\n",
    "try:\n",
    "    numpy.divide(1.0, 0.0)\n",
    "except FloatingPointError as e:\n",
    "    print(\"Caught FloatingPointError:\", e)"
   ]
  },
  {
   "cell_type": "code",
   "execution_count": 161,
   "id": "5cf95caa",
   "metadata": {},
   "outputs": [
    {
     "name": "stdout",
     "output_type": "stream",
     "text": [
      "Caught GeneratorExit inside generator\n"
     ]
    }
   ],
   "source": [
    "# GeneratorExit – raised by generator when closed\n",
    "def my_gen():\n",
    "    try:\n",
    "        yield 1\n",
    "    except GeneratorExit:\n",
    "        print(\"Caught GeneratorExit inside generator\")\n",
    "\n",
    "g = my_gen()\n",
    "next(g)\n",
    "g.close()"
   ]
  },
  {
   "cell_type": "code",
   "execution_count": 162,
   "id": "1ca52c4b",
   "metadata": {},
   "outputs": [
    {
     "name": "stdout",
     "output_type": "stream",
     "text": [
      "Caught ImportError: No module named 'nonexistent_module'\n"
     ]
    }
   ],
   "source": [
    "# ImportError – bad import\n",
    "try:\n",
    "    import nonexistent_module\n",
    "except ImportError as e:\n",
    "    print(\"Caught ImportError:\", e)\n",
    "\n",
    "# IndentationError – cannot be raised at runtime (syntax error)"
   ]
  },
  {
   "cell_type": "code",
   "execution_count": 163,
   "id": "e05bd97a",
   "metadata": {},
   "outputs": [
    {
     "name": "stdout",
     "output_type": "stream",
     "text": [
      "Caught IndexError: list index out of range\n"
     ]
    }
   ],
   "source": [
    "# IndexError – invalid list index\n",
    "try:\n",
    "    [1, 2, 3][5]\n",
    "except IndexError as e:\n",
    "    print(\"Caught IndexError:\", e)"
   ]
  },
  {
   "cell_type": "code",
   "execution_count": 164,
   "id": "d0c3bd9d",
   "metadata": {},
   "outputs": [
    {
     "name": "stdout",
     "output_type": "stream",
     "text": [
      "Caught KeyError: 'missing'\n"
     ]
    }
   ],
   "source": [
    "# KeyError – missing dict key\n",
    "try:\n",
    "    {}['missing']\n",
    "except KeyError as e:\n",
    "    print(\"Caught KeyError:\", e)"
   ]
  },
  {
   "cell_type": "code",
   "execution_count": 165,
   "id": "17d411d0",
   "metadata": {},
   "outputs": [
    {
     "ename": "ValueError",
     "evalue": "substring not found",
     "output_type": "error",
     "traceback": [
      "\u001b[31m---------------------------------------------------------------------------\u001b[39m",
      "\u001b[31mValueError\u001b[39m                                Traceback (most recent call last)",
      "\u001b[36mCell\u001b[39m\u001b[36m \u001b[39m\u001b[32mIn[165]\u001b[39m\u001b[32m, line 3\u001b[39m\n\u001b[32m      1\u001b[39m \u001b[38;5;66;03m# LookupError – base class for IndexError, KeyError, etc.\u001b[39;00m\n\u001b[32m      2\u001b[39m \u001b[38;5;28;01mtry\u001b[39;00m:\n\u001b[32m----> \u001b[39m\u001b[32m3\u001b[39m     \u001b[33;43m'\u001b[39;49m\u001b[33;43m'\u001b[39;49m\u001b[43m.\u001b[49m\u001b[43mindex\u001b[49m\u001b[43m(\u001b[49m\u001b[33;43m'\u001b[39;49m\u001b[33;43mx\u001b[39;49m\u001b[33;43m'\u001b[39;49m\u001b[43m)\u001b[49m\n\u001b[32m      4\u001b[39m \u001b[38;5;28;01mexcept\u001b[39;00m \u001b[38;5;167;01mLookupError\u001b[39;00m \u001b[38;5;28;01mas\u001b[39;00m e:\n\u001b[32m      5\u001b[39m     \u001b[38;5;28mprint\u001b[39m(\u001b[33m\"\u001b[39m\u001b[33mCaught LookupError:\u001b[39m\u001b[33m\"\u001b[39m, e)\n",
      "\u001b[31mValueError\u001b[39m: substring not found"
     ]
    }
   ],
   "source": [
    "# LookupError – base class for IndexError, KeyError, etc.\n",
    "try:\n",
    "    ''.index('x')\n",
    "except LookupError as e:\n",
    "    print(\"Caught LookupError:\", e)"
   ]
  },
  {
   "cell_type": "code",
   "execution_count": 166,
   "id": "18313a4f",
   "metadata": {},
   "outputs": [
    {
     "name": "stdout",
     "output_type": "stream",
     "text": [
      "Caught MemoryError: Out of memory\n"
     ]
    }
   ],
   "source": [
    "# MemoryError – hard to simulate reliably, but manually:\n",
    "try:\n",
    "    raise MemoryError(\"Out of memory\")\n",
    "except MemoryError as e:\n",
    "    print(\"Caught MemoryError:\", e)"
   ]
  },
  {
   "cell_type": "code",
   "execution_count": 167,
   "id": "01a82707",
   "metadata": {},
   "outputs": [
    {
     "name": "stdout",
     "output_type": "stream",
     "text": [
      "Caught NameError: name 'undefined_var' is not defined\n"
     ]
    }
   ],
   "source": [
    "\n",
    "# NameError – undefined variable\n",
    "try:\n",
    "    print(undefined_var)\n",
    "except NameError as e:\n",
    "    print(\"Caught NameError:\", e)"
   ]
  },
  {
   "cell_type": "code",
   "execution_count": 168,
   "id": "2cbc920e",
   "metadata": {},
   "outputs": [
    {
     "name": "stdout",
     "output_type": "stream",
     "text": [
      "Caught NotImplementedError: Override this\n"
     ]
    }
   ],
   "source": [
    "# NotImplementedError – abstract method not implemented\n",
    "try:\n",
    "    class Base:\n",
    "        def do_something(self):\n",
    "            raise NotImplementedError(\"Override this\")\n",
    "    Base().do_something()\n",
    "except NotImplementedError as e:\n",
    "    print(\"Caught NotImplementedError:\", e)"
   ]
  },
  {
   "cell_type": "code",
   "execution_count": 169,
   "id": "6518f392",
   "metadata": {},
   "outputs": [
    {
     "name": "stdout",
     "output_type": "stream",
     "text": [
      "Caught OSError: [Errno 2] No such file or directory: '/path/does/not/exist.txt'\n"
     ]
    }
   ],
   "source": [
    "# OSError – system-level error (e.g. file not found)\n",
    "try:\n",
    "    open(\"/path/does/not/exist.txt\")\n",
    "except OSError as e:\n",
    "    print(\"Caught OSError:\", e)"
   ]
  },
  {
   "cell_type": "code",
   "execution_count": 170,
   "id": "41ebdaf5",
   "metadata": {},
   "outputs": [
    {
     "name": "stdout",
     "output_type": "stream",
     "text": [
      "Caught OverflowError: math range error\n"
     ]
    }
   ],
   "source": [
    "# OverflowError – math result too large\n",
    "try:\n",
    "    import math\n",
    "    math.exp(1000)\n",
    "except OverflowError as e:\n",
    "    print(\"Caught OverflowError:\", e)"
   ]
  },
  {
   "cell_type": "code",
   "execution_count": 171,
   "id": "a67e98d9",
   "metadata": {},
   "outputs": [
    {
     "name": "stdout",
     "output_type": "stream",
     "text": [
      "None\n"
     ]
    }
   ],
   "source": [
    "# ReferenceError – weak reference expired\n",
    "import weakref\n",
    "import gc\n",
    "class Temp: pass\n",
    "t = Temp()\n",
    "r = weakref.ref(t)\n",
    "del t\n",
    "gc.collect()\n",
    "try:\n",
    "    print(r())\n",
    "except ReferenceError as e:\n",
    "    print(\"Caught ReferenceError:\", e)"
   ]
  },
  {
   "cell_type": "code",
   "execution_count": 172,
   "id": "bdef1489",
   "metadata": {},
   "outputs": [
    {
     "name": "stdout",
     "output_type": "stream",
     "text": [
      "Caught RuntimeError: Something went wrong\n"
     ]
    }
   ],
   "source": [
    "# RuntimeError – generic run-time error\n",
    "try:\n",
    "    raise RuntimeError(\"Something went wrong\")\n",
    "except RuntimeError as e:\n",
    "    print(\"Caught RuntimeError:\", e)"
   ]
  },
  {
   "cell_type": "code",
   "execution_count": 173,
   "id": "98392614",
   "metadata": {},
   "outputs": [
    {
     "name": "stdout",
     "output_type": "stream",
     "text": [
      "Caught StopIteration: \n"
     ]
    }
   ],
   "source": [
    "# StopIteration – raised by next() at end of iterator\n",
    "try:\n",
    "    iter_obj = iter([])\n",
    "    next(iter_obj)\n",
    "except StopIteration as e:\n",
    "    print(\"Caught StopIteration:\", e)"
   ]
  },
  {
   "cell_type": "code",
   "execution_count": 174,
   "id": "968bed05",
   "metadata": {},
   "outputs": [
    {
     "name": "stdout",
     "output_type": "stream",
     "text": [
      "Caught SyntaxError: invalid syntax (<string>, line 1)\n"
     ]
    }
   ],
   "source": [
    "# SyntaxError – must be raised manually or caught during compilation\n",
    "try:\n",
    "    exec('x === y')\n",
    "except SyntaxError as e:\n",
    "    print(\"Caught SyntaxError:\", e)"
   ]
  },
  {
   "cell_type": "code",
   "execution_count": 175,
   "id": "e5ae1906",
   "metadata": {},
   "outputs": [
    {
     "name": "stdout",
     "output_type": "stream",
     "text": [
      "Caught SystemError: Internal Python error\n"
     ]
    }
   ],
   "source": [
    "# SystemError – internal Python error\n",
    "try:\n",
    "    raise SystemError(\"Internal Python error\")\n",
    "except SystemError as e:\n",
    "    print(\"Caught SystemError:\", e)"
   ]
  },
  {
   "cell_type": "code",
   "execution_count": 176,
   "id": "ef862f2d",
   "metadata": {},
   "outputs": [
    {
     "name": "stdout",
     "output_type": "stream",
     "text": [
      "Caught SystemExit: Exiting program\n"
     ]
    }
   ],
   "source": [
    "# SystemExit – sys.exit()\n",
    "import sys\n",
    "try:\n",
    "    sys.exit(\"Exiting program\")\n",
    "except SystemExit as e:\n",
    "    print(\"Caught SystemExit:\", e)"
   ]
  },
  {
   "cell_type": "code",
   "execution_count": 177,
   "id": "578546cc",
   "metadata": {},
   "outputs": [
    {
     "name": "stdout",
     "output_type": "stream",
     "text": [
      "Caught TypeError: can only concatenate str (not \"int\") to str\n"
     ]
    }
   ],
   "source": [
    "# TypeError – invalid type operation\n",
    "try:\n",
    "    '2' + 2\n",
    "except TypeError as e:\n",
    "    print(\"Caught TypeError:\", e)"
   ]
  },
  {
   "cell_type": "code",
   "execution_count": 178,
   "id": "98c394a2",
   "metadata": {},
   "outputs": [
    {
     "name": "stdout",
     "output_type": "stream",
     "text": [
      "Caught UnboundLocalError: cannot access local variable 'x' where it is not associated with a value\n"
     ]
    }
   ],
   "source": [
    "# UnboundLocalError – using local variable before assignment\n",
    "try:\n",
    "    def test():\n",
    "        print(x)\n",
    "        x = 2\n",
    "    test()\n",
    "except UnboundLocalError as e:\n",
    "    print(\"Caught UnboundLocalError:\", e)"
   ]
  },
  {
   "cell_type": "code",
   "execution_count": 179,
   "id": "f074a15c",
   "metadata": {},
   "outputs": [
    {
     "name": "stdout",
     "output_type": "stream",
     "text": [
      "Caught UnicodeError: 'utf-8' codec can't decode byte 0xff in position 0: invalid start byte\n"
     ]
    }
   ],
   "source": [
    "# UnicodeError – base class for Unicode* errors\n",
    "try:\n",
    "    b = b'\\xff'\n",
    "    b.decode('utf-8')\n",
    "except UnicodeError as e:\n",
    "    print(\"Caught UnicodeError:\", e)"
   ]
  },
  {
   "cell_type": "code",
   "execution_count": 180,
   "id": "6fa33f92",
   "metadata": {},
   "outputs": [
    {
     "name": "stdout",
     "output_type": "stream",
     "text": [
      "Caught UnicodeEncodeError: 'ascii' codec can't encode characters in position 0-1: ordinal not in range(128)\n"
     ]
    }
   ],
   "source": [
    "# UnicodeEncodeError\n",
    "try:\n",
    "    '你好'.encode('ascii')\n",
    "except UnicodeEncodeError as e:\n",
    "    print(\"Caught UnicodeEncodeError:\", e)"
   ]
  },
  {
   "cell_type": "code",
   "execution_count": 181,
   "id": "68a593ea",
   "metadata": {},
   "outputs": [
    {
     "name": "stdout",
     "output_type": "stream",
     "text": [
      "Caught UnicodeDecodeError: 'utf-8' codec can't decode byte 0xff in position 0: invalid start byte\n"
     ]
    }
   ],
   "source": [
    "# UnicodeDecodeError\n",
    "try:\n",
    "    b'\\xff'.decode('utf-8')\n",
    "except UnicodeDecodeError as e:\n",
    "    print(\"Caught UnicodeDecodeError:\", e)"
   ]
  },
  {
   "cell_type": "code",
   "execution_count": 182,
   "id": "75363497",
   "metadata": {},
   "outputs": [
    {
     "name": "stdout",
     "output_type": "stream",
     "text": [
      "Caught UnicodeTranslateError: can't translate character '\\x75' in position 0: reason\n"
     ]
    }
   ],
   "source": [
    "# UnicodeTranslateError – usually during .translate()\n",
    "try:\n",
    "    raise UnicodeTranslateError(\"utf-8\", 0, 1, \"reason\")\n",
    "except UnicodeTranslateError as e:\n",
    "    print(\"Caught UnicodeTranslateError:\", e)"
   ]
  },
  {
   "cell_type": "code",
   "execution_count": 183,
   "id": "684b82b6",
   "metadata": {},
   "outputs": [
    {
     "name": "stdout",
     "output_type": "stream",
     "text": [
      "Caught ValueError: invalid literal for int() with base 10: 'hello'\n"
     ]
    }
   ],
   "source": [
    "# ValueError – wrong value for type\n",
    "try:\n",
    "    int(\"hello\")\n",
    "except ValueError as e:\n",
    "    print(\"Caught ValueError:\", e)"
   ]
  },
  {
   "cell_type": "code",
   "execution_count": 184,
   "id": "5f5fd953",
   "metadata": {},
   "outputs": [
    {
     "name": "stdout",
     "output_type": "stream",
     "text": [
      "Caught ZeroDivisionError: division by zero\n"
     ]
    }
   ],
   "source": [
    "# ZeroDivisionError – divide by 0\n",
    "try:\n",
    "    1 / 0\n",
    "except ZeroDivisionError as e:\n",
    "    print(\"Caught ZeroDivisionError:\", e)"
   ]
  },
  {
   "cell_type": "markdown",
   "id": "306588e1",
   "metadata": {},
   "source": [
    "## **Python Random Module**"
   ]
  },
  {
   "cell_type": "code",
   "execution_count": 15,
   "id": "447cd036",
   "metadata": {},
   "outputs": [
    {
     "name": "stdout",
     "output_type": "stream",
     "text": [
      "3\n"
     ]
    }
   ],
   "source": [
    "import random\n",
    "random.seed(20)\n",
    "print(random.randint(1, 10))  # Same result every time when seed is fixed"
   ]
  },
  {
   "cell_type": "code",
   "execution_count": null,
   "id": "cf2a9509",
   "metadata": {},
   "outputs": [
    {
     "name": "stdout",
     "output_type": "stream",
     "text": [
      "34\n"
     ]
    }
   ],
   "source": [
    "print(random.randint(1, 100))  # Random integer between 1 and 100"
   ]
  },
  {
   "cell_type": "code",
   "execution_count": null,
   "id": "6e67c767",
   "metadata": {},
   "outputs": [
    {
     "name": "stdout",
     "output_type": "stream",
     "text": [
      "0\n"
     ]
    }
   ],
   "source": [
    "print(random.randrange(0, 10, 2))    # Random even number from 0 to 8"
   ]
  },
  {
   "cell_type": "code",
   "execution_count": 19,
   "id": "650367cb",
   "metadata": {},
   "outputs": [
    {
     "name": "stdout",
     "output_type": "stream",
     "text": [
      "0.5729406692492218\n"
     ]
    }
   ],
   "source": [
    "print(random.random())"
   ]
  },
  {
   "cell_type": "code",
   "execution_count": 20,
   "metadata": {},
   "outputs": [
    {
     "name": "stdout",
     "output_type": "stream",
     "text": [
      "1.8387561742511398\n"
     ]
    }
   ],
   "source": [
    "print(random.uniform(1.5, 3.5))  # Example: 2.79"
   ]
  },
  {
   "cell_type": "code",
   "execution_count": 21,
   "id": "0c09ae88",
   "metadata": {},
   "outputs": [
    {
     "name": "stdout",
     "output_type": "stream",
     "text": [
      "green\n"
     ]
    }
   ],
   "source": [
    "colors = ['red', 'green', 'blue']\n",
    "print(random.choice(colors))  # Randomly picks one color"
   ]
  },
  {
   "cell_type": "code",
   "execution_count": null,
   "id": "2c0a69d8",
   "metadata": {},
   "outputs": [
    {
     "name": "stdout",
     "output_type": "stream",
     "text": [
      "[2, 1, 1, 2, 2]\n"
     ]
    }
   ],
   "source": [
    "print(random.choices([1, 2, 3], k=5))  # List of random items with replacement"
   ]
  },
  {
   "cell_type": "code",
   "execution_count": null,
   "id": "51fee79a",
   "metadata": {},
   "outputs": [
    {
     "name": "stdout",
     "output_type": "stream",
     "text": [
      "[40, 10]\n"
     ]
    }
   ],
   "source": [
    "print(random.sample([10, 20, 30, 40], k=2))"
   ]
  },
  {
   "cell_type": "code",
   "execution_count": 26,
   "id": "d2268c4c",
   "metadata": {},
   "outputs": [
    {
     "name": "stdout",
     "output_type": "stream",
     "text": [
      "[3, 1, 2, 4]\n"
     ]
    }
   ],
   "source": [
    "nums = [1, 2, 3, 4]\n",
    "random.shuffle(nums)\n",
    "print(nums)  # Order is changed randomly"
   ]
  },
  {
   "cell_type": "code",
   "execution_count": 25,
   "id": "2c829c0a",
   "metadata": {},
   "outputs": [
    {
     "name": "stdout",
     "output_type": "stream",
     "text": [
      "-0.20946377943965683\n"
     ]
    }
   ],
   "source": [
    "print(random.gauss(0, 1))  # Mean = 0, Std Dev = 1"
   ]
  },
  {
   "cell_type": "markdown",
   "id": "479905bb",
   "metadata": {},
   "source": [
    "### **List Comprihension**"
   ]
  },
  {
   "cell_type": "code",
   "execution_count": 10,
   "id": "5285d886",
   "metadata": {},
   "outputs": [
    {
     "data": {
      "text/plain": [
       "['apple', 'banana', 'melon', 'mango']"
      ]
     },
     "execution_count": 10,
     "metadata": {},
     "output_type": "execute_result"
    }
   ],
   "source": [
    "fruits = [\"apple\", \"banana\", \"melon\", \"mango\"]\n",
    "new_list = []\n",
    "[x for x in fruits]"
   ]
  },
  {
   "cell_type": "markdown",
   "id": "d65fc384",
   "metadata": {},
   "source": [
    "### **Decorator Funtions**"
   ]
  },
  {
   "cell_type": "code",
   "execution_count": null,
   "id": "0abae069",
   "metadata": {},
   "outputs": [
    {
     "name": "stdout",
     "output_type": "stream",
     "text": [
      "Something before the function runs.\n",
      "Hello!\n",
      "Something after the function runs.\n"
     ]
    }
   ],
   "source": [
    "def my_decorator(func):\n",
    "    def wrapper():\n",
    "        print(\"Function execution started.\")\n",
    "        func()\n",
    "        print(\"Function execution completed.\")\n",
    "    return wrapper\n",
    "\n",
    "@my_decorator\n",
    "def say_hello():\n",
    "    print(\"Hello!\")\n",
    "\n",
    "say_hello()"
   ]
  },
  {
   "cell_type": "code",
   "execution_count": 4,
   "id": "06e93083",
   "metadata": {},
   "outputs": [
    {
     "name": "stdout",
     "output_type": "stream",
     "text": [
      "[LOG.....]: Calling function: add\n",
      "[LOG.....]: add returned: 8\n"
     ]
    },
    {
     "data": {
      "text/plain": [
       "8"
      ]
     },
     "execution_count": 4,
     "metadata": {},
     "output_type": "execute_result"
    }
   ],
   "source": [
    "def log_call(func):\n",
    "    def wrapper(*args, **kwargs):\n",
    "        print(f\"[LOG.....]: Calling function: {func.__name__}\")\n",
    "        result = func(*args, **kwargs)\n",
    "        print(f\"[LOG.....]: {func.__name__} returned: {result}\")\n",
    "        return result\n",
    "    return wrapper\n",
    "\n",
    "@log_call\n",
    "def add(a, b):\n",
    "    return a + b\n",
    "\n",
    "add(5, 3)"
   ]
  },
  {
   "cell_type": "code",
   "execution_count": 8,
   "id": "61a8b1a0",
   "metadata": {},
   "outputs": [
    {
     "name": "stdout",
     "output_type": "stream",
     "text": [
      "Access denied. Only admin can do this.\n",
      "Database deleted by guest\n",
      "Database access is guranted.\n"
     ]
    }
   ],
   "source": [
    "def require_admin(func):\n",
    "    def wrapper(user):\n",
    "        if user != \"admin\":\n",
    "            print(\"Access denied. Only admin can do this.\")\n",
    "        else:\n",
    "            print(\"Database access is guranted.\")\n",
    "            return\n",
    "        return func(user)\n",
    "    return wrapper\n",
    "\n",
    "@require_admin\n",
    "def delete_database(user):\n",
    "    print(f\"Database deleted by {user}\")\n",
    "\n",
    "delete_database(\"guest\")  # Not allowed\n",
    "delete_database(\"admin\")  # Allowed"
   ]
  },
  {
   "cell_type": "code",
   "execution_count": 11,
   "id": "c46bfd50",
   "metadata": {},
   "outputs": [
    {
     "name": "stdout",
     "output_type": "stream",
     "text": [
      "function took 2.0005 seconds for execution.\n"
     ]
    },
    {
     "data": {
      "text/plain": [
       "'Done'"
      ]
     },
     "execution_count": 11,
     "metadata": {},
     "output_type": "execute_result"
    }
   ],
   "source": [
    "import time\n",
    "\n",
    "def timer(func):\n",
    "    def wrapper(*args, **kwargs):\n",
    "        start = time.time()\n",
    "        result = func(*args, **kwargs)\n",
    "        end = time.time()\n",
    "        print(f\"{func.__name__} took {end - start:.4f} seconds for execution.\")\n",
    "        return result\n",
    "    return wrapper\n",
    "\n",
    "@timer\n",
    "def function():\n",
    "    time.sleep(2)\n",
    "    return \"Done\"\n",
    "\n",
    "function()"
   ]
  },
  {
   "cell_type": "code",
   "execution_count": 12,
   "id": "03de99ca",
   "metadata": {},
   "outputs": [
    {
     "name": "stdout",
     "output_type": "stream",
     "text": [
      "Calculating square of 4\n",
      "Fetching from cache: 4\n"
     ]
    },
    {
     "data": {
      "text/plain": [
       "16"
      ]
     },
     "execution_count": 12,
     "metadata": {},
     "output_type": "execute_result"
    }
   ],
   "source": [
    "def simple_cache(func):\n",
    "    cache = {}\n",
    "    def wrapper(n):\n",
    "        if n in cache:\n",
    "            print(f\"Fetching from cache: {n}\")\n",
    "            return cache[n]\n",
    "        result = func(n)\n",
    "        cache[n] = result\n",
    "        return result\n",
    "    return wrapper\n",
    "\n",
    "@simple_cache\n",
    "def square(n):\n",
    "    print(f\"Calculating square of {n}\")\n",
    "    return n * n\n",
    "\n",
    "square(4)  # Calculated\n",
    "square(4)  # Cached"
   ]
  },
  {
   "cell_type": "code",
   "execution_count": null,
   "metadata": {},
   "outputs": [],
   "source": []
  },
  {
   "cell_type": "code",
   "execution_count": null,
   "id": "fb85b64d",
   "metadata": {},
   "outputs": [],
   "source": []
  },
  {
   "cell_type": "code",
   "execution_count": null,
   "id": "73f45e63",
   "metadata": {},
   "outputs": [],
   "source": []
  },
  {
   "cell_type": "code",
   "execution_count": null,
   "id": "8a3d65e8",
   "metadata": {},
   "outputs": [],
   "source": []
  }
 ],
 "metadata": {
  "kernelspec": {
   "display_name": "datascience",
   "language": "python",
   "name": "python3"
  },
  "language_info": {
   "codemirror_mode": {
    "name": "ipython",
    "version": 3
   },
   "file_extension": ".py",
   "mimetype": "text/x-python",
   "name": "python",
   "nbconvert_exporter": "python",
   "pygments_lexer": "ipython3",
   "version": "3.13.4"
  }
 },
 "nbformat": 4,
 "nbformat_minor": 5
}
