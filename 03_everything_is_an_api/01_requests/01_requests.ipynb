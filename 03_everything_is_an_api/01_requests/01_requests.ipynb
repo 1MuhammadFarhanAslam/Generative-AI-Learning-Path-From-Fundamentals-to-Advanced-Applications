{
 "cells": [
  {
   "cell_type": "markdown",
   "metadata": {},
   "source": [
    "# Demonstrations of `requests` Methods\n",
    "\n",
    "- https://requests.readthedocs.io/en/latest/"
   ]
  },
  {
   "cell_type": "code",
   "execution_count": 1,
   "metadata": {},
   "outputs": [],
   "source": [
    "import requests\n",
    "import json"
   ]
  },
  {
   "cell_type": "markdown",
   "metadata": {},
   "source": [
    "## GET Request"
   ]
  },
  {
   "cell_type": "markdown",
   "metadata": {},
   "source": [
    "The GET method is used to request data from a specified resource."
   ]
  },
  {
   "cell_type": "code",
   "execution_count": 18,
   "metadata": {},
   "outputs": [
    {
     "name": "stdout",
     "output_type": "stream",
     "text": [
      "Status Code: 200\n",
      "Response JSON: {'args': {}, 'headers': {'Accept': '*/*', 'Accept-Encoding': 'gzip, deflate, zstd', 'Host': 'httpbin.org', 'User-Agent': 'python-requests/2.32.4', 'X-Amzn-Trace-Id': 'Root=1-687a07e6-1b0b2a2c70e24c43326e6c39'}, 'origin': '110.37.119.232', 'url': 'https://httpbin.org/get'}\n"
     ]
    }
   ],
   "source": [
    "from requests.models import Response\n",
    "from requests.structures import CaseInsensitiveDict\n",
    "\n",
    "response : Response = requests.get('https://httpbin.org/get')\n",
    "print(f\"Status Code: {response.status_code}\")\n",
    "print(f\"Response JSON: {response.json()}\")"
   ]
  },
  {
   "cell_type": "code",
   "execution_count": 2,
   "metadata": {},
   "outputs": [
    {
     "data": {
      "text/plain": [
       "'Response'"
      ]
     },
     "metadata": {},
     "output_type": "display_data"
    },
    {
     "data": {
      "text/plain": [
       "<Response [200]>"
      ]
     },
     "metadata": {},
     "output_type": "display_data"
    },
    {
     "name": "stdout",
     "output_type": "stream",
     "text": [
      "Status_code 200\n",
      "Json_obj {'status': 'OK'} <class 'dict'>\n",
      "response.text {\"status\":\"OK\"} <class 'str'>\n",
      "response.headers {'Content-Type': 'application/json', 'Content-Length': '15', 'Connection': 'keep-alive', 'Date': 'Wed, 23 Jul 2025 08:34:11 GMT', 'X-Amzn-Trace-Id': 'Root=1-68809e83-7c5777ec69bddfb554242e7b;Parent=04b9b20c0cb0f2c8;Sampled=0;Lineage=1:9ee0f5ed:0', 'x-amzn-RequestId': '18be9815-c53f-46bd-aac6-d717cf1fc0cf', 'Access-Control-Allow-Origin': '*', 'Access-Control-Allow-Headers': 'Content-Type, Authorization, X-Amz-Date, X-Api-Key, X-Amz-Security-Token', 'x-amz-apigw-id': 'OJ20nEomoAMEmtQ=', 'Access-Control-Allow-Methods': 'GET, POST, PUT, DELETE, OPTIONS, PATCH', 'X-Cache': 'Miss from cloudfront', 'Via': '1.1 a4053551dbd10f26cfee8fdf84c0bac6.cloudfront.net (CloudFront)', 'X-Amz-Cf-Pop': 'MCT50-P2', 'X-Amz-Cf-Id': 'pRgK_9Ov1XGeHwmsOfw5Z-nhN6lNZltFHi2JHXqW8AzuupksTiAG5Q=='}\n",
      "200 {'status': 'OK'} {\"status\":\"OK\"} {'Content-Type': 'application/json', 'Content-Length': '15', 'Connection': 'keep-alive', 'Date': 'Wed, 23 Jul 2025 08:34:11 GMT', 'X-Amzn-Trace-Id': 'Root=1-68809e83-7c5777ec69bddfb554242e7b;Parent=04b9b20c0cb0f2c8;Sampled=0;Lineage=1:9ee0f5ed:0', 'x-amzn-RequestId': '18be9815-c53f-46bd-aac6-d717cf1fc0cf', 'Access-Control-Allow-Origin': '*', 'Access-Control-Allow-Headers': 'Content-Type, Authorization, X-Amz-Date, X-Api-Key, X-Amz-Security-Token', 'x-amz-apigw-id': 'OJ20nEomoAMEmtQ=', 'Access-Control-Allow-Methods': 'GET, POST, PUT, DELETE, OPTIONS, PATCH', 'X-Cache': 'Miss from cloudfront', 'Via': '1.1 a4053551dbd10f26cfee8fdf84c0bac6.cloudfront.net (CloudFront)', 'X-Amz-Cf-Pop': 'MCT50-P2', 'X-Amz-Cf-Id': 'pRgK_9Ov1XGeHwmsOfw5Z-nhN6lNZltFHi2JHXqW8AzuupksTiAG5Q=='}\n"
     ]
    }
   ],
   "source": [
    "from requests.models import Response\n",
    "from requests.structures import CaseInsensitiveDict\n",
    "\n",
    "response: Response = requests.get('https://simple-books-api.glitch.me/status')\n",
    "display(\"Response\",response)\n",
    "\n",
    "status_code : int = response.status_code\n",
    "print(\"Status_code\",status_code)\n",
    "\n",
    "json_obj : dict = response.json()\n",
    "print(\"Json_obj\",json_obj, type(json_obj))\n",
    "\n",
    "txt: str = response.text\n",
    "print(\"response.text\",txt,type(txt))\n",
    "\n",
    "headers: CaseInsensitiveDict = response.headers\n",
    "print(\"response.headers\",headers)\n",
    "\n",
    "print(response.status_code, response.json(), response.text, response.headers)"
   ]
  },
  {
   "cell_type": "code",
   "execution_count": 3,
   "metadata": {},
   "outputs": [
    {
     "data": {
      "text/plain": [
       "'Response'"
      ]
     },
     "metadata": {},
     "output_type": "display_data"
    },
    {
     "data": {
      "text/plain": [
       "<Response [200]>"
      ]
     },
     "metadata": {},
     "output_type": "display_data"
    },
    {
     "name": "stdout",
     "output_type": "stream",
     "text": [
      "Status_code 200\n",
      "response.text <!DOCTYPE html>\n",
      "\n",
      "<html lang=\"en\" data-content_root=\"./\">\n",
      "  <head>\n",
      "    <meta charset=\"utf-8\" />\n",
      "    <meta name=\"viewport\" content=\"width=device-width, initial-scale=1.0\" /><meta name=\"viewport\" content=\"width=device-width, initial-scale=1\" />\n",
      "\n",
      "    <title>Requests: HTTP for Humans™ &#8212; Requests 2.32.4 documentation</title>\n",
      "    <link rel=\"stylesheet\" type=\"text/css\" href=\"_static/pygments.css?v=6625fa76\" />\n",
      "    <link rel=\"stylesheet\" type=\"text/css\" href=\"_static/alabaster.css?v=1fe5e9f7\" />\n",
      "    <script src=\"_static/documentation_options.js?v=23e4e8c7\"></script>\n",
      "    <script src=\"_static/doctools.js?v=888ff710\"></script>\n",
      "    <script src=\"_static/sphinx_highlight.js?v=dc90522c\"></script>\n",
      "    <link rel=\"index\" title=\"Index\" href=\"genindex/\" />\n",
      "    <link rel=\"search\" title=\"Search\" href=\"search/\" />\n",
      "    <link rel=\"next\" title=\"Installation of Requests\" href=\"user/install/\" />\n",
      "   \n",
      "  <link rel=\"stylesheet\" href=\"_static/custom.css\" type=\"text/css\" />\n",
      "  \n",
      "\n",
      "  \n",
      "  \n",
      "\n",
      "  <script async type=\"text/javascript\" src=\"/_/static/javascript/readthedocs-addons.js\"></script><meta name=\"readthedocs-project-slug\" content=\"requests\" /><meta name=\"readthedocs-version-slug\" content=\"latest\" /><meta name=\"readthedocs-resolver-filename\" content=\"/\" /><meta name=\"readthedocs-http-status\" content=\"200\" /></head><body>\n",
      "  \n",
      "\n",
      "    <div class=\"document\">\n",
      "      <div class=\"documentwrapper\">\n",
      "        <div class=\"bodywrapper\">\n",
      "          \n",
      "\n",
      "          <div class=\"body\" role=\"main\">\n",
      "            \n",
      "  <section id=\"requests-http-for-humans\">\n",
      "<h1>Requests: HTTP for Humans™<a class=\"headerlink\" href=\"#requests-http-for-humans\" title=\"Link to this heading\">¶</a></h1>\n",
      "<p>Release v2.32.4. (<a class=\"reference internal\" href=\"user/install/#install\"><span class=\"std std-ref\">Installation</span></a>)</p>\n",
      "<a class=\"reference external image-reference\" href=\"https://pepy.tech/project/requests\"><img alt=\"Requests Downloads Per Month Badge\" src=\"https://static.pepy.tech/badge/requests/month\" /></a>\n",
      "<a class=\"reference external image-reference\" href=\"https://pypi.org/project/requests/\"><img alt=\"License Badge\" src=\"https://img.shields.io/pypi/l/requests.svg\" /></a>\n",
      "<a class=\"reference external image-reference\" href=\"https://pypi.org/project/requests/\"><img alt=\"Wheel Support Badge\" src=\"https://img.shields.io/pypi/wheel/requests.svg\" /></a>\n",
      "<a class=\"reference external image-reference\" href=\"https://pypi.org/project/requests/\"><img alt=\"Python Version Support Badge\" src=\"https://img.shields.io/pypi/pyversions/requests.svg\" /></a>\n",
      "<p><strong>Requests</strong> is an elegant and simple HTTP library for Python, built for human beings.</p>\n",
      "<hr class=\"docutils\" />\n",
      "<p><strong>Behold, the power of Requests</strong>:</p>\n",
      "<div class=\"highlight-default notranslate\"><div class=\"highlight\"><pre><span></span><span class=\"gp\">&gt;&gt;&gt; </span><span class=\"n\">r</span> <span class=\"o\">=</span> <span class=\"n\">requests</span><span class=\"o\">.</span><span class=\"n\">get</span><span class=\"p\">(</span><span class=\"s1\">&#39;https://api.github.com/user&#39;</span><span class=\"p\">,</span> <span class=\"n\">auth</span><span class=\"o\">=</span><span class=\"p\">(</span><span class=\"s1\">&#39;user&#39;</span><span class=\"p\">,</span> <span class=\"s1\">&#39;pass&#39;</span><span class=\"p\">))</span>\n",
      "<span class=\"gp\">&gt;&gt;&gt; </span><span class=\"n\">r</span><span class=\"o\">.</span><span class=\"n\">status_code</span>\n",
      "<span class=\"go\">200</span>\n",
      "<span class=\"gp\">&gt;&gt;&gt; </span><span class=\"n\">r</span><span class=\"o\">.</span><span class=\"n\">headers</span><span class=\"p\">[</span><span class=\"s1\">&#39;content-type&#39;</span><span class=\"p\">]</span>\n",
      "<span class=\"go\">&#39;application/json; charset=utf8&#39;</span>\n",
      "<span class=\"gp\">&gt;&gt;&gt; </span><span class=\"n\">r</span><span class=\"o\">.</span><span class=\"n\">encoding</span>\n",
      "<span class=\"go\">&#39;utf-8&#39;</span>\n",
      "<span class=\"gp\">&gt;&gt;&gt; </span><span class=\"n\">r</span><span class=\"o\">.</span><span class=\"n\">text</span>\n",
      "<span class=\"go\">&#39;{&quot;type&quot;:&quot;User&quot;...&#39;</span>\n",
      "<span class=\"gp\">&gt;&gt;&gt; </span><span class=\"n\">r</span><span class=\"o\">.</span><span class=\"n\">json</span><span class=\"p\">()</span>\n",
      "<span class=\"go\">{&#39;private_gists&#39;: 419, &#39;total_private_repos&#39;: 77, ...}</span>\n",
      "</pre></div>\n",
      "</div>\n",
      "<p>See <a class=\"reference external\" href=\"https://gist.github.com/973705\">similar code, sans Requests</a>.</p>\n",
      "<p><strong>Requests</strong> allows you to send HTTP/1.1 requests extremely easily.\n",
      "There’s no need to manually add query strings to your\n",
      "URLs, or to form-encode your POST data. Keep-alive and HTTP connection pooling\n",
      "are 100% automatic, thanks to <a class=\"reference external\" href=\"https://github.com/urllib3/urllib3\">urllib3</a>.</p>\n",
      "<section id=\"beloved-features\">\n",
      "<h2>Beloved Features<a class=\"headerlink\" href=\"#beloved-features\" title=\"Link to this heading\">¶</a></h2>\n",
      "<p>Requests is ready for today’s web.</p>\n",
      "<ul class=\"simple\">\n",
      "<li><p>Keep-Alive &amp; Connection Pooling</p></li>\n",
      "<li><p>International Domains and URLs</p></li>\n",
      "<li><p>Sessions with Cookie Persistence</p></li>\n",
      "<li><p>Browser-style SSL Verification</p></li>\n",
      "<li><p>Automatic Content Decoding</p></li>\n",
      "<li><p>Basic/Digest Authentication</p></li>\n",
      "<li><p>Elegant Key/Value Cookies</p></li>\n",
      "<li><p>Automatic Decompression</p></li>\n",
      "<li><p>Unicode Response Bodies</p></li>\n",
      "<li><p>HTTP(S) Proxy Support</p></li>\n",
      "<li><p>Multipart File Uploads</p></li>\n",
      "<li><p>Streaming Downloads</p></li>\n",
      "<li><p>Connection Timeouts</p></li>\n",
      "<li><p>Chunked Requests</p></li>\n",
      "<li><p><code class=\"docutils literal notranslate\"><span class=\"pre\">.netrc</span></code> Support</p></li>\n",
      "</ul>\n",
      "<p>Requests officially supports Python 3.8+, and runs great on PyPy.</p>\n",
      "</section>\n",
      "<section id=\"the-user-guide\">\n",
      "<h2>The User Guide<a class=\"headerlink\" href=\"#the-user-guide\" title=\"Link to this heading\">¶</a></h2>\n",
      "<p>This part of the documentation, which is mostly prose, begins with some\n",
      "background information about Requests, then focuses on step-by-step\n",
      "instructions for getting the most out of Requests.</p>\n",
      "<div class=\"toctree-wrapper compound\">\n",
      "<ul>\n",
      "<li class=\"toctree-l1\"><a class=\"reference internal\" href=\"user/install/\">Installation of Requests</a><ul>\n",
      "<li class=\"toctree-l2\"><a class=\"reference internal\" href=\"user/install/#python-m-pip-install-requests\">$ python -m pip install requests</a></li>\n",
      "<li class=\"toctree-l2\"><a class=\"reference internal\" href=\"user/install/#get-the-source-code\">Get the Source Code</a></li>\n",
      "</ul>\n",
      "</li>\n",
      "<li class=\"toctree-l1\"><a class=\"reference internal\" href=\"user/quickstart/\">Quickstart</a><ul>\n",
      "<li class=\"toctree-l2\"><a class=\"reference internal\" href=\"user/quickstart/#make-a-request\">Make a Request</a></li>\n",
      "<li class=\"toctree-l2\"><a class=\"reference internal\" href=\"user/quickstart/#passing-parameters-in-urls\">Passing Parameters In URLs</a></li>\n",
      "<li class=\"toctree-l2\"><a class=\"reference internal\" href=\"user/quickstart/#response-content\">Response Content</a></li>\n",
      "<li class=\"toctree-l2\"><a class=\"reference internal\" href=\"user/quickstart/#binary-response-content\">Binary Response Content</a></li>\n",
      "<li class=\"toctree-l2\"><a class=\"reference internal\" href=\"user/quickstart/#json-response-content\">JSON Response Content</a></li>\n",
      "<li class=\"toctree-l2\"><a class=\"reference internal\" href=\"user/quickstart/#raw-response-content\">Raw Response Content</a></li>\n",
      "<li class=\"toctree-l2\"><a class=\"reference internal\" href=\"user/quickstart/#custom-headers\">Custom Headers</a></li>\n",
      "<li class=\"toctree-l2\"><a class=\"reference internal\" href=\"user/quickstart/#more-complicated-post-requests\">More complicated POST requests</a></li>\n",
      "<li class=\"toctree-l2\"><a class=\"reference internal\" href=\"user/quickstart/#post-a-multipart-encoded-file\">POST a Multipart-Encoded File</a></li>\n",
      "<li class=\"toctree-l2\"><a class=\"reference internal\" href=\"user/quickstart/#response-status-codes\">Response Status Codes</a></li>\n",
      "<li class=\"toctree-l2\"><a class=\"reference internal\" href=\"user/quickstart/#response-headers\">Response Headers</a></li>\n",
      "<li class=\"toctree-l2\"><a class=\"reference internal\" href=\"user/quickstart/#cookies\">Cookies</a></li>\n",
      "<li class=\"toctree-l2\"><a class=\"reference internal\" href=\"user/quickstart/#redirection-and-history\">Redirection and History</a></li>\n",
      "<li class=\"toctree-l2\"><a class=\"reference internal\" href=\"user/quickstart/#timeouts\">Timeouts</a></li>\n",
      "<li class=\"toctree-l2\"><a class=\"reference internal\" href=\"user/quickstart/#errors-and-exceptions\">Errors and Exceptions</a></li>\n",
      "</ul>\n",
      "</li>\n",
      "<li class=\"toctree-l1\"><a class=\"reference internal\" href=\"user/advanced/\">Advanced Usage</a><ul>\n",
      "<li class=\"toctree-l2\"><a class=\"reference internal\" href=\"user/advanced/#session-objects\">Session Objects</a></li>\n",
      "<li class=\"toctree-l2\"><a class=\"reference internal\" href=\"user/advanced/#request-and-response-objects\">Request and Response Objects</a></li>\n",
      "<li class=\"toctree-l2\"><a class=\"reference internal\" href=\"user/advanced/#prepared-requests\">Prepared Requests</a></li>\n",
      "<li class=\"toctree-l2\"><a class=\"reference internal\" href=\"user/advanced/#ssl-cert-verification\">SSL Cert Verification</a></li>\n",
      "<li class=\"toctree-l2\"><a class=\"reference internal\" href=\"user/advanced/#client-side-certificates\">Client Side Certificates</a></li>\n",
      "<li class=\"toctree-l2\"><a class=\"reference internal\" href=\"user/advanced/#ca-certificates\">CA Certificates</a></li>\n",
      "<li class=\"toctree-l2\"><a class=\"reference internal\" href=\"user/advanced/#body-content-workflow\">Body Content Workflow</a></li>\n",
      "<li class=\"toctree-l2\"><a class=\"reference internal\" href=\"user/advanced/#keep-alive\">Keep-Alive</a></li>\n",
      "<li class=\"toctree-l2\"><a class=\"reference internal\" href=\"user/advanced/#streaming-uploads\">Streaming Uploads</a></li>\n",
      "<li class=\"toctree-l2\"><a class=\"reference internal\" href=\"user/advanced/#chunk-encoded-requests\">Chunk-Encoded Requests</a></li>\n",
      "<li class=\"toctree-l2\"><a class=\"reference internal\" href=\"user/advanced/#post-multiple-multipart-encoded-files\">POST Multiple Multipart-Encoded Files</a></li>\n",
      "<li class=\"toctree-l2\"><a class=\"reference internal\" href=\"user/advanced/#event-hooks\">Event Hooks</a></li>\n",
      "<li class=\"toctree-l2\"><a class=\"reference internal\" href=\"user/advanced/#custom-authentication\">Custom Authentication</a></li>\n",
      "<li class=\"toctree-l2\"><a class=\"reference internal\" href=\"user/advanced/#streaming-requests\">Streaming Requests</a></li>\n",
      "<li class=\"toctree-l2\"><a class=\"reference internal\" href=\"user/advanced/#proxies\">Proxies</a></li>\n",
      "<li class=\"toctree-l2\"><a class=\"reference internal\" href=\"user/advanced/#compliance\">Compliance</a></li>\n",
      "<li class=\"toctree-l2\"><a class=\"reference internal\" href=\"user/advanced/#http-verbs\">HTTP Verbs</a></li>\n",
      "<li class=\"toctree-l2\"><a class=\"reference internal\" href=\"user/advanced/#custom-verbs\">Custom Verbs</a></li>\n",
      "<li class=\"toctree-l2\"><a class=\"reference internal\" href=\"user/advanced/#link-headers\">Link Headers</a></li>\n",
      "<li class=\"toctree-l2\"><a class=\"reference internal\" href=\"user/advanced/#transport-adapters\">Transport Adapters</a></li>\n",
      "<li class=\"toctree-l2\"><a class=\"reference internal\" href=\"user/advanced/#blocking-or-non-blocking\">Blocking Or Non-Blocking?</a></li>\n",
      "<li class=\"toctree-l2\"><a class=\"reference internal\" href=\"user/advanced/#header-ordering\">Header Ordering</a></li>\n",
      "<li class=\"toctree-l2\"><a class=\"reference internal\" href=\"user/advanced/#timeouts\">Timeouts</a></li>\n",
      "</ul>\n",
      "</li>\n",
      "<li class=\"toctree-l1\"><a class=\"reference internal\" href=\"user/authentication/\">Authentication</a><ul>\n",
      "<li class=\"toctree-l2\"><a class=\"reference internal\" href=\"user/authentication/#basic-authentication\">Basic Authentication</a></li>\n",
      "<li class=\"toctree-l2\"><a class=\"reference internal\" href=\"user/authentication/#digest-authentication\">Digest Authentication</a></li>\n",
      "<li class=\"toctree-l2\"><a class=\"reference internal\" href=\"user/authentication/#oauth-1-authentication\">OAuth 1 Authentication</a></li>\n",
      "<li class=\"toctree-l2\"><a class=\"reference internal\" href=\"user/authentication/#oauth-2-and-openid-connect-authentication\">OAuth 2 and OpenID Connect Authentication</a></li>\n",
      "<li class=\"toctree-l2\"><a class=\"reference internal\" href=\"user/authentication/#other-authentication\">Other Authentication</a></li>\n",
      "<li class=\"toctree-l2\"><a class=\"reference internal\" href=\"user/authentication/#new-forms-of-authentication\">New Forms of Authentication</a></li>\n",
      "</ul>\n",
      "</li>\n",
      "</ul>\n",
      "</div>\n",
      "</section>\n",
      "<section id=\"the-community-guide\">\n",
      "<h2>The Community Guide<a class=\"headerlink\" href=\"#the-community-guide\" title=\"Link to this heading\">¶</a></h2>\n",
      "<p>This part of the documentation, which is mostly prose, details the\n",
      "Requests ecosystem and community.</p>\n",
      "<div class=\"toctree-wrapper compound\">\n",
      "<ul>\n",
      "<li class=\"toctree-l1\"><a class=\"reference internal\" href=\"community/recommended/\">Recommended Packages and Extensions</a><ul>\n",
      "<li class=\"toctree-l2\"><a class=\"reference internal\" href=\"community/recommended/#certifi-ca-bundle\">Certifi CA Bundle</a></li>\n",
      "<li class=\"toctree-l2\"><a class=\"reference internal\" href=\"community/recommended/#cachecontrol\">CacheControl</a></li>\n",
      "<li class=\"toctree-l2\"><a class=\"reference internal\" href=\"community/recommended/#requests-toolbelt\">Requests-Toolbelt</a></li>\n",
      "<li class=\"toctree-l2\"><a class=\"reference internal\" href=\"community/recommended/#requests-threads\">Requests-Threads</a></li>\n",
      "<li class=\"toctree-l2\"><a class=\"reference internal\" href=\"community/recommended/#requests-oauthlib\">Requests-OAuthlib</a></li>\n",
      "<li class=\"toctree-l2\"><a class=\"reference internal\" href=\"community/recommended/#betamax\">Betamax</a></li>\n",
      "</ul>\n",
      "</li>\n",
      "<li class=\"toctree-l1\"><a class=\"reference internal\" href=\"community/faq/\">Frequently Asked Questions</a><ul>\n",
      "<li class=\"toctree-l2\"><a class=\"reference internal\" href=\"community/faq/#encoded-data\">Encoded Data?</a></li>\n",
      "<li class=\"toctree-l2\"><a class=\"reference internal\" href=\"community/faq/#custom-user-agents\">Custom User-Agents?</a></li>\n",
      "<li class=\"toctree-l2\"><a class=\"reference internal\" href=\"community/faq/#why-not-httplib2\">Why not Httplib2?</a></li>\n",
      "<li class=\"toctree-l2\"><a class=\"reference internal\" href=\"community/faq/#python-3-support\">Python 3 Support?</a></li>\n",
      "<li class=\"toctree-l2\"><a class=\"reference internal\" href=\"community/faq/#python-2-support\">Python 2 Support?</a></li>\n",
      "<li class=\"toctree-l2\"><a class=\"reference internal\" href=\"community/faq/#what-are-hostname-doesn-t-match-errors\">What are “hostname doesn’t match” errors?</a></li>\n",
      "</ul>\n",
      "</li>\n",
      "<li class=\"toctree-l1\"><a class=\"reference internal\" href=\"community/out-there/\">Integrations</a></li>\n",
      "<li class=\"toctree-l1\"><a class=\"reference internal\" href=\"community/out-there/#articles-talks\">Articles &amp; Talks</a></li>\n",
      "<li class=\"toctree-l1\"><a class=\"reference internal\" href=\"community/support/\">Support</a><ul>\n",
      "<li class=\"toctree-l2\"><a class=\"reference internal\" href=\"community/support/#stack-overflow\">Stack Overflow</a></li>\n",
      "<li class=\"toctree-l2\"><a class=\"reference internal\" href=\"community/support/#file-an-issue\">File an Issue</a></li>\n",
      "<li class=\"toctree-l2\"><a class=\"reference internal\" href=\"community/support/#send-a-tweet\">Send a Tweet</a></li>\n",
      "</ul>\n",
      "</li>\n",
      "<li class=\"toctree-l1\"><a class=\"reference internal\" href=\"community/vulnerabilities/\">Vulnerability Disclosure</a></li>\n",
      "<li class=\"toctree-l1\"><a class=\"reference internal\" href=\"community/release-process/\">Release Process and Rules</a><ul>\n",
      "<li class=\"toctree-l2\"><a class=\"reference internal\" href=\"community/release-process/#major-releases\">Major Releases</a></li>\n",
      "<li class=\"toctree-l2\"><a class=\"reference internal\" href=\"community/release-process/#minor-releases\">Minor Releases</a></li>\n",
      "<li class=\"toctree-l2\"><a class=\"reference internal\" href=\"community/release-process/#hotfix-releases\">Hotfix Releases</a></li>\n",
      "<li class=\"toctree-l2\"><a class=\"reference internal\" href=\"community/release-process/#reasoning\">Reasoning</a></li>\n",
      "</ul>\n",
      "</li>\n",
      "</ul>\n",
      "</div>\n",
      "<div class=\"toctree-wrapper compound\">\n",
      "<ul>\n",
      "<li class=\"toctree-l1\"><a class=\"reference internal\" href=\"community/updates/\">Community Updates</a></li>\n",
      "<li class=\"toctree-l1\"><a class=\"reference internal\" href=\"community/updates/#release-history\">Release History</a></li>\n",
      "</ul>\n",
      "</div>\n",
      "</section>\n",
      "<section id=\"the-api-documentation-guide\">\n",
      "<h2>The API Documentation / Guide<a class=\"headerlink\" href=\"#the-api-documentation-guide\" title=\"Link to this heading\">¶</a></h2>\n",
      "<p>If you are looking for information on a specific function, class, or method,\n",
      "this part of the documentation is for you.</p>\n",
      "<div class=\"toctree-wrapper compound\">\n",
      "<ul>\n",
      "<li class=\"toctree-l1\"><a class=\"reference internal\" href=\"api/\">Developer Interface</a><ul>\n",
      "<li class=\"toctree-l2\"><a class=\"reference internal\" href=\"api/#main-interface\">Main Interface</a></li>\n",
      "<li class=\"toctree-l2\"><a class=\"reference internal\" href=\"api/#exceptions\">Exceptions</a></li>\n",
      "<li class=\"toctree-l2\"><a class=\"reference internal\" href=\"api/#request-sessions\">Request Sessions</a></li>\n",
      "<li class=\"toctree-l2\"><a class=\"reference internal\" href=\"api/#lower-level-classes\">Lower-Level Classes</a></li>\n",
      "<li class=\"toctree-l2\"><a class=\"reference internal\" href=\"api/#lower-lower-level-classes\">Lower-Lower-Level Classes</a></li>\n",
      "<li class=\"toctree-l2\"><a class=\"reference internal\" href=\"api/#authentication\">Authentication</a></li>\n",
      "<li class=\"toctree-l2\"><a class=\"reference internal\" href=\"api/#encodings\">Encodings</a></li>\n",
      "<li class=\"toctree-l2\"><a class=\"reference internal\" href=\"api/#cookies\">Cookies</a></li>\n",
      "<li class=\"toctree-l2\"><a class=\"reference internal\" href=\"api/#status-code-lookup\">Status Code Lookup</a></li>\n",
      "<li class=\"toctree-l2\"><a class=\"reference internal\" href=\"api/#migrating-to-1-x\">Migrating to 1.x</a></li>\n",
      "<li class=\"toctree-l2\"><a class=\"reference internal\" href=\"api/#migrating-to-2-x\">Migrating to 2.x</a></li>\n",
      "</ul>\n",
      "</li>\n",
      "</ul>\n",
      "</div>\n",
      "</section>\n",
      "<section id=\"the-contributor-guide\">\n",
      "<h2>The Contributor Guide<a class=\"headerlink\" href=\"#the-contributor-guide\" title=\"Link to this heading\">¶</a></h2>\n",
      "<p>If you want to contribute to the project, this part of the documentation is for\n",
      "you.</p>\n",
      "<div class=\"toctree-wrapper compound\">\n",
      "<ul>\n",
      "<li class=\"toctree-l1\"><a class=\"reference internal\" href=\"dev/contributing/\">Contributor’s Guide</a><ul>\n",
      "<li class=\"toctree-l2\"><a class=\"reference internal\" href=\"dev/contributing/#code-of-conduct\">Code of Conduct</a></li>\n",
      "<li class=\"toctree-l2\"><a class=\"reference internal\" href=\"dev/contributing/#get-early-feedback\">Get Early Feedback</a></li>\n",
      "<li class=\"toctree-l2\"><a class=\"reference internal\" href=\"dev/contributing/#contribution-suitability\">Contribution Suitability</a></li>\n",
      "<li class=\"toctree-l2\"><a class=\"reference internal\" href=\"dev/contributing/#code-contributions\">Code Contributions</a><ul>\n",
      "<li class=\"toctree-l3\"><a class=\"reference internal\" href=\"dev/contributing/#steps-for-submitting-code\">Steps for Submitting Code</a></li>\n",
      "<li class=\"toctree-l3\"><a class=\"reference internal\" href=\"dev/contributing/#code-review\">Code Review</a></li>\n",
      "<li class=\"toctree-l3\"><a class=\"reference internal\" href=\"dev/contributing/#code-style\">Code Style</a></li>\n",
      "<li class=\"toctree-l3\"><a class=\"reference internal\" href=\"dev/contributing/#new-contributors\">New Contributors</a></li>\n",
      "</ul>\n",
      "</li>\n",
      "<li class=\"toctree-l2\"><a class=\"reference internal\" href=\"dev/contributing/#documentation-contributions\">Documentation Contributions</a></li>\n",
      "<li class=\"toctree-l2\"><a class=\"reference internal\" href=\"dev/contributing/#bug-reports\">Bug Reports</a></li>\n",
      "<li class=\"toctree-l2\"><a class=\"reference internal\" href=\"dev/contributing/#feature-requests\">Feature Requests</a></li>\n",
      "</ul>\n",
      "</li>\n",
      "<li class=\"toctree-l1\"><a class=\"reference internal\" href=\"dev/authors/\">Authors</a><ul>\n",
      "<li class=\"toctree-l2\"><a class=\"reference internal\" href=\"dev/authors/#keepers-of-the-crystals\">Keepers of the Crystals</a></li>\n",
      "<li class=\"toctree-l2\"><a class=\"reference internal\" href=\"dev/authors/#previous-keepers-of-crystals\">Previous Keepers of Crystals</a></li>\n",
      "<li class=\"toctree-l2\"><a class=\"reference internal\" href=\"dev/authors/#patches-and-suggestions\">Patches and Suggestions</a></li>\n",
      "</ul>\n",
      "</li>\n",
      "</ul>\n",
      "</div>\n",
      "<p>There are no more guides. You are now guideless.\n",
      "Good luck.</p>\n",
      "</section>\n",
      "</section>\n",
      "\n",
      "\n",
      "          </div>\n",
      "          \n",
      "        </div>\n",
      "      </div>\n",
      "      <div class=\"sphinxsidebar\" role=\"navigation\" aria-label=\"main navigation\">\n",
      "        <div class=\"sphinxsidebarwrapper\"><p class=\"logo\">\n",
      "  <a href=\"#\">\n",
      "    <img class=\"logo\" src=\"_static/requests-sidebar.png\" alt=\"Requests logo\" />\n",
      "  </a>\n",
      "</p>\n",
      "\n",
      "<p>\n",
      "  <iframe src=\"https://ghbtns.com/github-btn.html?user=psf&repo=requests&type=watch&count=true&size=large\"\n",
      "    allowtransparency=\"true\" frameborder=\"0\" scrolling=\"0\" width=\"200px\" height=\"35px\"></iframe>\n",
      "</p>\n",
      "\n",
      "<p>\n",
      "  Requests is an elegant and simple HTTP library for Python, built for\n",
      "  human beings.\n",
      "</p>\n",
      "\n",
      "<h3>Useful Links</h3>\n",
      "<ul>\n",
      "  <li><a href=\"user/quickstart/\">Quickstart</a></li>\n",
      "  <li><a href=\"user/advanced/\">Advanced Usage</a></li>\n",
      "  <li><a href=\"api/\">API Reference</a></li>\n",
      "  <li><a href=\"community/updates/#release-history\">Release History</a></li>\n",
      "  <li><a href=\"dev/contributing/\">Contributors Guide</a></li>\n",
      "\n",
      "  <p></p>\n",
      "\n",
      "  <li><a href=\"community/recommended/\">Recommended Packages and Extensions</a></li>\n",
      "\n",
      "  <p></p>\n",
      "\n",
      "  <li><a href=\"https://github.com/psf/requests\">Requests @ GitHub</a></li>\n",
      "  <li><a href=\"https://pypi.org/project/requests/\">Requests @ PyPI</a></li>\n",
      "  <li><a href=\"https://github.com/psf/requests/issues\">Issue Tracker</a></li>\n",
      "</ul>\n",
      "\n",
      "<div id=\"native-ribbon\">\n",
      "</div>\n",
      "<div id=\"searchbox\" style=\"display: none\" role=\"search\">\n",
      "  <h3 id=\"searchlabel\">Quick search</h3>\n",
      "    <div class=\"searchformwrapper\">\n",
      "    <form class=\"search\" action=\"search/\" method=\"get\">\n",
      "      <input type=\"text\" name=\"q\" aria-labelledby=\"searchlabel\" autocomplete=\"off\" autocorrect=\"off\" autocapitalize=\"off\" spellcheck=\"false\"/>\n",
      "      <input type=\"submit\" value=\"Go\" />\n",
      "    </form>\n",
      "    </div>\n",
      "</div>\n",
      "<script>document.getElementById('searchbox').style.display = \"block\"</script><!-- Alabaster (krTheme++) Hacks -->\n",
      "\n",
      "<!-- CSS Adjustments (I'm very picky.) -->\n",
      "<style type=\"text/css\">\n",
      "\n",
      "  /* Rezzy requires precise alignment. */\n",
      "  img.logo {margin-left: -20px!important;}\n",
      "\n",
      "  /* \"Quick Search\" should be capitalized. */\n",
      "  div#searchbox h3 {text-transform: capitalize;}\n",
      "\n",
      "  /* Make the document a little wider, less code is cut-off. */\n",
      "  div.document {width: 1008px;}\n",
      "\n",
      "  /* Much-improved spacing around code blocks. */\n",
      "  div.highlight pre {padding: 11px 14px;}\n",
      "\n",
      "  /* Remain Responsive! */\n",
      "  @media screen and (max-width: 1008px) {\n",
      "    div.sphinxsidebar {display: none;}\n",
      "    div.document {width: 100%!important;}\n",
      "\n",
      "    /* Have code blocks escape the document right-margin. */\n",
      "    div.highlight pre {margin-right: -30px;}\n",
      "  }\n",
      "</style>\n",
      "\n",
      "<!-- Native CPC by BuySellAds -->\n",
      "\n",
      "<script type=\"text/javascript\" src=\"//m.servedby-buysellads.com/monetization.js\"></script>\n",
      "\n",
      "<div id=\"native-ribbon\">\n",
      "</div>\n",
      "\n",
      "<script>\n",
      "_bsa.init('custom', 'CK7D62JU', 'placement:pythonrequestsorg',\n",
      "    {\n",
      "      target: '#native-ribbon',\n",
      "      template: `\n",
      "<div class=\"native-sponsor\">Sponsored by ##company## — Learn More</div>\n",
      "  <a href=\"##link##\" class=\"native-flex\">\n",
      "    <style>\n",
      "    #native-ribbon #_custom_ {\n",
      "      background: linear-gradient(-30deg, ##backgroundColor##E5, ##backgroundColor##E5 45%, ##backgroundColor## 45%) #fff;\n",
      "    }\n",
      "\n",
      "    .native-details,\n",
      "    .native-sponsor,\n",
      "    .native-bsa {\n",
      "      color: ##textColor## !important;\n",
      "    }\n",
      "\n",
      "    .native-details:hover {\n",
      "      color: ##textColorHover## !important;\n",
      "    }\n",
      "\n",
      "    .native-cta {\n",
      "      color: ##ctaTextColor##;\n",
      "      background-color: ##ctaBackgroundColor##;\n",
      "    }\n",
      "\n",
      "    .native-cta:hover {\n",
      "      color: ##ctaTextColorHover##;\n",
      "      background-color: ##ctaBackgroundColorHover##;\n",
      "    }\n",
      "    </style>\n",
      "    <div class=\"native-main\">\n",
      "      <img class=\"native-img\" src=\"##logo##\">\n",
      "      <div class=\"native-details\">\n",
      "        <span class=\"native-company\">##title##</span>\n",
      "        <span class=\"native-desc\">##description##</span>\n",
      "      </div>\n",
      "    </div>\n",
      "    <span class=\"native-cta\">##callToAction##</span>\n",
      "  </a>\n",
      "</div>\n",
      "`\n",
      "    }\n",
      "  );\n",
      "</script>\n",
      "        </div>\n",
      "      </div>\n",
      "      <div class=\"clearer\"></div>\n",
      "    </div>\n",
      "    <div class=\"footer\">\n",
      "      &#169;MMXVIX. A Kenneth Reitz Project.\n",
      "      \n",
      "    </div>\n",
      "\n",
      "    \n",
      "    <a href=\"https://github.com/requests/requests\" class=\"github\">\n",
      "        <img style=\"position: absolute; top: 0; right: 0; border: 0;\" src=\"https://github.blog/wp-content/uploads/2008/12/forkme_right_darkblue_121621.png\" alt=\"Fork me on GitHub\"  class=\"github\"/>\n",
      "    </a>\n",
      "    \n",
      "\n",
      "    \n",
      "  </body>\n",
      "</html> <class 'str'>\n",
      "response.headers {'Date': 'Wed, 23 Jul 2025 08:34:54 GMT', 'Content-Type': 'text/html; charset=utf-8', 'Transfer-Encoding': 'chunked', 'Connection': 'keep-alive', 'CF-Ray': '9639d763df36ce73-SIN', 'CF-Cache-Status': 'HIT', 'Access-Control-Allow-Origin': '*', 'Age': '1913', 'Cache-Control': 'max-age=1200', 'Content-Encoding': 'gzip', 'ETag': 'W/\"96f4e1b7ac3a17c06b3ab8bd3d1eba40\"', 'Last-Modified': 'Mon, 09 Jun 2025 16:40:57 GMT', 'Strict-Transport-Security': 'max-age=31536000; includeSubDomains; preload', 'Vary': 'Accept-Encoding', 'access-control-allow-methods': 'HEAD, OPTIONS, GET', 'cdn-cache-control': 'public', 'referrer-policy': 'no-referrer-when-downgrade', 'x-amz-id-2': 'MRj+Xx2JOyx0A/0Ccwr25SUk2KTSrB1meN/+gms1e3zfaTIAZhlzxlHVQTrJxxXot3pyfWOQtus=', 'x-amz-meta-mtime': '1749487220.064051803', 'x-amz-request-id': 'TV5R6Y2JDT1H0K46', 'x-amz-server-side-encryption': 'AES256', 'x-backend': 'web-i-0363503b56e722d25', 'x-content-type-options': 'nosniff', 'x-rtd-domain': 'requests.readthedocs.io', 'x-rtd-force-addons': 'true', 'x-rtd-path': '/proxito/html/requests/latest/index.html', 'x-rtd-project': 'requests', 'x-rtd-project-method': 'public_domain', 'x-rtd-resolver-filename': '/', 'x-rtd-version': 'latest', 'x-rtd-version-method': 'path', 'x-served': 'Nginx-Proxito-Sendfile', 'Set-Cookie': '_cfuvid=FhHkvhuS3bPk_xQDrg42xJeGhQgPXN.QbvkfjC_Y24M-1753259694718-0.0.1.1-604800000; path=/; domain=.readthedocs.io; HttpOnly; Secure; SameSite=None', 'Server': 'cloudflare', 'alt-svc': 'h3=\":443\"; ma=86400'}\n"
     ]
    }
   ],
   "source": [
    "from requests.models import Response\n",
    "from requests.structures import CaseInsensitiveDict\n",
    "\n",
    "response: Response = requests.get('https://requests.readthedocs.io/en/latest/')\n",
    "display(\"Response\",response)\n",
    "\n",
    "status_code : int = response.status_code\n",
    "print(\"Status_code\",status_code)\n",
    "\n",
    "# json_obj : dict = response.json()\n",
    "# print(\"Json_obj\",json_obj, type(json_obj))\n",
    "\n",
    "txt: str = response.text\n",
    "print(\"response.text\",txt,type(txt))\n",
    "\n",
    "headers: CaseInsensitiveDict = response.headers\n",
    "print(\"response.headers\",headers)"
   ]
  },
  {
   "cell_type": "code",
   "execution_count": 4,
   "metadata": {},
   "outputs": [
    {
     "name": "stdout",
     "output_type": "stream",
     "text": [
      "200\n"
     ]
    },
    {
     "data": {
      "text/plain": [
       "[{'id': 3, 'name': 'The Vanishing Half', 'type': 'fiction', 'available': True}]"
      ]
     },
     "metadata": {},
     "output_type": "display_data"
    },
    {
     "name": "stdout",
     "output_type": "stream",
     "text": [
      "{'Content-Type': 'application/json', 'Content-Length': '72', 'Connection': 'keep-alive', 'Date': 'Wed, 23 Jul 2025 08:35:17 GMT', 'X-Amzn-Trace-Id': 'Root=1-68809ec5-259f0f502cea7d8b3bedd46c;Parent=7cf3c110ba544291;Sampled=0;Lineage=1:9ee0f5ed:0', 'x-amzn-RequestId': 'b2339cc0-a284-43d7-beac-9a9eb7b67bcc', 'Access-Control-Allow-Origin': '*', 'Access-Control-Allow-Headers': 'Content-Type, Authorization, X-Amz-Date, X-Api-Key, X-Amz-Security-Token', 'x-amz-apigw-id': 'OJ2-2HlqoAMEUhQ=', 'Access-Control-Allow-Methods': 'GET, POST, PUT, DELETE, OPTIONS, PATCH', 'X-Cache': 'Miss from cloudfront', 'Via': '1.1 54a08637e3182933da31ee4439816e20.cloudfront.net (CloudFront)', 'X-Amz-Cf-Pop': 'MCT50-P2', 'X-Amz-Cf-Id': 'HYziBreevVh77whPIfr0Y1fmhGlb4bc9w_pY-PBysKPLBdKrxpWCeg=='}\n"
     ]
    }
   ],
   "source": [
    "response: Response = requests.get('https://simple-books-api.glitch.me/books')\n",
    "\n",
    "status_code : int = response.status_code\n",
    "print(status_code)\n",
    "\n",
    "json_obj : list = response.json()\n",
    "display(json_obj)\n",
    "\n",
    "\n",
    "headers: CaseInsensitiveDict = response.headers\n",
    "print(headers)"
   ]
  },
  {
   "cell_type": "code",
   "execution_count": 5,
   "metadata": {},
   "outputs": [
    {
     "name": "stdout",
     "output_type": "stream",
     "text": [
      "200\n",
      "{'id': 1, 'available': True, 'isbn': '1780899475', 'name': 'The Russian', 'current-stock': 12, 'price': 12.98, 'author': 'James Patterson and James O. Born', 'type': 'fiction'}\n",
      "{'Content-Type': 'application/json', 'Content-Length': '161', 'Connection': 'keep-alive', 'Date': 'Wed, 23 Jul 2025 08:35:33 GMT', 'X-Amzn-Trace-Id': 'Root=1-68809ed5-7fafd7d418da7b59255cfd47;Parent=62eb3c4f718b07da;Sampled=0;Lineage=1:9ee0f5ed:0', 'x-amzn-RequestId': '8b27400b-b491-4602-972b-d1930f28a0fe', 'Access-Control-Allow-Origin': '*', 'Access-Control-Allow-Headers': 'Content-Type, Authorization, X-Amz-Date, X-Api-Key, X-Amz-Security-Token', 'x-amz-apigw-id': 'OJ3BbF18IAMEWQg=', 'Access-Control-Allow-Methods': 'GET, POST, PUT, DELETE, OPTIONS, PATCH', 'X-Cache': 'Miss from cloudfront', 'Via': '1.1 b8f56fc4f11b87121ad22f66e3323180.cloudfront.net (CloudFront)', 'X-Amz-Cf-Pop': 'MCT50-P2', 'X-Amz-Cf-Id': 'mZp1j3n2lsdgnLAdHhwJYIIoHp9zjgN-9NRkwIZq06w1_PspRhURzg=='}\n"
     ]
    }
   ],
   "source": [
    "response: Response = requests.get('https://simple-books-api.glitch.me/books/1')\n",
    "\n",
    "status_code : int = response.status_code\n",
    "print(status_code)\n",
    "\n",
    "json_obj : dict = response.json()\n",
    "print(json_obj)\n",
    "\n",
    "headers: CaseInsensitiveDict = response.headers\n",
    "print(headers)"
   ]
  },
  {
   "cell_type": "markdown",
   "metadata": {},
   "source": [
    "## POST Request"
   ]
  },
  {
   "cell_type": "markdown",
   "metadata": {},
   "source": [
    "The POST method is used to send data to a server to create a new resource."
   ]
  },
  {
   "cell_type": "code",
   "execution_count": 3,
   "metadata": {},
   "outputs": [
    {
     "name": "stdout",
     "output_type": "stream",
     "text": [
      "Status Code: 200\n",
      "Response JSON: {'args': {}, 'data': '{\"key\": \"value\", \"name\": \"Farhan\"}', 'files': {}, 'form': {}, 'headers': {'Accept': '*/*', 'Accept-Encoding': 'gzip, deflate, zstd', 'Content-Length': '34', 'Content-Type': 'application/json', 'Host': 'httpbin.org', 'User-Agent': 'python-requests/2.32.4', 'X-Amzn-Trace-Id': 'Root=1-687a06ba-4fd5075f69deab026bf0ab48'}, 'json': {'key': 'value', 'name': 'Farhan'}, 'origin': '110.37.119.232', 'url': 'https://httpbin.org/post'}\n"
     ]
    }
   ],
   "source": [
    "payload = {'key': 'value', 'name': 'Farhan'}\n",
    "response = requests.post('https://httpbin.org/post', json=payload)\n",
    "print(f\"Status Code: {response.status_code}\")\n",
    "print(f\"Response JSON: {response.json()}\")"
   ]
  },
  {
   "cell_type": "markdown",
   "metadata": {},
   "source": [
    "## PUT Request"
   ]
  },
  {
   "cell_type": "markdown",
   "metadata": {},
   "source": [
    "The PUT method is used to send data to a server to update a resource."
   ]
  },
  {
   "cell_type": "code",
   "execution_count": 4,
   "metadata": {},
   "outputs": [
    {
     "name": "stdout",
     "output_type": "stream",
     "text": [
      "Status Code: 200\n",
      "Response JSON: {'args': {}, 'data': '{\"key\": \"new_value\", \"name\": \"Farhan\"}', 'files': {}, 'form': {}, 'headers': {'Accept': '*/*', 'Accept-Encoding': 'gzip, deflate, zstd', 'Content-Length': '38', 'Content-Type': 'application/json', 'Host': 'httpbin.org', 'User-Agent': 'python-requests/2.32.4', 'X-Amzn-Trace-Id': 'Root=1-687a06bb-7e3dea440ff2757d6fab0ac6'}, 'json': {'key': 'new_value', 'name': 'Farhan'}, 'origin': '110.37.119.232', 'url': 'https://httpbin.org/put'}\n"
     ]
    }
   ],
   "source": [
    "payload = {'key': 'new_value', 'name': 'Farhan'}\n",
    "response = requests.put('https://httpbin.org/put', json=payload)\n",
    "print(f\"Status Code: {response.status_code}\")\n",
    "print(f\"Response JSON: {response.json()}\")"
   ]
  },
  {
   "cell_type": "markdown",
   "metadata": {},
   "source": [
    "## DELETE Request"
   ]
  },
  {
   "cell_type": "markdown",
   "metadata": {},
   "source": [
    "The DELETE method is used to delete the specified resource."
   ]
  },
  {
   "cell_type": "code",
   "execution_count": 5,
   "metadata": {},
   "outputs": [
    {
     "name": "stdout",
     "output_type": "stream",
     "text": [
      "Status Code: 200\n",
      "Response JSON: {'args': {}, 'data': '', 'files': {}, 'form': {}, 'headers': {'Accept': '*/*', 'Accept-Encoding': 'gzip, deflate, zstd', 'Content-Length': '0', 'Host': 'httpbin.org', 'User-Agent': 'python-requests/2.32.4', 'X-Amzn-Trace-Id': 'Root=1-687a06bc-28861f7a3f9a3cee1e10c4f6'}, 'json': None, 'origin': '110.37.119.232', 'url': 'https://httpbin.org/delete'}\n"
     ]
    }
   ],
   "source": [
    "response = requests.delete('https://httpbin.org/delete')\n",
    "print(f\"Status Code: {response.status_code}\")\n",
    "print(f\"Response JSON: {response.json()}\")"
   ]
  },
  {
   "cell_type": "markdown",
   "metadata": {},
   "source": [
    "## HEAD Request"
   ]
  },
  {
   "cell_type": "markdown",
   "metadata": {},
   "source": [
    "The HEAD method is almost identical to GET, but it doesn't retrieve the response body. It's useful for checking what a GET request will return without having to download all the content."
   ]
  },
  {
   "cell_type": "code",
   "execution_count": 6,
   "metadata": {},
   "outputs": [
    {
     "name": "stdout",
     "output_type": "stream",
     "text": [
      "Status Code: 200\n",
      "Headers: {'Date': 'Fri, 18 Jul 2025 08:33:03 GMT', 'Content-Type': 'application/json', 'Content-Length': '314', 'Connection': 'keep-alive', 'Server': 'gunicorn/19.9.0', 'Access-Control-Allow-Origin': '*', 'Access-Control-Allow-Credentials': 'true'}\n"
     ]
    }
   ],
   "source": [
    "response = requests.head('https://httpbin.org/get')\n",
    "print(f\"Status Code: {response.status_code}\")\n",
    "print(f\"Headers: {response.headers}\")"
   ]
  },
  {
   "cell_type": "markdown",
   "metadata": {},
   "source": [
    "## PATCH Request"
   ]
  },
  {
   "cell_type": "markdown",
   "metadata": {},
   "source": [
    "The PATCH method is used to apply partial modifications to a resource."
   ]
  },
  {
   "cell_type": "code",
   "execution_count": 7,
   "metadata": {},
   "outputs": [
    {
     "name": "stdout",
     "output_type": "stream",
     "text": [
      "Status Code: 200\n",
      "Response JSON: {'args': {}, 'data': '{\"key\": \"patched_value\"}', 'files': {}, 'form': {}, 'headers': {'Accept': '*/*', 'Accept-Encoding': 'gzip, deflate, zstd', 'Content-Length': '24', 'Content-Type': 'application/json', 'Host': 'httpbin.org', 'User-Agent': 'python-requests/2.32.4', 'X-Amzn-Trace-Id': 'Root=1-687a06bf-3550590767ddbd9558d2ad45'}, 'json': {'key': 'patched_value'}, 'origin': '110.37.119.232', 'url': 'https://httpbin.org/patch'}\n"
     ]
    }
   ],
   "source": [
    "payload = {'key': 'patched_value'}\n",
    "response = requests.patch('https://httpbin.org/patch', json=payload)\n",
    "print(f\"Status Code: {response.status_code}\")\n",
    "print(f\"Response JSON: {response.json()}\")"
   ]
  },
  {
   "cell_type": "markdown",
   "metadata": {},
   "source": [
    "## OPTIONS Request"
   ]
  },
  {
   "cell_type": "markdown",
   "metadata": {},
   "source": [
    "The OPTIONS method is used to describe the communication options for the target resource."
   ]
  },
  {
   "cell_type": "code",
   "execution_count": 8,
   "metadata": {},
   "outputs": [
    {
     "name": "stdout",
     "output_type": "stream",
     "text": [
      "Status Code: 200\n",
      "Allowed Methods: OPTIONS, GET, HEAD\n"
     ]
    }
   ],
   "source": [
    "response = requests.options('https://httpbin.org/get')\n",
    "print(f\"Status Code: {response.status_code}\")\n",
    "print(f\"Allowed Methods: {response.headers['Allow']}\")"
   ]
  }
 ],
 "metadata": {
  "kernelspec": {
   "display_name": "streamlit",
   "language": "python",
   "name": "python3"
  },
  "language_info": {
   "codemirror_mode": {
    "name": "ipython",
    "version": 3
   },
   "file_extension": ".py",
   "mimetype": "text/x-python",
   "name": "python",
   "nbconvert_exporter": "python",
   "pygments_lexer": "ipython3",
   "version": "3.13.5"
  }
 },
 "nbformat": 4,
 "nbformat_minor": 4
}
