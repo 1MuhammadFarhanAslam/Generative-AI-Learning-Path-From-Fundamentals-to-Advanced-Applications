{
 "cells": [
  {
   "cell_type": "markdown",
   "id": "1906471c",
   "metadata": {},
   "source": [
    "## **db**\n",
    "\n",
    "- https://docs.sqlalchemy.org/en/20/tutorial/dbapi_transactions.html#executing-with-an-orm-db\n",
    "- https://www.sqlalchemy.org/"
   ]
  },
  {
   "cell_type": "code",
   "execution_count": 1,
   "id": "7dcf412e",
   "metadata": {},
   "outputs": [
    {
     "name": "stdout",
     "output_type": "stream",
     "text": [
      "Requirement already satisfied: psycopg2-binary in c:\\users\\farhanarain\\anaconda3\\envs\\streamlit\\lib\\site-packages (from -r requirements.txt (line 1)) (2.9.10)\n",
      "Requirement already satisfied: SQLAlchemy in c:\\users\\farhanarain\\anaconda3\\envs\\streamlit\\lib\\site-packages (from -r requirements.txt (line 2)) (2.0.41)\n",
      "Requirement already satisfied: greenlet>=1 in c:\\users\\farhanarain\\anaconda3\\envs\\streamlit\\lib\\site-packages (from SQLAlchemy->-r requirements.txt (line 2)) (3.2.3)\n",
      "Requirement already satisfied: typing-extensions>=4.6.0 in c:\\users\\farhanarain\\anaconda3\\envs\\streamlit\\lib\\site-packages (from SQLAlchemy->-r requirements.txt (line 2)) (4.14.1)\n",
      "Note: you may need to restart the kernel to use updated packages.\n"
     ]
    }
   ],
   "source": [
    "%pip install -r requirements.txt"
   ]
  },
  {
   "cell_type": "code",
   "execution_count": 2,
   "id": "8bfbe34c",
   "metadata": {},
   "outputs": [],
   "source": [
    "from dotenv import load_dotenv, find_dotenv\n",
    "import os\n",
    "import sqlalchemy\n",
    "import os\n",
    "from sqlalchemy.engine import Engine\n",
    "from sqlalchemy.orm import declarative_base\n",
    "from sqlalchemy import create_engine, text, Column, Integer, String, ForeignKey\n",
    "from sqlalchemy.orm import sessionmaker, relationship\n",
    "from sqlalchemy.exc import OperationalError, DisconnectionError\n",
    "import time\n"
   ]
  },
  {
   "cell_type": "code",
   "execution_count": 3,
   "id": "ed677b8a",
   "metadata": {},
   "outputs": [],
   "source": [
    "_ = load_dotenv(find_dotenv())"
   ]
  },
  {
   "cell_type": "code",
   "execution_count": 4,
   "id": "fe33f33f",
   "metadata": {},
   "outputs": [
    {
     "data": {
      "text/plain": [
       "True"
      ]
     },
     "execution_count": 4,
     "metadata": {},
     "output_type": "execute_result"
    }
   ],
   "source": [
    "_"
   ]
  },
  {
   "cell_type": "code",
   "execution_count": 5,
   "id": "17aacc5f",
   "metadata": {},
   "outputs": [],
   "source": [
    "# Get connection string from environment variable\n",
    "conn_str = os.environ.get('CONNECTION_STRING')\n",
    "\n",
    "# Optional: Handle missing connection string\n",
    "if not conn_str:\n",
    "    raise ValueError(\"CONNECTION_STRING environment variable not set.\")\n",
    "\n",
    "# Create SQLAlchemy engine\n",
    "engine: Engine = create_engine(conn_str,\n",
    "    echo=False,\n",
    "    pool_size=10,\n",
    "    max_overflow=20,\n",
    "    pool_pre_ping=True,  # Verify connection is alive before use\n",
    "    pool_recycle=3600,   # Reconnect after 1 hour (helps with Neon timeouts)\n",
    ")"
   ]
  },
  {
   "cell_type": "code",
   "execution_count": 6,
   "id": "af9caf34",
   "metadata": {},
   "outputs": [],
   "source": [
    "# --- Step 2: Define Base & Models (as provided previously) ---\n",
    "Base = declarative_base()\n",
    "\n",
    "class Department(Base):\n",
    "    __tablename__ = 'departments'\n",
    "    id = Column(Integer, primary_key=True)\n",
    "    name = Column(String, unique=True, nullable=False)\n",
    "    employees = relationship('Employee', back_populates='department', cascade=\"all, delete-orphan\") # Added cascade for robust deletion\n",
    "\n",
    "    def __repr__(self):\n",
    "        return f\"<Department(id={self.id}, name='{self.name}')>\"\n",
    "\n",
    "class Employee(Base):\n",
    "    __tablename__ = 'employees'\n",
    "    id = Column(Integer, primary_key=True)\n",
    "    name = Column(String, nullable=False)\n",
    "    department_id = Column(Integer, ForeignKey('departments.id'))\n",
    "    department = relationship('Department', back_populates='employees')\n",
    "\n",
    "    def __repr__(self):\n",
    "        return f\"<Employee(id={self.id}, name='{self.name}', department_id={self.department_id})>\"\n"
   ]
  },
  {
   "cell_type": "markdown",
   "id": "f30c96b8",
   "metadata": {},
   "source": [
    "A one-to-many relationship in an ORM (Object-Relational Mapper) like SQLAlchemy describes a common database pattern where a single record in one table can be associated with multiple records in another table. For example, one author can write many books, or one department can have many employees.\n",
    "\n",
    "-----\n",
    "\n",
    "##### Understanding One-to-Many\n",
    "\n",
    "In a one-to-many relationship:\n",
    "\n",
    "  * **\"One\" side (Parent):** This entity holds the primary key.\n",
    "  * **\"Many\" side (Child):** This entity holds a **foreign key** that references the primary key of the \"one\" side.\n",
    "\n",
    "Consider the example of `Department` and `Employee`:\n",
    "\n",
    "  * A `Department` can have many `Employee`s.\n",
    "  * Each `Employee` belongs to exactly one `Department`.\n",
    "\n",
    "\n",
    "##### Explanation of Key Components:\n",
    "\n",
    "  * **`ForeignKey('departments.id')`**: This is defined on the `Employee` model (`department_id` column). It tells SQLAlchemy that this column refers to the `id` column of the `departments` table. This is the **crucial part for the database relationship**.\n",
    "  * **`relationship('Employee', back_populates='department')`** (on `Department`):\n",
    "      * `'Employee'` refers to the Python class name of the related model.\n",
    "      * `back_populates='department'` tells SQLAlchemy that there's a corresponding `relationship()` on the `Employee` model named `department` that points back to `Department`. This creates a **bidirectional relationship**, allowing you to navigate from `Department` to `Employee`s (`department.employees`) and from an `Employee` to their `Department` (`employee.department`).\n",
    "  * **`relationship('Department', back_populates='employees')`** (on `Employee`):\n",
    "      * `'Department'` refers to the Python class name of the related model.\n",
    "      * `back_populates='employees'` tells SQLAlchemy that there's a corresponding `relationship()` on the `Department` model named `employees`."
   ]
  },
  {
   "cell_type": "code",
   "execution_count": 7,
   "id": "2ab873a6",
   "metadata": {},
   "outputs": [
    {
     "name": "stdout",
     "output_type": "stream",
     "text": [
      "Database tables created/ensured.\n"
     ]
    }
   ],
   "source": [
    "# --- Step 3: Create tables (Run this once, e.g., on application start or migration) ---\n",
    "Base.metadata.create_all(bind=engine)\n",
    "print(\"Database tables created/ensured.\")"
   ]
  },
  {
   "cell_type": "code",
   "execution_count": 8,
   "id": "72844f27",
   "metadata": {},
   "outputs": [],
   "source": [
    "# --- Step 4: Set up db (Session local factory and instance) ---\n",
    "dbmaker = sessionmaker(autocommit=False, autoflush=False, bind=engine)\n",
    "\n",
    "# Function to safely get a session, with retry logic for connection errors\n",
    "def get_db():\n",
    "    db = dbmaker()\n",
    "    try:\n",
    "        yield db # This makes it a context manager / generator\n",
    "    finally:\n",
    "        db.close()"
   ]
  },
  {
   "cell_type": "code",
   "execution_count": 9,
   "id": "4f1dac95",
   "metadata": {},
   "outputs": [
    {
     "name": "stdout",
     "output_type": "stream",
     "text": [
      "\n",
      "Populating initial data...\n",
      "Initial data populated.\n"
     ]
    }
   ],
   "source": [
    "# --- Populate Initial Data (run this only once, or handle existing data) ---\n",
    "# It's good practice to ensure data population is idempotent\n",
    "# For a real app, you might check if data exists before adding\n",
    "with next(get_db()) as db: # Use get_db() to create and manage session\n",
    "    if not db.query(Department).first(): # Only add if no departments exist\n",
    "        print(\"\\nPopulating initial data...\")\n",
    "        hr_dept = Department(name='Human Resources')\n",
    "        it_dept = Department(name='Information Technology')\n",
    "        db.add_all([hr_dept, it_dept])\n",
    "        db.commit()\n",
    "\n",
    "        # Re-fetch departments to ensure they have IDs if db.add_all didn't refresh them\n",
    "        hr_dept = db.query(Department).filter_by(name='Human Resources').first()\n",
    "        it_dept = db.query(Department).filter_by(name='Information Technology').first()\n",
    "\n",
    "        db.add_all([\n",
    "            Employee(name='Alice', department=hr_dept),\n",
    "            Employee(name='Bob', department=hr_dept),\n",
    "            Employee(name='Charlie', department=it_dept)\n",
    "        ])\n",
    "        db.commit()\n",
    "        print(\"Initial data populated.\")\n",
    "    else:\n",
    "        print(\"\\nInitial data already exists. Skipping population.\")"
   ]
  },
  {
   "cell_type": "code",
   "execution_count": 10,
   "id": "ff2615b5",
   "metadata": {},
   "outputs": [],
   "source": [
    "# --- Database Operations with Error Handling ---\n",
    "\n",
    "# Helper function to retry operations on connection errors\n",
    "def retry_db_operation(operation, max_retries=3, delay_seconds=1):\n",
    "    for i in range(max_retries):\n",
    "        try:\n",
    "            with next(get_db()) as db: # Get a fresh session for each attempt\n",
    "                db_session = operation(db)\n",
    "                return db_session\n",
    "        except (OperationalError, DisconnectionError) as e:\n",
    "            print(f\"Database connection error (Attempt {i+1}/{max_retries}): {e}\")\n",
    "            if i < max_retries - 1:\n",
    "                time.sleep(delay_seconds * (2**i)) # Exponential backoff\n",
    "            else:\n",
    "                raise # Re-raise if all retries fail"
   ]
  },
  {
   "cell_type": "code",
   "execution_count": 11,
   "id": "63b1fc47",
   "metadata": {},
   "outputs": [
    {
     "name": "stdout",
     "output_type": "stream",
     "text": [
      "\n",
      "--- Querying Department and its Employees ---\n",
      "\n",
      "Department: Human Resources\n",
      "  - Employee: Alice\n",
      "  - Employee: Bob\n"
     ]
    }
   ],
   "source": [
    "# 3. Querying from the \"One\" side (Department -> Employees)\n",
    "print(\"\\n--- Querying Department and its Employees ---\")\n",
    "def query_hr_employees(db_session):\n",
    "    retrieved_hr = db_session.query(Department).filter_by(name='Human Resources').first()\n",
    "    if retrieved_hr:\n",
    "        print(f\"\\nDepartment: {retrieved_hr.name}\")\n",
    "        for emp in retrieved_hr.employees:\n",
    "            print(f\"  - Employee: {emp.name}\")\n",
    "    return retrieved_hr # Return for potential further use\n",
    "\n",
    "try:\n",
    "    retry_db_operation(query_hr_employees)\n",
    "except Exception as e:\n",
    "    print(f\"Failed to query HR department after multiple retries: {e}\")"
   ]
  },
  {
   "cell_type": "code",
   "execution_count": 12,
   "id": "1c7981dd",
   "metadata": {},
   "outputs": [
    {
     "name": "stdout",
     "output_type": "stream",
     "text": [
      "\n",
      "--- Querying Employee and their Department ---\n",
      "\n",
      "Employee: Alice\n",
      "  - Belongs to Department: Human Resources\n"
     ]
    }
   ],
   "source": [
    "# 4. Querying from the \"Many\" side (Employee -> Department)\n",
    "print(\"\\n--- Querying Employee and their Department ---\")\n",
    "def query_alice_department(db_session):\n",
    "    retrieved_emp = db_session.query(Employee).filter_by(name='Alice').first()\n",
    "    if retrieved_emp:\n",
    "        print(f\"\\nEmployee: {retrieved_emp.name}\")\n",
    "        print(f\"  - Belongs to Department: {retrieved_emp.department.name}\")\n",
    "    return retrieved_emp\n",
    "\n",
    "try:\n",
    "    retry_db_operation(query_alice_department)\n",
    "except Exception as e:\n",
    "    print(f\"Failed to query Alice's department after multiple retries: {e}\")"
   ]
  },
  {
   "cell_type": "code",
   "execution_count": 13,
   "id": "07acfa84",
   "metadata": {},
   "outputs": [
    {
     "name": "stdout",
     "output_type": "stream",
     "text": [
      "\n",
      "--- Adding an Employee to an Existing Department ---\n",
      "David added to Information Technology. Employees in IT now:\n",
      "  - Charlie\n",
      "  - David\n"
     ]
    }
   ],
   "source": [
    "# 5. Adding an Employee to an existing Department (after initial creation)\n",
    "print(\"\\n--- Adding an Employee to an Existing Department ---\")\n",
    "def add_david_to_it(db_session):\n",
    "    new_employee = Employee(name='David')\n",
    "    retrieved_it = db_session.query(Department).filter_by(name='Information Technology').first()\n",
    "    if retrieved_it:\n",
    "        # Check if David already exists in this department to prevent duplicates in example\n",
    "        if not any(e.name == 'David' for e in retrieved_it.employees):\n",
    "            retrieved_it.employees.append(new_employee)\n",
    "            db_session.add(new_employee)\n",
    "            db_session.commit()\n",
    "            print(f\"David added to {retrieved_it.name}. Employees in IT now:\")\n",
    "            # Re-fetch or refresh to see the change in the relationship collection\n",
    "            db_session.refresh(retrieved_it)\n",
    "            for emp in retrieved_it.employees:\n",
    "                print(f\"  - {emp.name}\")\n",
    "        else:\n",
    "            print(\"David already exists in IT department.\")\n",
    "    else:\n",
    "        print(\"Information Technology department not found.\")\n",
    "    return retrieved_it\n",
    "\n",
    "try:\n",
    "    retry_db_operation(add_david_to_it)\n",
    "except Exception as e:\n",
    "    print(f\"Failed to add David after multiple retries: {e}\")"
   ]
  },
  {
   "cell_type": "code",
   "execution_count": 14,
   "id": "85de73e9",
   "metadata": {},
   "outputs": [
    {
     "name": "stdout",
     "output_type": "stream",
     "text": [
      "\n",
      "--- Deleting an Employee ---\n",
      "Bob deleted.\n",
      "Employees in HR now:\n",
      "  - Alice\n"
     ]
    }
   ],
   "source": [
    "# 6. Deleting an Employee\n",
    "print(\"\\n--- Deleting an Employee ---\")\n",
    "def delete_bob(db_session):\n",
    "    emp_to_delete = db_session.query(Employee).filter_by(name='Bob').first()\n",
    "    if emp_to_delete:\n",
    "        db_session.delete(emp_to_delete)\n",
    "        db_session.commit()\n",
    "        print(f\"Bob deleted.\")\n",
    "        retrieved_hr = db_session.query(Department).filter_by(name='Human Resources').first()\n",
    "        if retrieved_hr:\n",
    "            db_session.refresh(retrieved_hr) # Refresh to see updated employee list\n",
    "            print(f\"Employees in HR now:\")\n",
    "            if retrieved_hr.employees:\n",
    "                for emp in retrieved_hr.employees:\n",
    "                    print(f\"  - {emp.name}\")\n",
    "            else:\n",
    "                print(\"  (No employees in HR)\")\n",
    "    else:\n",
    "        print(\"Employee 'Bob' not found.\")\n",
    "    return emp_to_delete\n",
    "\n",
    "try:\n",
    "    retry_db_operation(delete_bob)\n",
    "except Exception as e:\n",
    "    print(f\"Failed to delete Bob after multiple retries: {e}\")"
   ]
  },
  {
   "cell_type": "code",
   "execution_count": 15,
   "id": "d6e5fa09",
   "metadata": {},
   "outputs": [
    {
     "name": "stdout",
     "output_type": "stream",
     "text": [
      "\n",
      "--- Final Check for Alice ---\n",
      "Found Employee: <Employee(id=1, name='Alice', department_id=1)>\n",
      "\n",
      "Employee 'Zoe' not found (as expected).\n"
     ]
    }
   ],
   "source": [
    "# Query for an employee named \"Alice\" (re-run as a separate operation)\n",
    "print(\"\\n--- Final Check for Alice ---\")\n",
    "def final_check_alice(db_session):\n",
    "    alice = db_session.query(Employee).filter_by(name='Alice').first()\n",
    "    if alice:\n",
    "        print(f\"Found Employee: {alice}\")\n",
    "    else:\n",
    "        print(\"Employee 'Alice' not found.\")\n",
    "    non_existent_employee = db_session.query(Employee).filter_by(name='Zoe').first()\n",
    "    if non_existent_employee:\n",
    "        print(f\"Found Employee: {non_existent_employee}\")\n",
    "    else:\n",
    "        print(\"\\nEmployee 'Zoe' not found (as expected).\")\n",
    "\n",
    "try:\n",
    "    retry_db_operation(final_check_alice)\n",
    "except Exception as e:\n",
    "    print(f\"Failed final check for Alice after multiple retries: {e}\")"
   ]
  }
 ],
 "metadata": {
  "kernelspec": {
   "display_name": "streamlit",
   "language": "python",
   "name": "python3"
  },
  "language_info": {
   "codemirror_mode": {
    "name": "ipython",
    "version": 3
   },
   "file_extension": ".py",
   "mimetype": "text/x-python",
   "name": "python",
   "nbconvert_exporter": "python",
   "pygments_lexer": "ipython3",
   "version": "3.13.5"
  }
 },
 "nbformat": 4,
 "nbformat_minor": 5
}
