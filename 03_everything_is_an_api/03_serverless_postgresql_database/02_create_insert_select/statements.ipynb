{
 "cells": [
  {
   "cell_type": "code",
   "execution_count": 1,
   "id": "7dcf412e",
   "metadata": {},
   "outputs": [
    {
     "name": "stdout",
     "output_type": "stream",
     "text": [
      "Requirement already satisfied: psycopg2-binary in c:\\users\\farhanarain\\anaconda3\\envs\\streamlit\\lib\\site-packages (from -r requirements.txt (line 1)) (2.9.10)\n",
      "Requirement already satisfied: SQLAlchemy in c:\\users\\farhanarain\\anaconda3\\envs\\streamlit\\lib\\site-packages (from -r requirements.txt (line 2)) (2.0.41)\n",
      "Requirement already satisfied: greenlet>=1 in c:\\users\\farhanarain\\anaconda3\\envs\\streamlit\\lib\\site-packages (from SQLAlchemy->-r requirements.txt (line 2)) (3.2.3)\n",
      "Requirement already satisfied: typing-extensions>=4.6.0 in c:\\users\\farhanarain\\anaconda3\\envs\\streamlit\\lib\\site-packages (from SQLAlchemy->-r requirements.txt (line 2)) (4.14.1)\n",
      "Note: you may need to restart the kernel to use updated packages.\n"
     ]
    }
   ],
   "source": [
    "%pip install -r requirements.txt"
   ]
  },
  {
   "cell_type": "code",
   "execution_count": 7,
   "id": "8bfbe34c",
   "metadata": {},
   "outputs": [],
   "source": [
    "from dotenv import load_dotenv, find_dotenv\n",
    "import os\n",
    "import sqlalchemy\n",
    "import os\n",
    "from sqlalchemy import create_engine, text\n",
    "from sqlalchemy.engine import Engine"
   ]
  },
  {
   "cell_type": "code",
   "execution_count": 4,
   "id": "ed677b8a",
   "metadata": {},
   "outputs": [],
   "source": [
    "_ = load_dotenv(find_dotenv())"
   ]
  },
  {
   "cell_type": "code",
   "execution_count": 5,
   "id": "fe33f33f",
   "metadata": {},
   "outputs": [
    {
     "data": {
      "text/plain": [
       "True"
      ]
     },
     "execution_count": 5,
     "metadata": {},
     "output_type": "execute_result"
    }
   ],
   "source": [
    "_"
   ]
  },
  {
   "cell_type": "code",
   "execution_count": 6,
   "id": "17aacc5f",
   "metadata": {},
   "outputs": [],
   "source": [
    "# Get connection string from environment variable\n",
    "conn_str = os.environ.get('CONNECTION_STRING')\n",
    "\n",
    "# Optional: Handle missing connection string\n",
    "if not conn_str:\n",
    "    raise ValueError(\"CONNECTION_STRING environment variable not set.\")\n",
    "\n",
    "# Create SQLAlchemy engine\n",
    "engine: Engine = create_engine(conn_str)"
   ]
  },
  {
   "cell_type": "code",
   "execution_count": 8,
   "id": "f3b40030",
   "metadata": {},
   "outputs": [],
   "source": [
    "create_table_query = text(\"\"\"\n",
    "CREATE TABLE IF NOT EXISTS users (\n",
    "    id SERIAL PRIMARY KEY,\n",
    "    name VARCHAR(50),\n",
    "    email VARCHAR(50) UNIQUE\n",
    ")\n",
    "\"\"\")"
   ]
  },
  {
   "cell_type": "code",
   "execution_count": 9,
   "id": "7522499a",
   "metadata": {},
   "outputs": [],
   "source": [
    "with engine.connect() as conn:\n",
    "    conn.execute(create_table_query)\n",
    "    conn.commit()"
   ]
  },
  {
   "cell_type": "code",
   "execution_count": 10,
   "id": "9676f1a4",
   "metadata": {},
   "outputs": [],
   "source": [
    "insert_query = text(\"\"\"\n",
    "INSERT INTO users (name, email) \n",
    "VALUES (:name, :email)\n",
    "\"\"\")"
   ]
  },
  {
   "cell_type": "code",
   "execution_count": 11,
   "id": "ae14c7fe",
   "metadata": {},
   "outputs": [],
   "source": [
    "with engine.connect() as conn:\n",
    "    conn.execute(insert_query, {\"name\": \"Alice\", \"email\": \"alice@example.com\"})\n",
    "    conn.commit()"
   ]
  },
  {
   "cell_type": "code",
   "execution_count": 12,
   "id": "4cc22df4",
   "metadata": {},
   "outputs": [
    {
     "name": "stdout",
     "output_type": "stream",
     "text": [
      "(1, 'Alice', 'alice@example.com')\n"
     ]
    }
   ],
   "source": [
    "select_query = text(\"SELECT * FROM users\")\n",
    "with engine.connect() as conn:\n",
    "    result = conn.execute(select_query)\n",
    "    for row in result:\n",
    "        print(row)"
   ]
  }
 ],
 "metadata": {
  "kernelspec": {
   "display_name": "streamlit",
   "language": "python",
   "name": "python3"
  },
  "language_info": {
   "codemirror_mode": {
    "name": "ipython",
    "version": 3
   },
   "file_extension": ".py",
   "mimetype": "text/x-python",
   "name": "python",
   "nbconvert_exporter": "python",
   "pygments_lexer": "ipython3",
   "version": "3.13.5"
  }
 },
 "nbformat": 4,
 "nbformat_minor": 5
}
