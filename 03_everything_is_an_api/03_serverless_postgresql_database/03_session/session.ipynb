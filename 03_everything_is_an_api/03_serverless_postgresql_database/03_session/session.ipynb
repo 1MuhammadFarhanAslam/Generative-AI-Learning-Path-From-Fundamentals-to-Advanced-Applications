{
 "cells": [
  {
   "cell_type": "markdown",
   "id": "1906471c",
   "metadata": {},
   "source": [
    "## **Session**\n",
    "\n",
    "- https://docs.sqlalchemy.org/en/20/tutorial/dbapi_transactions.html#executing-with-an-orm-session\n",
    "- https://www.sqlalchemy.org/"
   ]
  },
  {
   "cell_type": "code",
   "execution_count": 14,
   "id": "7dcf412e",
   "metadata": {},
   "outputs": [
    {
     "name": "stdout",
     "output_type": "stream",
     "text": [
      "Requirement already satisfied: psycopg2-binary in c:\\users\\farhanarain\\anaconda3\\envs\\streamlit\\lib\\site-packages (from -r requirements.txt (line 1)) (2.9.10)\n",
      "Requirement already satisfied: SQLAlchemy in c:\\users\\farhanarain\\anaconda3\\envs\\streamlit\\lib\\site-packages (from -r requirements.txt (line 2)) (2.0.41)\n",
      "Requirement already satisfied: greenlet>=1 in c:\\users\\farhanarain\\anaconda3\\envs\\streamlit\\lib\\site-packages (from SQLAlchemy->-r requirements.txt (line 2)) (3.2.3)\n",
      "Requirement already satisfied: typing-extensions>=4.6.0 in c:\\users\\farhanarain\\anaconda3\\envs\\streamlit\\lib\\site-packages (from SQLAlchemy->-r requirements.txt (line 2)) (4.14.1)\n",
      "Note: you may need to restart the kernel to use updated packages.\n"
     ]
    }
   ],
   "source": [
    "%pip install -r requirements.txt"
   ]
  },
  {
   "cell_type": "code",
   "execution_count": null,
   "id": "8bfbe34c",
   "metadata": {},
   "outputs": [],
   "source": [
    "from dotenv import load_dotenv, find_dotenv\n",
    "import os\n",
    "import sqlalchemy\n",
    "import os\n",
    "from sqlalchemy import create_engine, text\n",
    "from sqlalchemy.engine import Engine\n",
    "from sqlalchemy.orm import Session\n"
   ]
  },
  {
   "cell_type": "code",
   "execution_count": 16,
   "id": "ed677b8a",
   "metadata": {},
   "outputs": [],
   "source": [
    "_ = load_dotenv(find_dotenv())"
   ]
  },
  {
   "cell_type": "code",
   "execution_count": 17,
   "id": "fe33f33f",
   "metadata": {},
   "outputs": [
    {
     "data": {
      "text/plain": [
       "True"
      ]
     },
     "execution_count": 17,
     "metadata": {},
     "output_type": "execute_result"
    }
   ],
   "source": [
    "_"
   ]
  },
  {
   "cell_type": "code",
   "execution_count": 24,
   "id": "17aacc5f",
   "metadata": {},
   "outputs": [],
   "source": [
    "# Get connection string from environment variable\n",
    "conn_str = os.environ.get('CONNECTION_STRING')\n",
    "\n",
    "# Optional: Handle missing connection string\n",
    "if not conn_str:\n",
    "    raise ValueError(\"CONNECTION_STRING environment variable not set.\")\n",
    "\n",
    "# Create SQLAlchemy engine\n",
    "engine: Engine = create_engine(conn_str,\n",
    "    echo=False,\n",
    "    pool_size=10,\n",
    "    max_overflow=20,\n",
    "    pool_pre_ping=True,  # Verify connection is alive before use\n",
    "    pool_recycle=3600,   # Reconnect after 1 hour (helps with Neon timeouts)\n",
    ")"
   ]
  },
  {
   "cell_type": "code",
   "execution_count": 29,
   "id": "29d3b80d",
   "metadata": {},
   "outputs": [
    {
     "name": "stdout",
     "output_type": "stream",
     "text": [
      "User created with ID: 1\n"
     ]
    }
   ],
   "source": [
    "from sqlalchemy import Column, Integer, String\n",
    "from sqlalchemy.orm import declarative_base, sessionmaker\n",
    "\n",
    "# --- Step 2: Define Base & Model ---\n",
    "Base = declarative_base()\n",
    "\n",
    "class User(Base):\n",
    "    __tablename__ = 'users'\n",
    "\n",
    "    id = Column(Integer, primary_key=True, index=True)\n",
    "    name = Column(String(50))\n",
    "    email = Column(String(50), unique=True)\n",
    "\n",
    "# --- Step 3: Create the Table ---\n",
    "Base.metadata.create_all(bind=engine)\n",
    "\n",
    "# --- Step 4: Set up Session ---\n",
    "SessionLocal = sessionmaker(autocommit=False, autoflush=False, bind=engine)\n",
    "db = SessionLocal()\n",
    "\n",
    "# --- Step 5: Add a User ---\n",
    "new_user = User(name=\"Alice\", email=\"alice@example.com\")\n",
    "db.add(new_user)\n",
    "db.commit()\n",
    "db.refresh(new_user)\n",
    "\n",
    "print(\"User created with ID:\", new_user.id)\n",
    "db.close()"
   ]
  },
  {
   "cell_type": "code",
   "execution_count": null,
   "id": "8783234e",
   "metadata": {},
   "outputs": [],
   "source": []
  }
 ],
 "metadata": {
  "kernelspec": {
   "display_name": "streamlit",
   "language": "python",
   "name": "python3"
  },
  "language_info": {
   "codemirror_mode": {
    "name": "ipython",
    "version": 3
   },
   "file_extension": ".py",
   "mimetype": "text/x-python",
   "name": "python",
   "nbconvert_exporter": "python",
   "pygments_lexer": "ipython3",
   "version": "3.13.5"
  }
 },
 "nbformat": 4,
 "nbformat_minor": 5
}
