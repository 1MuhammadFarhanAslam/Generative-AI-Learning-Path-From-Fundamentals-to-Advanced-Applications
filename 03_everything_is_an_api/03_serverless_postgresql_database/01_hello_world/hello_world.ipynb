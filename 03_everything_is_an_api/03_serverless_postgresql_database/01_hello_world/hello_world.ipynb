{
 "cells": [
  {
   "cell_type": "markdown",
   "id": "ed858bba",
   "metadata": {},
   "source": [
    "- https://console.neon.tech\n",
    "- https://neon.com/docs/guides/sqlalchemy#create-an-sqlalchemy-engine-for-your-neon-project\n",
    "- https://neon.com/"
   ]
  },
  {
   "cell_type": "code",
   "execution_count": 1,
   "id": "5f5f636c",
   "metadata": {},
   "outputs": [
    {
     "name": "stdout",
     "output_type": "stream",
     "text": [
      "Collecting psycopg2-binary (from -r requirements.txt (line 1))\n",
      "  Downloading psycopg2_binary-2.9.10-cp313-cp313-win_amd64.whl.metadata (4.8 kB)\n",
      "Collecting SQLAlchemy (from -r requirements.txt (line 2))\n",
      "  Downloading sqlalchemy-2.0.41-cp313-cp313-win_amd64.whl.metadata (9.8 kB)\n",
      "Collecting greenlet>=1 (from SQLAlchemy->-r requirements.txt (line 2))\n",
      "  Downloading greenlet-3.2.3-cp313-cp313-win_amd64.whl.metadata (4.2 kB)\n",
      "Requirement already satisfied: typing-extensions>=4.6.0 in c:\\users\\farhanarain\\anaconda3\\envs\\streamlit\\lib\\site-packages (from SQLAlchemy->-r requirements.txt (line 2)) (4.14.1)\n",
      "Downloading psycopg2_binary-2.9.10-cp313-cp313-win_amd64.whl (2.6 MB)\n",
      "   ---------------------------------------- 0.0/2.6 MB ? eta -:--:--\n",
      "   -------- ------------------------------- 0.5/2.6 MB 2.9 MB/s eta 0:00:01\n",
      "   ---------------- ----------------------- 1.0/2.6 MB 3.5 MB/s eta 0:00:01\n",
      "   -------------------------------- ------- 2.1/2.6 MB 3.7 MB/s eta 0:00:01\n",
      "   ---------------------------------------- 2.6/2.6 MB 3.6 MB/s eta 0:00:00\n",
      "Downloading sqlalchemy-2.0.41-cp313-cp313-win_amd64.whl (2.1 MB)\n",
      "   ---------------------------------------- 0.0/2.1 MB ? eta -:--:--\n",
      "   ---- ----------------------------------- 0.3/2.1 MB ? eta -:--:--\n",
      "   --------- ------------------------------ 0.5/2.1 MB 1.1 MB/s eta 0:00:02\n",
      "   -------------- ------------------------- 0.8/2.1 MB 1.2 MB/s eta 0:00:02\n",
      "   ------------------- -------------------- 1.0/2.1 MB 1.2 MB/s eta 0:00:01\n",
      "   ----------------------------- ---------- 1.6/2.1 MB 1.2 MB/s eta 0:00:01\n",
      "   ---------------------------------- ----- 1.8/2.1 MB 1.2 MB/s eta 0:00:01\n",
      "   ---------------------------------------- 2.1/2.1 MB 1.2 MB/s eta 0:00:00\n",
      "Downloading greenlet-3.2.3-cp313-cp313-win_amd64.whl (297 kB)\n",
      "Installing collected packages: psycopg2-binary, greenlet, SQLAlchemy\n",
      "\n",
      "   ---------------------------------------- 0/3 [psycopg2-binary]\n",
      "   ------------- -------------------------- 1/3 [greenlet]\n",
      "   ------------- -------------------------- 1/3 [greenlet]\n",
      "   ------------- -------------------------- 1/3 [greenlet]\n",
      "   -------------------------- ------------- 2/3 [SQLAlchemy]\n",
      "   -------------------------- ------------- 2/3 [SQLAlchemy]\n",
      "   -------------------------- ------------- 2/3 [SQLAlchemy]\n",
      "   -------------------------- ------------- 2/3 [SQLAlchemy]\n",
      "   -------------------------- ------------- 2/3 [SQLAlchemy]\n",
      "   -------------------------- ------------- 2/3 [SQLAlchemy]\n",
      "   -------------------------- ------------- 2/3 [SQLAlchemy]\n",
      "   -------------------------- ------------- 2/3 [SQLAlchemy]\n",
      "   -------------------------- ------------- 2/3 [SQLAlchemy]\n",
      "   -------------------------- ------------- 2/3 [SQLAlchemy]\n",
      "   -------------------------- ------------- 2/3 [SQLAlchemy]\n",
      "   -------------------------- ------------- 2/3 [SQLAlchemy]\n",
      "   -------------------------- ------------- 2/3 [SQLAlchemy]\n",
      "   -------------------------- ------------- 2/3 [SQLAlchemy]\n",
      "   -------------------------- ------------- 2/3 [SQLAlchemy]\n",
      "   -------------------------- ------------- 2/3 [SQLAlchemy]\n",
      "   -------------------------- ------------- 2/3 [SQLAlchemy]\n",
      "   -------------------------- ------------- 2/3 [SQLAlchemy]\n",
      "   -------------------------- ------------- 2/3 [SQLAlchemy]\n",
      "   -------------------------- ------------- 2/3 [SQLAlchemy]\n",
      "   -------------------------- ------------- 2/3 [SQLAlchemy]\n",
      "   ---------------------------------------- 3/3 [SQLAlchemy]\n",
      "\n",
      "Successfully installed SQLAlchemy-2.0.41 greenlet-3.2.3 psycopg2-binary-2.9.10\n",
      "Note: you may need to restart the kernel to use updated packages.\n"
     ]
    }
   ],
   "source": [
    "%pip install -r requirements.txt"
   ]
  },
  {
   "cell_type": "code",
   "execution_count": 16,
   "id": "8397baf6",
   "metadata": {},
   "outputs": [],
   "source": [
    "from dotenv import load_dotenv, find_dotenv\n",
    "import os\n",
    "import sqlalchemy\n",
    "import os\n",
    "from sqlalchemy import create_engine\n",
    "from sqlalchemy.engine import Engine"
   ]
  },
  {
   "cell_type": "code",
   "execution_count": 4,
   "id": "fd876fc3",
   "metadata": {},
   "outputs": [],
   "source": [
    "_ = load_dotenv(find_dotenv())"
   ]
  },
  {
   "cell_type": "code",
   "execution_count": 5,
   "id": "3df62887",
   "metadata": {},
   "outputs": [
    {
     "data": {
      "text/plain": [
       "True"
      ]
     },
     "execution_count": 5,
     "metadata": {},
     "output_type": "execute_result"
    }
   ],
   "source": [
    "_"
   ]
  },
  {
   "cell_type": "code",
   "execution_count": 18,
   "id": "297208cb",
   "metadata": {},
   "outputs": [],
   "source": [
    "# Get connection string from environment variable\n",
    "conn_str = os.environ.get('CONNECTION_STRING')\n",
    "\n",
    "# Optional: Handle missing connection string\n",
    "if not conn_str:\n",
    "    raise ValueError(\"CONNECTION_STRING environment variable not set.\")\n",
    "\n",
    "# Create SQLAlchemy engine\n",
    "engine: Engine = create_engine(conn_str)"
   ]
  },
  {
   "cell_type": "code",
   "execution_count": 19,
   "id": "0caa3f4a",
   "metadata": {},
   "outputs": [
    {
     "name": "stdout",
     "output_type": "stream",
     "text": [
      "[('hello world',)]\n"
     ]
    }
   ],
   "source": [
    "from sqlalchemy import text\n",
    "\n",
    "with engine.connect() as conn:\n",
    "    result = conn.execute(text(\"select 'hello world'\"))\n",
    "    print(result.all())"
   ]
  }
 ],
 "metadata": {
  "kernelspec": {
   "display_name": "streamlit",
   "language": "python",
   "name": "python3"
  },
  "language_info": {
   "codemirror_mode": {
    "name": "ipython",
    "version": 3
   },
   "file_extension": ".py",
   "mimetype": "text/x-python",
   "name": "python",
   "nbconvert_exporter": "python",
   "pygments_lexer": "ipython3",
   "version": "3.13.5"
  }
 },
 "nbformat": 4,
 "nbformat_minor": 5
}
